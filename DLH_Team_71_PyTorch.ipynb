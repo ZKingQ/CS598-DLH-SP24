{
 "nbformat": 4,
 "nbformat_minor": 0,
 "metadata": {
  "colab": {
   "provenance": [],
   "gpuType": "T4"
  },
  "kernelspec": {
   "name": "python3",
   "display_name": "Python 3 (ipykernel)",
   "language": "python"
  },
  "language_info": {
   "name": "python"
  },
  "accelerator": "GPU"
 },
 "cells": [
  {
   "cell_type": "markdown",
   "metadata": {
    "id": "view-in-github"
   },
   "source": [
    "<a href=\"https://colab.research.google.com/github/ZKingQ/CS598-DLH-SP24/blob/main/DLH_Team_71_Tensorflow.ipynb\" target=\"_parent\"><img src=\"https://colab.research.google.com/assets/colab-badge.svg\" alt=\"Open In Colab\"/></a>"
   ]
  },
  {
   "cell_type": "markdown",
   "source": [
    "# CS598 Deep Learning for Healthcare - Final Project - DeepMicro: Deep Representation Learning for Disease Prediction based on Microbiome Data\n",
    "\n",
    "### Lotte Zhu, Kaiqing Zhang, Matthew Trueblood (Team ID: 71)\n",
    "#### GitHub Link: https://github.com/ZKingQ/CS598-DLH-SP24"
   ],
   "metadata": {
    "id": "nfyi6FdlRDyg"
   }
  },
  {
   "cell_type": "markdown",
   "source": [
    "# Data loading\n",
    "\n",
    "We will load and unzip the data from where it is hosted on a public cloud (google drive)"
   ],
   "metadata": {
    "id": "4GgEZq5NEHEr"
   }
  },
  {
   "cell_type": "code",
   "source": [
    "import os\n",
    "import requests\n",
    "from zipfile import ZipFile\n",
    "from io import BytesIO\n",
    "\n",
    "def fetch_data_from_remote():\n",
    "    # cloud location where the .zip file of the data used by this project is stored\n",
    "    url = 'https://drive.google.com/file/d/1c6ZPVp346e1wQH6opg4YwlCRjRgfTXCk/view?usp=drive_link'\n",
    "    \n",
    "    file_id = url.split('/')[-2]\n",
    "    dwn_url = 'https://drive.google.com/uc?export=download&id=' + file_id\n",
    "    \n",
    "    # unzip the data into the local working directory\n",
    "    response = requests.get(dwn_url)\n",
    "    zip_content = BytesIO(response.content)\n",
    "    with ZipFile(zip_content, 'r') as main_zip:\n",
    "        main_zip.extractall()\n",
    "        with main_zip.open('data/abundance.zip') as nested_zip_abundance:\n",
    "            with ZipFile(nested_zip_abundance) as zip_ref_abundance:\n",
    "                zip_ref_abundance.extractall('data/abundance')\n",
    "    \n",
    "        with main_zip.open('data/marker.zip') as nested_zip_marker:\n",
    "            with ZipFile(nested_zip_marker) as zip_ref_marker:\n",
    "                zip_ref_marker.extractall('data/marker')\n",
    "                \n",
    "if os.path.exists('data'):\n",
    "    print(\"Data already exists locally\")\n",
    "else:\n",
    "    fetch_data_from_remote()\n",
    "    print(\"Data fetched and unzipped successfully\")\n",
    "\n",
    "# show that the data is available locally now\n",
    "!ls data/abundance/\n",
    "!ls data/marker/"
   ],
   "metadata": {
    "colab": {
     "base_uri": "https://localhost:8080/"
    },
    "id": "cVvy195VEGx2",
    "executionInfo": {
     "status": "ok",
     "timestamp": 1713259665005,
     "user_tz": -480,
     "elapsed": 4368,
     "user": {
      "displayName": "Matthew Trueblood",
      "userId": "15616931629528810327"
     }
    },
    "outputId": "920d842d-4fea-4ac7-a6bf-61f120b2e382",
    "ExecuteTime": {
     "end_time": "2024-04-29T11:46:58.906944Z",
     "start_time": "2024-04-29T11:46:58.653059Z"
    }
   },
   "outputs": [
    {
     "name": "stdout",
     "output_type": "stream",
     "text": [
      "Data already exists locally\n",
      "abundance_Cirrhosis.csv  abundance_IBD.txt        abundance_WT2D.txt\r\n",
      "abundance_Cirrhosis.txt  abundance_Obesity.txt\r\n",
      "abundance_Colorectal.txt abundance_T2D.txt\r\n",
      "marker_Cirrhosis.txt  marker_IBD.txt        marker_T2D.txt\r\n",
      "marker_Colorectal.txt marker_Obesity.txt    marker_WT2D.txt\r\n"
     ]
    }
   ],
   "execution_count": 3
  },
  {
   "metadata": {},
   "cell_type": "code",
   "outputs": [],
   "execution_count": null,
   "source": [
    "label_dict = {\n",
    "    # Controls\n",
    "    'n': 0,\n",
    "    # Chirrhosis\n",
    "    'cirrhosis': 1,\n",
    "    # Colorectal Cancer\n",
    "    'cancer': 1, 'small_adenoma': 0,\n",
    "    # IBD\n",
    "    'ibd_ulcerative_colitis': 1, 'ibd_crohn_disease': 1,\n",
    "    # T2D and WT2D\n",
    "    't2d': 1,\n",
    "    # Obesity\n",
    "    'leaness': 0, 'obesity': 1,\n",
    "}\n",
    "def loadData(data_dir, filename, dtype=None):\n",
    "    feature_string = ''\n",
    "    if filename.split('_')[0] == 'abundance':\n",
    "        feature_string = \"k__\"\n",
    "    if filename.split('_')[0] == 'marker':\n",
    "        feature_string = \"gi|\"\n",
    "    # read file\n",
    "    filename = data_dir + filename\n",
    "    if not os.path.isfile(filename):\n",
    "        print(\"FileNotFoundError: File {} does not exist\".format(filename))\n",
    "        exit()\n",
    "    raw = pd.read_csv(filename, sep='\\t', index_col=0, header=None)\n",
    "\n",
    "    # select rows having feature index identifier string\n",
    "    X = raw.loc[raw.index.str.contains(feature_string, regex=False)].T\n",
    "\n",
    "    # get class labels\n",
    "    Y = raw.loc['disease']\n",
    "    Y = Y.replace(label_dict)\n",
    "\n",
    "    # train and test split\n",
    "    X_train, X_test, y_train, y_test = train_test_split(X.values.astype(dtype), Y.values.astype('int'), test_size=0.2, random_state=seed, stratify=Y.values)\n",
    "    print(\"Train data shape: \", X_train.shape)\n",
    "    print(\"Test data shape: \", X_test.shape)\n",
    "    return X_train, X_test, y_train, y_test"
   ]
  },
  {
   "cell_type": "markdown",
   "source": [
    "# Introduction\n",
    "<!-- This is an introduction to your report, you should edit this text/mardown section to compose. In this text/markdown, you should introduce:\n",
    "\n",
    "*   Background of the problem\n",
    "  * what type of problem: disease/readmission/mortality prediction,  feature engineeing, data processing, etc\n",
    "  * what is the importance/meaning of solving the problem\n",
    "  * what is the difficulty of the problem\n",
    "  * the state of the art methods and effectiveness.\n",
    "*   Paper explanation\n",
    "  * what did the paper propose\n",
    "  * what is the innovations of the method\n",
    "  * how well the proposed method work (in its own metrics)\n",
    "  * what is the contribution to the reasearch regime (referring the Background above, how important the paper is to the problem). -->\n",
    "\n",
    "\n",
    "The expanding knowledge of microbiota uncovers its crucial role in human health [1]. It plays an important role in immune system, metabolism functions and even carcinognesis of certain cancers, hence microbiota can be used to predict various disease with emerging sequencing technologies [1,2,3,4,5,6]. However, there are three major challenges to realize the predictions in practice [7]. First, the low number of samples, together with the large number of features, leads to the curse of dimensionality. Second, there is a research gap in using strain-level profiles to classify samples into patient and healthy control groups across different diseases. Third, a rigorous validation framework is essential. Prior research has shown that tuning hyperparameters on the test set without a separate validation set may lead to an overestimation of model performance [8,9,10].\n",
    "\n",
    "The DeepMicro paper proposes the deployment of autoencoders to learn low-dimensional representations from microbiota data and then predict disease by another classification model based on the learned representations, with both trainings having thorough validation schemes [7]. The authors hypothesize that these innovations can contribute to the followings:\n",
    "\n",
    "1. The appropriate autoencoders can effectively solve the curse of dimensionality.\n",
    "\n",
    "2. They also reduce latency compared with alternative models without representation learing, in the mean time maintaining favorable training metrics.\n",
    "\n",
    "In this project, our primary objective revolves around the implementation and evaluation of various autoencoder architectures. We aim to validate the disease prediction capabilities as outlined in the paper. Furthermore, we discuss the ablations inherent in the innovation of autoencoder. The rationale for choosing this paper stems from our pursuit of knowledge in deep representation learning.\n"
   ],
   "metadata": {
    "id": "MQ0sNuMePBXx"
   }
  },
  {
   "cell_type": "markdown",
   "source": [
    "# Scope of Reproducibility:\n",
    "\n",
    "<!-- List hypotheses from the paper you will test and the corresponding experiments you will run.\n",
    "\n",
    "\n",
    "1.   Hypothesis 1: xxxxxxx\n",
    "2.   Hypothesis 2: xxxxxxx\n",
    "\n",
    "You can insert images in this notebook text, [see this link](https://stackoverflow.com/questions/50670920/how-to-insert-an-inline-image-in-google-colaboratory-from-google-drive) and example below:\n",
    "\n",
    "![sample_image.png](https://drive.google.com/uc?export=view&id=1g2efvsRJDxTxKz-OY3loMhihrEUdBxbc)\n",
    "\n",
    "\n",
    "You can also use code to display images, see the code below.\n",
    "\n",
    "The images must be saved in Google Drive first.\n",
    "\n",
    "-->\n",
    "\n",
    "Our team achieved successful replication of the model by leveraging its open source codebase, resulting in metrics that are comparable to those showcased in the DeepMicro paper. In our endeavor, we thoroughly examined and addressed the claims below put forth in the original paper.\n",
    "\n",
    "1. **Dimensionality reduction engineering with traditional statistical techniques including Principal Component Analysis (PCA) and Gaussian Random Projection (GRP)**\n",
    "\n",
    "- Principal Component Analysis (PCA) aims to capture the most significant patterns and variations in a dataset by identifying orthogonal axes, known as principal components, that maximize the data variance.\n",
    "- Gaussian Random Projection (GRP) seeks to preserve pairwise distances between data points by projecting them onto a lower-dimensional space using random projections drawn from a Gaussian distribution.\n",
    "\n",
    "2. **Innovated representation learning employing with four different autoencoders including Shallow Autoencoder (SAE), Deep Autoencoder (DAE), Variational Autoencoder (VAE), and Convolutional Autoencoder (CAE)**\n",
    "\n",
    "- Shallow Autoencoder (SAE): This is the simplest form of an autoencoder, consisting of a fully\n",
    "connected encoder layer and a decoder layer. The latent representation is obtained from the encoder\n",
    "layer, which is a lower-dimensional space compared to the original input.\n",
    "- Deep Autoencoder (DAE): In addition to the encoder and decoder layers, DAE introduces hidden\n",
    "layers between the input and latent layers and between the latent and output layers. Rectified Linear\n",
    "Unit (ReLU) activation functions are used in the hidden layers.\n",
    "- Variational Autoencoder (VAE): VAE learns probabilistic representations by approximating the\n",
    "true posterior distribution of latent embeddings. It assumes that the posterior distribution follows\n",
    "a Gaussian distribution. VAE uses an encoder network to encode the means and variances of the\n",
    "Gaussian distribution and samples the latent representation from this distribution. The decoder\n",
    "network then reconstructs the input based on the sampled latent representation.\n",
    "- Convolutional Autoencoder (CAE): Instead of fully connected layers, CAE incorporates convo-\n",
    "lutional layers, where each unit is connected to local regions of the previous layer. Convolutional layers use filters (kernels) to perform convolution operations. CAE employs convolutional transpose layers (deconvolutional layers) to make the decoder symmetric to the encoder. No pooling layers\n",
    "are used in CAE.\n",
    "\n",
    "3. **Classification learning including including Support Vector Machine (SVM), Random Forest (RF), and Multi-Layer Perceptron (MLP)**\n",
    "- Support Vector Machine (SVM) is a supervised learning algorithm that aims to find an optimal hyperplane to classify data by maximizing the margin between different classes.\n",
    "- Random Forest (RF) is an ensemble learning method that constructs a multitude of decision trees and combines their predictions to make classifications.\n",
    "- Multi-Layer Perceptron (MLP) is a type of neural network that consists of multiple layers of interconnected nodes, enabling it to learn non-linear relationships and perform classification tasks.\n"
   ],
   "metadata": {
    "id": "uygL9tTPSVHB"
   }
  },
  {
   "cell_type": "markdown",
   "source": [
    "# Methodology\n",
    "\n",
    "This methodology is the core of your project. It consists of run-able codes with necessary annotations to show the expeiment you executed for testing the hypotheses.\n",
    "\n",
    "The methodology at least contains two subsections **data** and **model** in your experiment."
   ],
   "metadata": {
    "id": "xWAHJ_1CdtaA"
   }
  },
  {
   "cell_type": "markdown",
   "source": [
    "## Environment Set Up and Packages Import"
   ],
   "metadata": {
    "id": "zPov0WCKWbPh"
   }
  },
  {
   "cell_type": "code",
   "source": [
    "# Python version\n",
    "!python --version"
   ],
   "metadata": {
    "id": "oTXyVLh8YFl7",
    "colab": {
     "base_uri": "https://localhost:8080/"
    },
    "outputId": "53bda194-f791-4667-9ce8-28fde4701c72",
    "executionInfo": {
     "status": "ok",
     "timestamp": 1713259665005,
     "user_tz": -480,
     "elapsed": 5,
     "user": {
      "displayName": "Matthew Trueblood",
      "userId": "15616931629528810327"
     }
    }
   },
   "execution_count": 2,
   "outputs": [
    {
     "output_type": "stream",
     "name": "stdout",
     "text": [
      "Python 3.10.12\n"
     ]
    }
   ]
  },
  {
   "cell_type": "code",
   "source": [
    "# import packages needed in this project\n",
    "import numpy as np\n",
    "import pandas as pd\n",
    "import time\n",
    "import json\n",
    "import datetime\n",
    "import math\n",
    "import matplotlib\n",
    "matplotlib.use('agg')\n",
    "import matplotlib.pyplot as plt\n",
    "\n",
    "from sklearn.model_selection import train_test_split\n",
    "from sklearn.decomposition import PCA\n",
    "from sklearn.random_projection import GaussianRandomProjection\n",
    "from sklearn.model_selection import GridSearchCV\n",
    "from sklearn.svm import SVC\n",
    "from sklearn.ensemble import RandomForestClassifier\n",
    "from sklearn.model_selection import StratifiedKFold\n",
    "from sklearn.metrics import roc_auc_score\n",
    "from sklearn.metrics import accuracy_score\n",
    "from sklearn.metrics import precision_score\n",
    "from sklearn.metrics import recall_score\n",
    "from sklearn.metrics import f1_score\n",
    "\n",
    "# importing PyTorch\n",
    "import torch\n",
    "import torch.nn as nn\n",
    "import torch.nn.functional as F\n",
    "import torchvision"
   ],
   "metadata": {
    "id": "Lyf5Jfp7sGWw",
    "executionInfo": {
     "status": "ok",
     "timestamp": 1713259704471,
     "user_tz": -480,
     "elapsed": 1924,
     "user": {
      "displayName": "Matthew Trueblood",
      "userId": "15616931629528810327"
     }
    },
    "ExecuteTime": {
     "end_time": "2024-04-29T11:48:38.502933Z",
     "start_time": "2024-04-29T11:48:33.190976Z"
    }
   },
   "outputs": [],
   "execution_count": 5
  },
  {
   "cell_type": "markdown",
   "source": [
    "##  Data\n",
    "Data includes raw data (MIMIC III tables), descriptive statistics (our homework questions), and data processing (feature engineering).\n",
    "  * Source of the data: where the data is collected from; if data is synthetic or self-generated, explain how. If possible, please provide a link to the raw datasets.\n",
    "  * Statistics: include basic descriptive statistics of the dataset like size, cross validation split, label distribution, etc.\n",
    "  * Data process: how do you munipulate the data, e.g., change the class labels, split the dataset to train/valid/test, refining the dataset.\n",
    "  * Illustration: printing results, plotting figures for illustration.\n",
    "  * You can upload your raw dataset to Google Drive and mount this Colab to the same directory. If your raw dataset is too large, you can upload the processed dataset and have a code to load the processed dataset."
   ],
   "metadata": {
    "id": "2NbPHUTMbkD3"
   }
  },
  {
   "cell_type": "markdown",
   "source": [
    "### Data Path"
   ],
   "metadata": {
    "id": "XrtmVFrvcW6p"
   }
  },
  {
   "cell_type": "markdown",
   "source": [
    "We downloaded two datasets, abundance and marker from the [DeepMicro codebase](https://github.com/minoh0201/DeepMicro/tree/master/data). They are stored in the following path after you've downloaded them."
   ],
   "metadata": {
    "id": "SRRY_dsgYL2Q"
   }
  },
  {
   "cell_type": "code",
   "source": [
    "# data dir\n",
    "raw_data_dir = 'data/'"
   ],
   "metadata": {
    "id": "yGCbNWqfcRcs",
    "executionInfo": {
     "status": "ok",
     "timestamp": 1713259704471,
     "user_tz": -480,
     "elapsed": 8,
     "user": {
      "displayName": "Matthew Trueblood",
      "userId": "15616931629528810327"
     }
    },
    "ExecuteTime": {
     "end_time": "2024-04-29T11:48:47.979130Z",
     "start_time": "2024-04-29T11:48:47.975250Z"
    }
   },
   "outputs": [],
   "execution_count": 6
  },
  {
   "cell_type": "markdown",
   "source": [
    "### Data Description\n",
    "\n",
    "Our reproductivity utilizes the same datasets as the original paper, which include six disease (Table 1). They are inflammatory bowel disease (IBD), type 2 diabetes in European women (EW-T2D), type 2 diabetes in Chinese (C-T2D), obesity (Obesity), liver cirrhosis (Cirrhosis), and colorectal cancer (Colorectal).\n",
    "![](assets/Data_Table1.png)\n",
    "\n",
    "In each dataset, marker profile and abundance profile of microbiome are used to train our models (Table 2).\n",
    "![](assets/Data_Table2.png)\n",
    "\n",
    "All the data are stored in txt format and the data path structure is as following.\n",
    "```\n",
    ".\n",
    "├── ...\n",
    "├── data                              # Data folder\n",
    "│   ├── marker                        # Marker profile data\n",
    "│       ├── marker_IBD.txt            # Inflammatory bowel disease (IBD)\n",
    "│       ├── marker_WT2D.txt           # Type 2 diabetes in European women (EW-T2D)\n",
    "│       ├── marker_T2D.txt            # Type 2 diabetes in Chinese (C-T2D)\n",
    "│       ├── marker_Obesity.txt        # Obesity (Obesity)\n",
    "│       ├── marker_Cirrhosis.txt      # Liver cirrhosis (Cirrhosis)\n",
    "│       ├── marker_Colorectal.txt     # Colorectal cancer (Colorectal)\n",
    "│   ├── abundance                     # Abundance profile data\n",
    "│       ├── abundance_IBD.txt         # Inflammatory bowel disease (IBD)\n",
    "│       ├── abundance_WT2D.txt        # Type 2 diabetes in European women (EW-T2D)\n",
    "│       ├── abundance_T2D.txt         # Type 2 diabetes in Chinese (C-T2D)\n",
    "│       ├── abundance_Obesity.txt     # Obesity (Obesity)\n",
    "│       ├── abundance_Cirrhosis.txt   # Liver cirrhosis (Cirrhosis)\n",
    "│       ├── abundance_Colorectal.txt  # Colorectal cancer (Colorectal)\n",
    "└── ...\n",
    "```\n",
    "In each txt file, it has different number of features and data points as shown in Table 1 and Table 2 above. In the sample demonstration below. The colorectal cancer of microbiome abundance profile has 503 features (exluding those dummy labels) and 121 entries.\n",
    "\n"
   ],
   "metadata": {
    "id": "FJNbhZZ7cTjS"
   }
  },
  {
   "cell_type": "code",
   "source": [
    "# Extract a sample data of colorectal cancer of microbiome abundance profile\n",
    "sample = pd.read_csv(os.path.join(raw_data_dir, \"abundance\", \"abundance_Colorectal.txt\"), sep='\\t', index_col=0, header=None)\n",
    "sample = sample.T\n",
    "sample.head(10)"
   ],
   "metadata": {
    "id": "BYGSgWXzjdeX",
    "colab": {
     "base_uri": "https://localhost:8080/",
     "height": 585
    },
    "outputId": "175ebdd7-281b-4dad-8378-6fe7dad1544d",
    "executionInfo": {
     "status": "ok",
     "timestamp": 1713259704471,
     "user_tz": -480,
     "elapsed": 8,
     "user": {
      "displayName": "Matthew Trueblood",
      "userId": "15616931629528810327"
     }
    },
    "ExecuteTime": {
     "end_time": "2024-04-29T11:51:20.979319Z",
     "start_time": "2024-04-29T11:51:20.828998Z"
    }
   },
   "outputs": [
    {
     "data": {
      "text/plain": [
       "0                     dataset_name            sampleID subjectID bodysite  \\\n",
       "1   Zeller_fecal_colorectal_cancer  CCIS00146684ST-4-0    fr-726    stool   \n",
       "2   Zeller_fecal_colorectal_cancer  CCIS00281083ST-3-0    fr-060    stool   \n",
       "3   Zeller_fecal_colorectal_cancer  CCIS02124300ST-4-0    fr-568    stool   \n",
       "4   Zeller_fecal_colorectal_cancer  CCIS02379307ST-4-0    fr-828    stool   \n",
       "5   Zeller_fecal_colorectal_cancer  CCIS03473770ST-4-0    fr-192    stool   \n",
       "6   Zeller_fecal_colorectal_cancer  CCIS06260551ST-3-0    fr-200    stool   \n",
       "7   Zeller_fecal_colorectal_cancer  CCIS07539127ST-4-0    fr-460    stool   \n",
       "8   Zeller_fecal_colorectal_cancer  CCIS07648107ST-4-0    fr-053    stool   \n",
       "9   Zeller_fecal_colorectal_cancer  CCIS08668806ST-3-0    fr-214    stool   \n",
       "10  Zeller_fecal_colorectal_cancer  CCIS09568613ST-4-0    fr-400    stool   \n",
       "\n",
       "0         disease age  gender country sequencing_technology  pubmedid  ...  \\\n",
       "1               n  72  female  france              Illumina  25432777  ...   \n",
       "2               n  53    male  france              Illumina  25432777  ...   \n",
       "3               n  35    male  france              Illumina  25432777  ...   \n",
       "4          cancer  67    male  france              Illumina  25432777  ...   \n",
       "5               n  29    male  france              Illumina  25432777  ...   \n",
       "6          cancer  58    male  france              Illumina  25432777  ...   \n",
       "7               n  77  female  france              Illumina  25432777  ...   \n",
       "8               n  62  female  france              Illumina  25432777  ...   \n",
       "9   small_adenoma  63    male  france              Illumina  25432777  ...   \n",
       "10              n  67    male  france              Illumina  25432777  ...   \n",
       "\n",
       "0  k__Eukaryota|p__Ascomycota|c__Saccharomycetes|o__Saccharomycetales|f__Saccharomycetaceae|g__Eremothecium|s__Eremothecium_unclassified  \\\n",
       "1                                                   0                                                                                      \n",
       "2                                                   0                                                                                      \n",
       "3                                                   0                                                                                      \n",
       "4                                                   0                                                                                      \n",
       "5                                                   0                                                                                      \n",
       "6                                                   0                                                                                      \n",
       "7                                                   0                                                                                      \n",
       "8                                                   0                                                                                      \n",
       "9                                                   0                                                                                      \n",
       "10                                                  0                                                                                      \n",
       "\n",
       "0  k__Bacteria|p__Firmicutes|c__Bacilli|o__Lactobacillales|f__Lactobacillaceae|g__Lactobacillus|s__Lactobacillus_antri  \\\n",
       "1                                                   0                                                                    \n",
       "2                                                   0                                                                    \n",
       "3                                                   0                                                                    \n",
       "4                                                   0                                                                    \n",
       "5                                                   0                                                                    \n",
       "6                                                   0                                                                    \n",
       "7                                                   0                                                                    \n",
       "8                                                   0                                                                    \n",
       "9                                                   0                                                                    \n",
       "10                                                  0                                                                    \n",
       "\n",
       "0  k__Bacteria|p__Firmicutes|c__Bacilli|o__Bacillales|f__Bacillaceae|g__Lysinibacillus|s__Lysinibacillus_fusiformis  \\\n",
       "1                                                   0                                                                 \n",
       "2                                                   0                                                                 \n",
       "3                                                   0                                                                 \n",
       "4                                                   0                                                                 \n",
       "5                                                   0                                                                 \n",
       "6                                             0.31121                                                                 \n",
       "7                                                   0                                                                 \n",
       "8                                                   0                                                                 \n",
       "9                                                   0                                                                 \n",
       "10                                                  0                                                                 \n",
       "\n",
       "0  k__Archaea|p__Euryarchaeota|c__Methanobacteria|o__Methanobacteriales|f__Methanobacteriaceae|g__Methanobacterium|s__Methanobacterium_unclassified  \\\n",
       "1                                                   0                                                                                                 \n",
       "2                                                   0                                                                                                 \n",
       "3                                                   0                                                                                                 \n",
       "4                                                   0                                                                                                 \n",
       "5                                                   0                                                                                                 \n",
       "6                                                   0                                                                                                 \n",
       "7                                                   0                                                                                                 \n",
       "8                                                   0                                                                                                 \n",
       "9                                                   0                                                                                                 \n",
       "10                                                  0                                                                                                 \n",
       "\n",
       "0  k__Bacteria|p__Firmicutes|c__Bacilli|o__Bacillales|f__Bacillaceae|g__Lysinibacillus|s__Lysinibacillus_boronitolerans  \\\n",
       "1                                                   0                                                                     \n",
       "2                                                   0                                                                     \n",
       "3                                                   0                                                                     \n",
       "4                                                   0                                                                     \n",
       "5                                                   0                                                                     \n",
       "6                                             0.03562                                                                     \n",
       "7                                                   0                                                                     \n",
       "8                                                   0                                                                     \n",
       "9                                                   0                                                                     \n",
       "10                                                  0                                                                     \n",
       "\n",
       "0  k__Bacteria|p__Firmicutes|c__Bacilli|o__Lactobacillales|f__Enterococcaceae|g__Bavariicoccus|s__Bavariicoccus_seileri  \\\n",
       "1                                                   0                                                                     \n",
       "2                                                   0                                                                     \n",
       "3                                                   0                                                                     \n",
       "4                                                   0                                                                     \n",
       "5                                                   0                                                                     \n",
       "6                                                   0                                                                     \n",
       "7                                                   0                                                                     \n",
       "8                                                   0                                                                     \n",
       "9                                                   0                                                                     \n",
       "10                                                  0                                                                     \n",
       "\n",
       "0  k__Bacteria|p__Firmicutes|c__Bacilli|o__Lactobacillales|f__Enterococcaceae|g__Enterococcus|s__Enterococcus_gilvus  \\\n",
       "1                                                   0                                                                  \n",
       "2                                                   0                                                                  \n",
       "3                                                   0                                                                  \n",
       "4                                                   0                                                                  \n",
       "5                                             0.03756                                                                  \n",
       "6                                                   0                                                                  \n",
       "7                                                   0                                                                  \n",
       "8                                                   0                                                                  \n",
       "9                                                   0                                                                  \n",
       "10                                                  0                                                                  \n",
       "\n",
       "0  k__Bacteria|p__Firmicutes|c__Bacilli|o__Lactobacillales|f__Lactobacillaceae|g__Lactobacillus|s__Lactobacillus_otakiensis  \\\n",
       "1                                                   0                                                                         \n",
       "2                                                   0                                                                         \n",
       "3                                                   0                                                                         \n",
       "4                                                   0                                                                         \n",
       "5                                                   0                                                                         \n",
       "6                                                   0                                                                         \n",
       "7                                                   0                                                                         \n",
       "8                                                   0                                                                         \n",
       "9                                                   0                                                                         \n",
       "10                                                  0                                                                         \n",
       "\n",
       "0  k__Bacteria|p__Firmicutes|c__Clostridia|o__Clostridiales|f__Peptococcaceae|g__Desulfotomaculum|s__Desulfotomaculum_ruminis  \\\n",
       "1                                                   0                                                                           \n",
       "2                                                   0                                                                           \n",
       "3                                                   0                                                                           \n",
       "4                                                   0                                                                           \n",
       "5                                                   0                                                                           \n",
       "6                                                   0                                                                           \n",
       "7                                                   0                                                                           \n",
       "8                                                   0                                                                           \n",
       "9                                                   0                                                                           \n",
       "10                                                  0                                                                           \n",
       "\n",
       "0  k__Bacteria|p__Firmicutes|c__Negativicutes|o__Selenomonadales|f__Veillonellaceae|g__Megasphaera|s__Megasphaera_sp_BV3C16_1  \n",
       "1                                                   0                                                                          \n",
       "2                                                   0                                                                          \n",
       "3                                                   0                                                                          \n",
       "4                                                   0                                                                          \n",
       "5                                                   0                                                                          \n",
       "6                                                   0                                                                          \n",
       "7                                                   0                                                                          \n",
       "8                                                   0                                                                          \n",
       "9                                                   0                                                                          \n",
       "10                                                  0                                                                          \n",
       "\n",
       "[10 rows x 714 columns]"
      ],
      "text/html": [
       "<div>\n",
       "<style scoped>\n",
       "    .dataframe tbody tr th:only-of-type {\n",
       "        vertical-align: middle;\n",
       "    }\n",
       "\n",
       "    .dataframe tbody tr th {\n",
       "        vertical-align: top;\n",
       "    }\n",
       "\n",
       "    .dataframe thead th {\n",
       "        text-align: right;\n",
       "    }\n",
       "</style>\n",
       "<table border=\"1\" class=\"dataframe\">\n",
       "  <thead>\n",
       "    <tr style=\"text-align: right;\">\n",
       "      <th></th>\n",
       "      <th>dataset_name</th>\n",
       "      <th>sampleID</th>\n",
       "      <th>subjectID</th>\n",
       "      <th>bodysite</th>\n",
       "      <th>disease</th>\n",
       "      <th>age</th>\n",
       "      <th>gender</th>\n",
       "      <th>country</th>\n",
       "      <th>sequencing_technology</th>\n",
       "      <th>pubmedid</th>\n",
       "      <th>...</th>\n",
       "      <th>k__Eukaryota|p__Ascomycota|c__Saccharomycetes|o__Saccharomycetales|f__Saccharomycetaceae|g__Eremothecium|s__Eremothecium_unclassified</th>\n",
       "      <th>k__Bacteria|p__Firmicutes|c__Bacilli|o__Lactobacillales|f__Lactobacillaceae|g__Lactobacillus|s__Lactobacillus_antri</th>\n",
       "      <th>k__Bacteria|p__Firmicutes|c__Bacilli|o__Bacillales|f__Bacillaceae|g__Lysinibacillus|s__Lysinibacillus_fusiformis</th>\n",
       "      <th>k__Archaea|p__Euryarchaeota|c__Methanobacteria|o__Methanobacteriales|f__Methanobacteriaceae|g__Methanobacterium|s__Methanobacterium_unclassified</th>\n",
       "      <th>k__Bacteria|p__Firmicutes|c__Bacilli|o__Bacillales|f__Bacillaceae|g__Lysinibacillus|s__Lysinibacillus_boronitolerans</th>\n",
       "      <th>k__Bacteria|p__Firmicutes|c__Bacilli|o__Lactobacillales|f__Enterococcaceae|g__Bavariicoccus|s__Bavariicoccus_seileri</th>\n",
       "      <th>k__Bacteria|p__Firmicutes|c__Bacilli|o__Lactobacillales|f__Enterococcaceae|g__Enterococcus|s__Enterococcus_gilvus</th>\n",
       "      <th>k__Bacteria|p__Firmicutes|c__Bacilli|o__Lactobacillales|f__Lactobacillaceae|g__Lactobacillus|s__Lactobacillus_otakiensis</th>\n",
       "      <th>k__Bacteria|p__Firmicutes|c__Clostridia|o__Clostridiales|f__Peptococcaceae|g__Desulfotomaculum|s__Desulfotomaculum_ruminis</th>\n",
       "      <th>k__Bacteria|p__Firmicutes|c__Negativicutes|o__Selenomonadales|f__Veillonellaceae|g__Megasphaera|s__Megasphaera_sp_BV3C16_1</th>\n",
       "    </tr>\n",
       "  </thead>\n",
       "  <tbody>\n",
       "    <tr>\n",
       "      <th>1</th>\n",
       "      <td>Zeller_fecal_colorectal_cancer</td>\n",
       "      <td>CCIS00146684ST-4-0</td>\n",
       "      <td>fr-726</td>\n",
       "      <td>stool</td>\n",
       "      <td>n</td>\n",
       "      <td>72</td>\n",
       "      <td>female</td>\n",
       "      <td>france</td>\n",
       "      <td>Illumina</td>\n",
       "      <td>25432777</td>\n",
       "      <td>...</td>\n",
       "      <td>0</td>\n",
       "      <td>0</td>\n",
       "      <td>0</td>\n",
       "      <td>0</td>\n",
       "      <td>0</td>\n",
       "      <td>0</td>\n",
       "      <td>0</td>\n",
       "      <td>0</td>\n",
       "      <td>0</td>\n",
       "      <td>0</td>\n",
       "    </tr>\n",
       "    <tr>\n",
       "      <th>2</th>\n",
       "      <td>Zeller_fecal_colorectal_cancer</td>\n",
       "      <td>CCIS00281083ST-3-0</td>\n",
       "      <td>fr-060</td>\n",
       "      <td>stool</td>\n",
       "      <td>n</td>\n",
       "      <td>53</td>\n",
       "      <td>male</td>\n",
       "      <td>france</td>\n",
       "      <td>Illumina</td>\n",
       "      <td>25432777</td>\n",
       "      <td>...</td>\n",
       "      <td>0</td>\n",
       "      <td>0</td>\n",
       "      <td>0</td>\n",
       "      <td>0</td>\n",
       "      <td>0</td>\n",
       "      <td>0</td>\n",
       "      <td>0</td>\n",
       "      <td>0</td>\n",
       "      <td>0</td>\n",
       "      <td>0</td>\n",
       "    </tr>\n",
       "    <tr>\n",
       "      <th>3</th>\n",
       "      <td>Zeller_fecal_colorectal_cancer</td>\n",
       "      <td>CCIS02124300ST-4-0</td>\n",
       "      <td>fr-568</td>\n",
       "      <td>stool</td>\n",
       "      <td>n</td>\n",
       "      <td>35</td>\n",
       "      <td>male</td>\n",
       "      <td>france</td>\n",
       "      <td>Illumina</td>\n",
       "      <td>25432777</td>\n",
       "      <td>...</td>\n",
       "      <td>0</td>\n",
       "      <td>0</td>\n",
       "      <td>0</td>\n",
       "      <td>0</td>\n",
       "      <td>0</td>\n",
       "      <td>0</td>\n",
       "      <td>0</td>\n",
       "      <td>0</td>\n",
       "      <td>0</td>\n",
       "      <td>0</td>\n",
       "    </tr>\n",
       "    <tr>\n",
       "      <th>4</th>\n",
       "      <td>Zeller_fecal_colorectal_cancer</td>\n",
       "      <td>CCIS02379307ST-4-0</td>\n",
       "      <td>fr-828</td>\n",
       "      <td>stool</td>\n",
       "      <td>cancer</td>\n",
       "      <td>67</td>\n",
       "      <td>male</td>\n",
       "      <td>france</td>\n",
       "      <td>Illumina</td>\n",
       "      <td>25432777</td>\n",
       "      <td>...</td>\n",
       "      <td>0</td>\n",
       "      <td>0</td>\n",
       "      <td>0</td>\n",
       "      <td>0</td>\n",
       "      <td>0</td>\n",
       "      <td>0</td>\n",
       "      <td>0</td>\n",
       "      <td>0</td>\n",
       "      <td>0</td>\n",
       "      <td>0</td>\n",
       "    </tr>\n",
       "    <tr>\n",
       "      <th>5</th>\n",
       "      <td>Zeller_fecal_colorectal_cancer</td>\n",
       "      <td>CCIS03473770ST-4-0</td>\n",
       "      <td>fr-192</td>\n",
       "      <td>stool</td>\n",
       "      <td>n</td>\n",
       "      <td>29</td>\n",
       "      <td>male</td>\n",
       "      <td>france</td>\n",
       "      <td>Illumina</td>\n",
       "      <td>25432777</td>\n",
       "      <td>...</td>\n",
       "      <td>0</td>\n",
       "      <td>0</td>\n",
       "      <td>0</td>\n",
       "      <td>0</td>\n",
       "      <td>0</td>\n",
       "      <td>0</td>\n",
       "      <td>0.03756</td>\n",
       "      <td>0</td>\n",
       "      <td>0</td>\n",
       "      <td>0</td>\n",
       "    </tr>\n",
       "    <tr>\n",
       "      <th>6</th>\n",
       "      <td>Zeller_fecal_colorectal_cancer</td>\n",
       "      <td>CCIS06260551ST-3-0</td>\n",
       "      <td>fr-200</td>\n",
       "      <td>stool</td>\n",
       "      <td>cancer</td>\n",
       "      <td>58</td>\n",
       "      <td>male</td>\n",
       "      <td>france</td>\n",
       "      <td>Illumina</td>\n",
       "      <td>25432777</td>\n",
       "      <td>...</td>\n",
       "      <td>0</td>\n",
       "      <td>0</td>\n",
       "      <td>0.31121</td>\n",
       "      <td>0</td>\n",
       "      <td>0.03562</td>\n",
       "      <td>0</td>\n",
       "      <td>0</td>\n",
       "      <td>0</td>\n",
       "      <td>0</td>\n",
       "      <td>0</td>\n",
       "    </tr>\n",
       "    <tr>\n",
       "      <th>7</th>\n",
       "      <td>Zeller_fecal_colorectal_cancer</td>\n",
       "      <td>CCIS07539127ST-4-0</td>\n",
       "      <td>fr-460</td>\n",
       "      <td>stool</td>\n",
       "      <td>n</td>\n",
       "      <td>77</td>\n",
       "      <td>female</td>\n",
       "      <td>france</td>\n",
       "      <td>Illumina</td>\n",
       "      <td>25432777</td>\n",
       "      <td>...</td>\n",
       "      <td>0</td>\n",
       "      <td>0</td>\n",
       "      <td>0</td>\n",
       "      <td>0</td>\n",
       "      <td>0</td>\n",
       "      <td>0</td>\n",
       "      <td>0</td>\n",
       "      <td>0</td>\n",
       "      <td>0</td>\n",
       "      <td>0</td>\n",
       "    </tr>\n",
       "    <tr>\n",
       "      <th>8</th>\n",
       "      <td>Zeller_fecal_colorectal_cancer</td>\n",
       "      <td>CCIS07648107ST-4-0</td>\n",
       "      <td>fr-053</td>\n",
       "      <td>stool</td>\n",
       "      <td>n</td>\n",
       "      <td>62</td>\n",
       "      <td>female</td>\n",
       "      <td>france</td>\n",
       "      <td>Illumina</td>\n",
       "      <td>25432777</td>\n",
       "      <td>...</td>\n",
       "      <td>0</td>\n",
       "      <td>0</td>\n",
       "      <td>0</td>\n",
       "      <td>0</td>\n",
       "      <td>0</td>\n",
       "      <td>0</td>\n",
       "      <td>0</td>\n",
       "      <td>0</td>\n",
       "      <td>0</td>\n",
       "      <td>0</td>\n",
       "    </tr>\n",
       "    <tr>\n",
       "      <th>9</th>\n",
       "      <td>Zeller_fecal_colorectal_cancer</td>\n",
       "      <td>CCIS08668806ST-3-0</td>\n",
       "      <td>fr-214</td>\n",
       "      <td>stool</td>\n",
       "      <td>small_adenoma</td>\n",
       "      <td>63</td>\n",
       "      <td>male</td>\n",
       "      <td>france</td>\n",
       "      <td>Illumina</td>\n",
       "      <td>25432777</td>\n",
       "      <td>...</td>\n",
       "      <td>0</td>\n",
       "      <td>0</td>\n",
       "      <td>0</td>\n",
       "      <td>0</td>\n",
       "      <td>0</td>\n",
       "      <td>0</td>\n",
       "      <td>0</td>\n",
       "      <td>0</td>\n",
       "      <td>0</td>\n",
       "      <td>0</td>\n",
       "    </tr>\n",
       "    <tr>\n",
       "      <th>10</th>\n",
       "      <td>Zeller_fecal_colorectal_cancer</td>\n",
       "      <td>CCIS09568613ST-4-0</td>\n",
       "      <td>fr-400</td>\n",
       "      <td>stool</td>\n",
       "      <td>n</td>\n",
       "      <td>67</td>\n",
       "      <td>male</td>\n",
       "      <td>france</td>\n",
       "      <td>Illumina</td>\n",
       "      <td>25432777</td>\n",
       "      <td>...</td>\n",
       "      <td>0</td>\n",
       "      <td>0</td>\n",
       "      <td>0</td>\n",
       "      <td>0</td>\n",
       "      <td>0</td>\n",
       "      <td>0</td>\n",
       "      <td>0</td>\n",
       "      <td>0</td>\n",
       "      <td>0</td>\n",
       "      <td>0</td>\n",
       "    </tr>\n",
       "  </tbody>\n",
       "</table>\n",
       "<p>10 rows × 714 columns</p>\n",
       "</div>"
      ]
     },
     "execution_count": 7,
     "metadata": {},
     "output_type": "execute_result"
    }
   ],
   "execution_count": 7
  },
  {
   "cell_type": "code",
   "source": [
    "# Count the features excluding patients information\n",
    "len([ _ for _ in sample.columns if '|' in _ ])"
   ],
   "metadata": {
    "id": "5EjqDkrWm0lc",
    "colab": {
     "base_uri": "https://localhost:8080/"
    },
    "outputId": "3ddd5c0c-6f0c-4b45-818e-de884fb996a9",
    "executionInfo": {
     "status": "ok",
     "timestamp": 1713259704471,
     "user_tz": -480,
     "elapsed": 6,
     "user": {
      "displayName": "Matthew Trueblood",
      "userId": "15616931629528810327"
     }
    }
   },
   "execution_count": 7,
   "outputs": [
    {
     "output_type": "execute_result",
     "data": {
      "text/plain": [
       "503"
      ]
     },
     "metadata": {},
     "execution_count": 7
    }
   ]
  },
  {
   "cell_type": "code",
   "source": [
    "# Calculate the dimensions of the sameple dataset\n",
    "sample.shape"
   ],
   "metadata": {
    "id": "i93VorpFlPnl",
    "colab": {
     "base_uri": "https://localhost:8080/"
    },
    "outputId": "22523743-f5f3-4025-ca60-fe787f02796c",
    "executionInfo": {
     "status": "ok",
     "timestamp": 1713259704471,
     "user_tz": -480,
     "elapsed": 5,
     "user": {
      "displayName": "Matthew Trueblood",
      "userId": "15616931629528810327"
     }
    }
   },
   "execution_count": 8,
   "outputs": [
    {
     "output_type": "execute_result",
     "data": {
      "text/plain": [
       "(121, 714)"
      ]
     },
     "metadata": {},
     "execution_count": 8
    }
   ]
  },
  {
   "cell_type": "code",
   "source": [
    "# Have a generate descrption of the sample dataset\n",
    "sample.describe().T"
   ],
   "metadata": {
    "id": "PPFi9QXolIoa",
    "colab": {
     "base_uri": "https://localhost:8080/",
     "height": 455
    },
    "outputId": "7aa7c483-421f-4211-c9ae-e1345b0d8eca",
    "executionInfo": {
     "status": "ok",
     "timestamp": 1713259705522,
     "user_tz": -480,
     "elapsed": 1055,
     "user": {
      "displayName": "Matthew Trueblood",
      "userId": "15616931629528810327"
     }
    }
   },
   "execution_count": 9,
   "outputs": [
    {
     "output_type": "execute_result",
     "data": {
      "text/plain": [
       "                                                   count unique  \\\n",
       "0                                                                 \n",
       "dataset_name                                         121      1   \n",
       "sampleID                                             121    121   \n",
       "subjectID                                            121    121   \n",
       "bodysite                                             121      1   \n",
       "disease                                              121      3   \n",
       "...                                                  ...    ...   \n",
       "k__Bacteria|p__Firmicutes|c__Bacilli|o__Lactoba...   121      2   \n",
       "k__Bacteria|p__Firmicutes|c__Bacilli|o__Lactoba...   121      5   \n",
       "k__Bacteria|p__Firmicutes|c__Bacilli|o__Lactoba...   121      2   \n",
       "k__Bacteria|p__Firmicutes|c__Clostridia|o__Clos...   121      2   \n",
       "k__Bacteria|p__Firmicutes|c__Negativicutes|o__S...   121      2   \n",
       "\n",
       "                                                                               top  \\\n",
       "0                                                                                    \n",
       "dataset_name                                        Zeller_fecal_colorectal_cancer   \n",
       "sampleID                                                        CCIS00146684ST-4-0   \n",
       "subjectID                                                                   fr-726   \n",
       "bodysite                                                                     stool   \n",
       "disease                                                                     cancer   \n",
       "...                                                                            ...   \n",
       "k__Bacteria|p__Firmicutes|c__Bacilli|o__Lactoba...                               0   \n",
       "k__Bacteria|p__Firmicutes|c__Bacilli|o__Lactoba...                               0   \n",
       "k__Bacteria|p__Firmicutes|c__Bacilli|o__Lactoba...                               0   \n",
       "k__Bacteria|p__Firmicutes|c__Clostridia|o__Clos...                               0   \n",
       "k__Bacteria|p__Firmicutes|c__Negativicutes|o__S...                               0   \n",
       "\n",
       "                                                   freq  \n",
       "0                                                        \n",
       "dataset_name                                        121  \n",
       "sampleID                                              1  \n",
       "subjectID                                             1  \n",
       "bodysite                                            121  \n",
       "disease                                              48  \n",
       "...                                                 ...  \n",
       "k__Bacteria|p__Firmicutes|c__Bacilli|o__Lactoba...  120  \n",
       "k__Bacteria|p__Firmicutes|c__Bacilli|o__Lactoba...  117  \n",
       "k__Bacteria|p__Firmicutes|c__Bacilli|o__Lactoba...  120  \n",
       "k__Bacteria|p__Firmicutes|c__Clostridia|o__Clos...  120  \n",
       "k__Bacteria|p__Firmicutes|c__Negativicutes|o__S...  120  \n",
       "\n",
       "[714 rows x 4 columns]"
      ],
      "text/html": [
       "\n",
       "  <div id=\"df-1a59bcd2-b04e-483c-ad01-1c236d7b92ee\" class=\"colab-df-container\">\n",
       "    <div>\n",
       "<style scoped>\n",
       "    .dataframe tbody tr th:only-of-type {\n",
       "        vertical-align: middle;\n",
       "    }\n",
       "\n",
       "    .dataframe tbody tr th {\n",
       "        vertical-align: top;\n",
       "    }\n",
       "\n",
       "    .dataframe thead th {\n",
       "        text-align: right;\n",
       "    }\n",
       "</style>\n",
       "<table border=\"1\" class=\"dataframe\">\n",
       "  <thead>\n",
       "    <tr style=\"text-align: right;\">\n",
       "      <th></th>\n",
       "      <th>count</th>\n",
       "      <th>unique</th>\n",
       "      <th>top</th>\n",
       "      <th>freq</th>\n",
       "    </tr>\n",
       "    <tr>\n",
       "      <th>0</th>\n",
       "      <th></th>\n",
       "      <th></th>\n",
       "      <th></th>\n",
       "      <th></th>\n",
       "    </tr>\n",
       "  </thead>\n",
       "  <tbody>\n",
       "    <tr>\n",
       "      <th>dataset_name</th>\n",
       "      <td>121</td>\n",
       "      <td>1</td>\n",
       "      <td>Zeller_fecal_colorectal_cancer</td>\n",
       "      <td>121</td>\n",
       "    </tr>\n",
       "    <tr>\n",
       "      <th>sampleID</th>\n",
       "      <td>121</td>\n",
       "      <td>121</td>\n",
       "      <td>CCIS00146684ST-4-0</td>\n",
       "      <td>1</td>\n",
       "    </tr>\n",
       "    <tr>\n",
       "      <th>subjectID</th>\n",
       "      <td>121</td>\n",
       "      <td>121</td>\n",
       "      <td>fr-726</td>\n",
       "      <td>1</td>\n",
       "    </tr>\n",
       "    <tr>\n",
       "      <th>bodysite</th>\n",
       "      <td>121</td>\n",
       "      <td>1</td>\n",
       "      <td>stool</td>\n",
       "      <td>121</td>\n",
       "    </tr>\n",
       "    <tr>\n",
       "      <th>disease</th>\n",
       "      <td>121</td>\n",
       "      <td>3</td>\n",
       "      <td>cancer</td>\n",
       "      <td>48</td>\n",
       "    </tr>\n",
       "    <tr>\n",
       "      <th>...</th>\n",
       "      <td>...</td>\n",
       "      <td>...</td>\n",
       "      <td>...</td>\n",
       "      <td>...</td>\n",
       "    </tr>\n",
       "    <tr>\n",
       "      <th>k__Bacteria|p__Firmicutes|c__Bacilli|o__Lactobacillales|f__Enterococcaceae|g__Bavariicoccus|s__Bavariicoccus_seileri</th>\n",
       "      <td>121</td>\n",
       "      <td>2</td>\n",
       "      <td>0</td>\n",
       "      <td>120</td>\n",
       "    </tr>\n",
       "    <tr>\n",
       "      <th>k__Bacteria|p__Firmicutes|c__Bacilli|o__Lactobacillales|f__Enterococcaceae|g__Enterococcus|s__Enterococcus_gilvus</th>\n",
       "      <td>121</td>\n",
       "      <td>5</td>\n",
       "      <td>0</td>\n",
       "      <td>117</td>\n",
       "    </tr>\n",
       "    <tr>\n",
       "      <th>k__Bacteria|p__Firmicutes|c__Bacilli|o__Lactobacillales|f__Lactobacillaceae|g__Lactobacillus|s__Lactobacillus_otakiensis</th>\n",
       "      <td>121</td>\n",
       "      <td>2</td>\n",
       "      <td>0</td>\n",
       "      <td>120</td>\n",
       "    </tr>\n",
       "    <tr>\n",
       "      <th>k__Bacteria|p__Firmicutes|c__Clostridia|o__Clostridiales|f__Peptococcaceae|g__Desulfotomaculum|s__Desulfotomaculum_ruminis</th>\n",
       "      <td>121</td>\n",
       "      <td>2</td>\n",
       "      <td>0</td>\n",
       "      <td>120</td>\n",
       "    </tr>\n",
       "    <tr>\n",
       "      <th>k__Bacteria|p__Firmicutes|c__Negativicutes|o__Selenomonadales|f__Veillonellaceae|g__Megasphaera|s__Megasphaera_sp_BV3C16_1</th>\n",
       "      <td>121</td>\n",
       "      <td>2</td>\n",
       "      <td>0</td>\n",
       "      <td>120</td>\n",
       "    </tr>\n",
       "  </tbody>\n",
       "</table>\n",
       "<p>714 rows × 4 columns</p>\n",
       "</div>\n",
       "    <div class=\"colab-df-buttons\">\n",
       "\n",
       "  <div class=\"colab-df-container\">\n",
       "    <button class=\"colab-df-convert\" onclick=\"convertToInteractive('df-1a59bcd2-b04e-483c-ad01-1c236d7b92ee')\"\n",
       "            title=\"Convert this dataframe to an interactive table.\"\n",
       "            style=\"display:none;\">\n",
       "\n",
       "  <svg xmlns=\"http://www.w3.org/2000/svg\" height=\"24px\" viewBox=\"0 -960 960 960\">\n",
       "    <path d=\"M120-120v-720h720v720H120Zm60-500h600v-160H180v160Zm220 220h160v-160H400v160Zm0 220h160v-160H400v160ZM180-400h160v-160H180v160Zm440 0h160v-160H620v160ZM180-180h160v-160H180v160Zm440 0h160v-160H620v160Z\"/>\n",
       "  </svg>\n",
       "    </button>\n",
       "\n",
       "  <style>\n",
       "    .colab-df-container {\n",
       "      display:flex;\n",
       "      gap: 12px;\n",
       "    }\n",
       "\n",
       "    .colab-df-convert {\n",
       "      background-color: #E8F0FE;\n",
       "      border: none;\n",
       "      border-radius: 50%;\n",
       "      cursor: pointer;\n",
       "      display: none;\n",
       "      fill: #1967D2;\n",
       "      height: 32px;\n",
       "      padding: 0 0 0 0;\n",
       "      width: 32px;\n",
       "    }\n",
       "\n",
       "    .colab-df-convert:hover {\n",
       "      background-color: #E2EBFA;\n",
       "      box-shadow: 0px 1px 2px rgba(60, 64, 67, 0.3), 0px 1px 3px 1px rgba(60, 64, 67, 0.15);\n",
       "      fill: #174EA6;\n",
       "    }\n",
       "\n",
       "    .colab-df-buttons div {\n",
       "      margin-bottom: 4px;\n",
       "    }\n",
       "\n",
       "    [theme=dark] .colab-df-convert {\n",
       "      background-color: #3B4455;\n",
       "      fill: #D2E3FC;\n",
       "    }\n",
       "\n",
       "    [theme=dark] .colab-df-convert:hover {\n",
       "      background-color: #434B5C;\n",
       "      box-shadow: 0px 1px 3px 1px rgba(0, 0, 0, 0.15);\n",
       "      filter: drop-shadow(0px 1px 2px rgba(0, 0, 0, 0.3));\n",
       "      fill: #FFFFFF;\n",
       "    }\n",
       "  </style>\n",
       "\n",
       "    <script>\n",
       "      const buttonEl =\n",
       "        document.querySelector('#df-1a59bcd2-b04e-483c-ad01-1c236d7b92ee button.colab-df-convert');\n",
       "      buttonEl.style.display =\n",
       "        google.colab.kernel.accessAllowed ? 'block' : 'none';\n",
       "\n",
       "      async function convertToInteractive(key) {\n",
       "        const element = document.querySelector('#df-1a59bcd2-b04e-483c-ad01-1c236d7b92ee');\n",
       "        const dataTable =\n",
       "          await google.colab.kernel.invokeFunction('convertToInteractive',\n",
       "                                                    [key], {});\n",
       "        if (!dataTable) return;\n",
       "\n",
       "        const docLinkHtml = 'Like what you see? Visit the ' +\n",
       "          '<a target=\"_blank\" href=https://colab.research.google.com/notebooks/data_table.ipynb>data table notebook</a>'\n",
       "          + ' to learn more about interactive tables.';\n",
       "        element.innerHTML = '';\n",
       "        dataTable['output_type'] = 'display_data';\n",
       "        await google.colab.output.renderOutput(dataTable, element);\n",
       "        const docLink = document.createElement('div');\n",
       "        docLink.innerHTML = docLinkHtml;\n",
       "        element.appendChild(docLink);\n",
       "      }\n",
       "    </script>\n",
       "  </div>\n",
       "\n",
       "\n",
       "<div id=\"df-3afca781-c9a1-430a-8a17-8de67c3401e4\">\n",
       "  <button class=\"colab-df-quickchart\" onclick=\"quickchart('df-3afca781-c9a1-430a-8a17-8de67c3401e4')\"\n",
       "            title=\"Suggest charts\"\n",
       "            style=\"display:none;\">\n",
       "\n",
       "<svg xmlns=\"http://www.w3.org/2000/svg\" height=\"24px\"viewBox=\"0 0 24 24\"\n",
       "     width=\"24px\">\n",
       "    <g>\n",
       "        <path d=\"M19 3H5c-1.1 0-2 .9-2 2v14c0 1.1.9 2 2 2h14c1.1 0 2-.9 2-2V5c0-1.1-.9-2-2-2zM9 17H7v-7h2v7zm4 0h-2V7h2v10zm4 0h-2v-4h2v4z\"/>\n",
       "    </g>\n",
       "</svg>\n",
       "  </button>\n",
       "\n",
       "<style>\n",
       "  .colab-df-quickchart {\n",
       "      --bg-color: #E8F0FE;\n",
       "      --fill-color: #1967D2;\n",
       "      --hover-bg-color: #E2EBFA;\n",
       "      --hover-fill-color: #174EA6;\n",
       "      --disabled-fill-color: #AAA;\n",
       "      --disabled-bg-color: #DDD;\n",
       "  }\n",
       "\n",
       "  [theme=dark] .colab-df-quickchart {\n",
       "      --bg-color: #3B4455;\n",
       "      --fill-color: #D2E3FC;\n",
       "      --hover-bg-color: #434B5C;\n",
       "      --hover-fill-color: #FFFFFF;\n",
       "      --disabled-bg-color: #3B4455;\n",
       "      --disabled-fill-color: #666;\n",
       "  }\n",
       "\n",
       "  .colab-df-quickchart {\n",
       "    background-color: var(--bg-color);\n",
       "    border: none;\n",
       "    border-radius: 50%;\n",
       "    cursor: pointer;\n",
       "    display: none;\n",
       "    fill: var(--fill-color);\n",
       "    height: 32px;\n",
       "    padding: 0;\n",
       "    width: 32px;\n",
       "  }\n",
       "\n",
       "  .colab-df-quickchart:hover {\n",
       "    background-color: var(--hover-bg-color);\n",
       "    box-shadow: 0 1px 2px rgba(60, 64, 67, 0.3), 0 1px 3px 1px rgba(60, 64, 67, 0.15);\n",
       "    fill: var(--button-hover-fill-color);\n",
       "  }\n",
       "\n",
       "  .colab-df-quickchart-complete:disabled,\n",
       "  .colab-df-quickchart-complete:disabled:hover {\n",
       "    background-color: var(--disabled-bg-color);\n",
       "    fill: var(--disabled-fill-color);\n",
       "    box-shadow: none;\n",
       "  }\n",
       "\n",
       "  .colab-df-spinner {\n",
       "    border: 2px solid var(--fill-color);\n",
       "    border-color: transparent;\n",
       "    border-bottom-color: var(--fill-color);\n",
       "    animation:\n",
       "      spin 1s steps(1) infinite;\n",
       "  }\n",
       "\n",
       "  @keyframes spin {\n",
       "    0% {\n",
       "      border-color: transparent;\n",
       "      border-bottom-color: var(--fill-color);\n",
       "      border-left-color: var(--fill-color);\n",
       "    }\n",
       "    20% {\n",
       "      border-color: transparent;\n",
       "      border-left-color: var(--fill-color);\n",
       "      border-top-color: var(--fill-color);\n",
       "    }\n",
       "    30% {\n",
       "      border-color: transparent;\n",
       "      border-left-color: var(--fill-color);\n",
       "      border-top-color: var(--fill-color);\n",
       "      border-right-color: var(--fill-color);\n",
       "    }\n",
       "    40% {\n",
       "      border-color: transparent;\n",
       "      border-right-color: var(--fill-color);\n",
       "      border-top-color: var(--fill-color);\n",
       "    }\n",
       "    60% {\n",
       "      border-color: transparent;\n",
       "      border-right-color: var(--fill-color);\n",
       "    }\n",
       "    80% {\n",
       "      border-color: transparent;\n",
       "      border-right-color: var(--fill-color);\n",
       "      border-bottom-color: var(--fill-color);\n",
       "    }\n",
       "    90% {\n",
       "      border-color: transparent;\n",
       "      border-bottom-color: var(--fill-color);\n",
       "    }\n",
       "  }\n",
       "</style>\n",
       "\n",
       "  <script>\n",
       "    async function quickchart(key) {\n",
       "      const quickchartButtonEl =\n",
       "        document.querySelector('#' + key + ' button');\n",
       "      quickchartButtonEl.disabled = true;  // To prevent multiple clicks.\n",
       "      quickchartButtonEl.classList.add('colab-df-spinner');\n",
       "      try {\n",
       "        const charts = await google.colab.kernel.invokeFunction(\n",
       "            'suggestCharts', [key], {});\n",
       "      } catch (error) {\n",
       "        console.error('Error during call to suggestCharts:', error);\n",
       "      }\n",
       "      quickchartButtonEl.classList.remove('colab-df-spinner');\n",
       "      quickchartButtonEl.classList.add('colab-df-quickchart-complete');\n",
       "    }\n",
       "    (() => {\n",
       "      let quickchartButtonEl =\n",
       "        document.querySelector('#df-3afca781-c9a1-430a-8a17-8de67c3401e4 button');\n",
       "      quickchartButtonEl.style.display =\n",
       "        google.colab.kernel.accessAllowed ? 'block' : 'none';\n",
       "    })();\n",
       "  </script>\n",
       "</div>\n",
       "    </div>\n",
       "  </div>\n"
      ],
      "application/vnd.google.colaboratory.intrinsic+json": {
       "type": "dataframe",
       "summary": "{\n  \"name\": \"sample\",\n  \"rows\": 714,\n  \"fields\": [\n    {\n      \"column\": \"count\",\n      \"properties\": {\n        \"dtype\": \"date\",\n        \"min\": \"121\",\n        \"max\": \"121\",\n        \"num_unique_values\": 1,\n        \"samples\": [\n          \"121\"\n        ],\n        \"semantic_type\": \"\",\n        \"description\": \"\"\n      }\n    },\n    {\n      \"column\": \"unique\",\n      \"properties\": {\n        \"dtype\": \"date\",\n        \"min\": 1,\n        \"max\": 121,\n        \"num_unique_values\": 103,\n        \"samples\": [\n          23\n        ],\n        \"semantic_type\": \"\",\n        \"description\": \"\"\n      }\n    },\n    {\n      \"column\": \"top\",\n      \"properties\": {\n        \"dtype\": \"category\",\n        \"num_unique_values\": 21,\n        \"samples\": [\n          \"Zeller_fecal_colorectal_cancer\"\n        ],\n        \"semantic_type\": \"\",\n        \"description\": \"\"\n      }\n    },\n    {\n      \"column\": \"freq\",\n      \"properties\": {\n        \"dtype\": \"date\",\n        \"min\": \"1\",\n        \"max\": \"121\",\n        \"num_unique_values\": 105,\n        \"samples\": [\n          \"77\"\n        ],\n        \"semantic_type\": \"\",\n        \"description\": \"\"\n      }\n    }\n  ]\n}"
      }
     },
     "metadata": {},
     "execution_count": 9
    }
   ]
  },
  {
   "cell_type": "markdown",
   "source": [
    "### Data Process\n",
    "\n",
    "According to the original paper, the data provided in the codebase have been preprocessed and cleaned properly. We only need to extract the labels columns with feature index indentifier to get `X`. Also, we get `Y` from the `disease` column. This step is implemented in the `loadData` function of class `DeepMiccrobiome` in the Model session below.\n",
    "\n",
    "\n"
   ],
   "metadata": {
    "id": "QTkZz-HrofL1"
   }
  },
  {
   "cell_type": "markdown",
   "source": [
    "### Data Use\n",
    "\n",
    "Given the running time of dimensionality reduction is long, we choose to only use the first 10 features of each dataset in order to control the total latency in this draft project."
   ],
   "metadata": {
    "id": "xk5NZf3ToGy6"
   }
  },
  {
   "cell_type": "markdown",
   "source": [
    "##   Model\n",
    "The model includes the model definitation which usually is a class, model training, and other necessary parts.\n",
    "  * Model architecture: layer number/size/type, activation function, etc\n",
    "  * Training objectives: loss function, optimizer, weight of each loss term, etc\n",
    "  * Others: whether the model is pretrained, Monte Carlo simulation for uncertainty analysis, etc\n",
    "  * The code of model should have classes of the model, functions of model training, model validation, etc.\n",
    "  * If your model training is done outside of this notebook, please upload the trained model here and develop a function to load and test it.\n",
    "\n",
    "### Model Architecture\n",
    "\n",
    "An autoencoder represents a type of neural network designed for the purpose of reconstructing its input data, denoted as $x$. In its fundamental structure, it comprises an encoder function, denoted as $f_\\phi(⋅)$, and a decoder function, denoted as $f_\\theta′(⋅)$, with $\\phi$ and $\\theta$ serving as the parameters associated with the encoder and decoder functions, respectively.\n",
    "The training objective of an autoencoder is to minimize the disparity between the original input $x$ and its reconstructed counterpart $x′$. This discrepancy, typically quantified using a reconstruction loss metric such as squared error, can be mathematically expressed as $L(x, x')=||x-x'||^2=||x-f_\\theta'(f_\\phi(x))||^2$.\n",
    "\n",
    "In this project, we focus on the utilization of a trained autoencoder to obtain a lower-dimensional latent representation $z = f_\\phi(x)$ of the input. There are four autoencoders that we incorporate as below.\n",
    "\n",
    "1. Shallow Autoencoder (SAE): a fully connected encoder connecting the input layer to the latent layer, and a decoder producing the reconstructed input $x′$ by combining the outputs of the latent layer using weighted sums, with both the latent and output layers utilizing a linear activation function.\n",
    "\n",
    "2. Deep Autoencoder (DAE): enhanced SAE model by inserting hidden layers with Rectified Linear Unit (ReLu) activation function and Glorot uniform initializer between the input and latent layers, maintaining an equal number of hidden layers (either one or two layers) in both the encoder and decoder sections.\n",
    "\n",
    "3. Variational autoencoder (VAE): it learns probabilistic representations $z$ by approximating the true posterior distribution with $q_\\phi(z|x)$ assuming a Gaussian distribution. The encoder encodes the means and variances of the Gaussian distribution, allowing sampling of latent representation $z$. This sampled representation is then fed into the decoder network to generate the reconstructed input $x′ \\sim g_\\theta(x|z)$.\n",
    "\n",
    "4. convolutional autoencoder (CAE): equipped with convolutional layers where each unit is connected locally to the previous layer. The layers consist of multiple filters with weights for convolution operations. We employed ReLu activation, Glorot uniform initializer, and avoided pooling layers to prevent excessive generalization. The $n$-dimensional input vector was reshaped into a squared image of size $d \\times d \\times 1$, where $d = ⌊ \\sqrt{n} ⌋ + 1$.\n",
    "\n",
    "After getting the low-dimentional representations of profiles, we build classification models.\n",
    "\n",
    "1. Support Vector Machine (SVM): a grid search using SVM is conducted to explore the hyper-parameter space. We considered both radial basis function (RBF) and linear kernels, adjusting penalty parameter C and kernel coefficient gamma for RBF.\n",
    "\n",
    "2. Random Forest (RF): We examine two criteria, Gini impurity and information gain, for selecting features to split a node in a decision tree. The maximum number of features considered for the best split at each node was determined using the square root of the sample size and the logarithm to base 2 of the sample size.\n",
    "\n",
    "3. Multi-Layer Perceptron (MLP): ReLu activations were used for the hidden layers, while the output layer employed sigmoid activation with a single unit. The number of units in the hidden layers was set to half of the preceding layer, excluding the first hidden layer.\n",
    "\n",
    "The overall workflow is demonstrated in the Figure 1 below.\n",
    "\n",
    "![](\"assets/Model_Figure1.png\")\n",
    "\n",
    "### Training Objectives\n",
    "- Split each dataset into a training set, validation set, and test set (64% training, 16% validation, and 20% test).\n",
    "- Exclude the test set from model training.\n",
    "- Implement early-stopping strategy: train models on the training set, compute reconstruction loss for the validation set after each epoch, stop training if no improvement in validation loss is observed for 20 epochs.\n",
    "- Select the model with the lowest validation loss as the best model.\n",
    "Utilize mean squared error as the reconstruction loss metric.\n",
    "- Apply adaptive moment estimation (Adam) optimizer with default parameters (learning rate: 0.001, epsilon: 1e-07) as specified in the original paper.\n",
    "- Utilize the encoder part of the best model to generate low-dimensional representations of microbiome data for subsequent disease prediction tasks.\n",
    "\n",
    "\n",
    "### Evaluations\n",
    "\n",
    "- Conduct 5-fold cross-validation on the reduced training set. This involves dividing the training set into five subsets, using four subsets for training and one for validation in each fold. This is to vary hyper-parameters and explore different combinations to find the best performing configuration.\n",
    "- Evaluate the performance of the models using the area under the receiver operating characteristics curve (AUC). This metric assesses the model's ability to distinguish between different classes and is commonly used for classification tasks.\n",
    "- Train a final classification model using the entire training set and the best hyper-parameter combination identified during cross-validation. This model aims to achieve optimal performance based on the selected configuration. Then test the final classification model on the separate test set, which was not used during training. This evaluation provides an unbiased assessment of the model's performance on unseen data.\n",
    "- Repeat the entire procedure five times, each time using a different random partition seed to create new training, validation, and test sets. This helps account for potential variations in performance due to the specific data splits. Average the resulting AUC scores obtained from the five repetitions. This average serves as a summary metric to compare the performance of different models or approaches. It provides a more robust assessment by considering multiple iterations of the evaluation process."
   ],
   "metadata": {
    "id": "3muyDPFPbozY"
   }
  },
  {
   "cell_type": "markdown",
   "source": [
    "### Autoencoders Definitions\n",
    "\n"
   ],
   "metadata": {
    "id": "c3XEF8AmtwSI"
   }
  },
  {
   "cell_type": "code",
   "source": "",
   "metadata": {
    "id": "pWkNlD2ORZoG",
    "executionInfo": {
     "status": "ok",
     "timestamp": 1713259705522,
     "user_tz": -480,
     "elapsed": 5,
     "user": {
      "displayName": "Matthew Trueblood",
      "userId": "15616931629528810327"
     }
    }
   },
   "execution_count": 11,
   "outputs": []
  },
  {
   "cell_type": "code",
   "source": "",
   "metadata": {
    "id": "79KCL-48RxbA",
    "executionInfo": {
     "status": "ok",
     "timestamp": 1713259705522,
     "user_tz": -480,
     "elapsed": 5,
     "user": {
      "displayName": "Matthew Trueblood",
      "userId": "15616931629528810327"
     }
    }
   },
   "execution_count": 12,
   "outputs": []
  },
  {
   "cell_type": "code",
   "source": "",
   "metadata": {
    "id": "s2hbJUcCjiEY",
    "executionInfo": {
     "status": "ok",
     "timestamp": 1713259705522,
     "user_tz": -480,
     "elapsed": 5,
     "user": {
      "displayName": "Matthew Trueblood",
      "userId": "15616931629528810327"
     }
    }
   },
   "execution_count": 13,
   "outputs": []
  },
  {
   "cell_type": "markdown",
   "source": [
    "### Train Models"
   ],
   "metadata": {
    "id": "LS3jIzt9uj9B"
   }
  },
  {
   "cell_type": "code",
   "source": "",
   "metadata": {
    "id": "5WDva6WosGE6",
    "executionInfo": {
     "status": "ok",
     "timestamp": 1713259705522,
     "user_tz": -480,
     "elapsed": 5,
     "user": {
      "displayName": "Matthew Trueblood",
      "userId": "15616931629528810327"
     }
    }
   },
   "execution_count": 15,
   "outputs": []
  },
  {
   "cell_type": "markdown",
   "source": [
    "### Run Experiments"
   ],
   "metadata": {
    "id": "hY7oRbSRldrn"
   }
  },
  {
   "cell_type": "code",
   "source": "",
   "metadata": {
    "id": "jY5P3723sFjE",
    "executionInfo": {
     "status": "ok",
     "timestamp": 1713259705523,
     "user_tz": -480,
     "elapsed": 5,
     "user": {
      "displayName": "Matthew Trueblood",
      "userId": "15616931629528810327"
     }
    }
   },
   "execution_count": 16,
   "outputs": []
  },
  {
   "cell_type": "markdown",
   "source": [
    "# Results\n",
    "In this section, you should finish training your model training or loading your trained model. That is a great experiment! You should share the results with others with necessary metrics and figures.\n",
    "\n",
    "Please test and report results for all experiments that you run with:\n",
    "\n",
    "*   specific numbers (accuracy, AUC, RMSE, etc)\n",
    "*   figures (loss shrinkage, outputs from GAN, annotation or label of sample pictures, etc)\n",
    "\n",
    "\n",
    "\n",
    "---\n",
    "\n",
    "\n",
    "**Current Progress:**\n",
    "\n",
    "Successfully run model with ae, vae, pca, cae with auc results.\n",
    "\n",
    "**To-Do:**\n",
    "\n",
    "Show figures for each (By Apr 21)"
   ],
   "metadata": {
    "id": "gX6bCcZNuxmz"
   }
  },
  {
   "cell_type": "code",
   "source": "",
   "metadata": {
    "id": "Y4WgUnso82d1",
    "colab": {
     "base_uri": "https://localhost:8080/",
     "height": 1000
    },
    "outputId": "f754b2cf-8593-426b-efec-dc94f586d415",
    "executionInfo": {
     "status": "ok",
     "timestamp": 1713259843552,
     "user_tz": -480,
     "elapsed": 138034,
     "user": {
      "displayName": "Matthew Trueblood",
      "userId": "15616931629528810327"
     }
    }
   },
   "execution_count": 17,
   "outputs": [
    {
     "output_type": "stream",
     "name": "stdout",
     "text": [
      "config ae test\n",
      "loaded data from data/abundance/abundance_Cirrhosis.txt\n",
      "X_train.shape:  (185, 10)\n",
      "y_train.shape:  (185,)\n",
      "X_test.shape:  (47, 10)\n",
      "y_test.shape:  (47,)\n"
     ]
    },
    {
     "output_type": "display_data",
     "data": {
      "text/plain": [
       "\u001B[1mModel: \"functional_1\"\u001B[0m\n"
      ],
      "text/html": [
       "<pre style=\"white-space:pre;overflow-x:auto;line-height:normal;font-family:Menlo,'DejaVu Sans Mono',consolas,'Courier New',monospace\"><span style=\"font-weight: bold\">Model: \"functional_1\"</span>\n",
       "</pre>\n"
      ]
     },
     "metadata": {}
    },
    {
     "output_type": "display_data",
     "data": {
      "text/plain": [
       "┏━━━━━━━━━━━━━━━━━━━━━━━━━━━━━━━━━━━━━━┳━━━━━━━━━━━━━━━━━━━━━━━━━━━━━┳━━━━━━━━━━━━━━━━━┓\n",
       "┃\u001B[1m \u001B[0m\u001B[1mLayer (type)                        \u001B[0m\u001B[1m \u001B[0m┃\u001B[1m \u001B[0m\u001B[1mOutput Shape               \u001B[0m\u001B[1m \u001B[0m┃\u001B[1m \u001B[0m\u001B[1m        Param #\u001B[0m\u001B[1m \u001B[0m┃\n",
       "┡━━━━━━━━━━━━━━━━━━━━━━━━━━━━━━━━━━━━━━╇━━━━━━━━━━━━━━━━━━━━━━━━━━━━━╇━━━━━━━━━━━━━━━━━┩\n",
       "│ input_layer (\u001B[38;5;33mInputLayer\u001B[0m)             │ (\u001B[38;5;45mNone\u001B[0m, \u001B[38;5;34m10\u001B[0m)                  │               \u001B[38;5;34m0\u001B[0m │\n",
       "├──────────────────────────────────────┼─────────────────────────────┼─────────────────┤\n",
       "│ dense (\u001B[38;5;33mDense\u001B[0m)                        │ (\u001B[38;5;45mNone\u001B[0m, \u001B[38;5;34m50\u001B[0m)                  │             \u001B[38;5;34m550\u001B[0m │\n",
       "├──────────────────────────────────────┼─────────────────────────────┼─────────────────┤\n",
       "│ dense_1 (\u001B[38;5;33mDense\u001B[0m)                      │ (\u001B[38;5;45mNone\u001B[0m, \u001B[38;5;34m10\u001B[0m)                  │             \u001B[38;5;34m510\u001B[0m │\n",
       "└──────────────────────────────────────┴─────────────────────────────┴─────────────────┘\n"
      ],
      "text/html": [
       "<pre style=\"white-space:pre;overflow-x:auto;line-height:normal;font-family:Menlo,'DejaVu Sans Mono',consolas,'Courier New',monospace\">┏━━━━━━━━━━━━━━━━━━━━━━━━━━━━━━━━━━━━━━┳━━━━━━━━━━━━━━━━━━━━━━━━━━━━━┳━━━━━━━━━━━━━━━━━┓\n",
       "┃<span style=\"font-weight: bold\"> Layer (type)                         </span>┃<span style=\"font-weight: bold\"> Output Shape                </span>┃<span style=\"font-weight: bold\">         Param # </span>┃\n",
       "┡━━━━━━━━━━━━━━━━━━━━━━━━━━━━━━━━━━━━━━╇━━━━━━━━━━━━━━━━━━━━━━━━━━━━━╇━━━━━━━━━━━━━━━━━┩\n",
       "│ input_layer (<span style=\"color: #0087ff; text-decoration-color: #0087ff\">InputLayer</span>)             │ (<span style=\"color: #00d7ff; text-decoration-color: #00d7ff\">None</span>, <span style=\"color: #00af00; text-decoration-color: #00af00\">10</span>)                  │               <span style=\"color: #00af00; text-decoration-color: #00af00\">0</span> │\n",
       "├──────────────────────────────────────┼─────────────────────────────┼─────────────────┤\n",
       "│ dense (<span style=\"color: #0087ff; text-decoration-color: #0087ff\">Dense</span>)                        │ (<span style=\"color: #00d7ff; text-decoration-color: #00d7ff\">None</span>, <span style=\"color: #00af00; text-decoration-color: #00af00\">50</span>)                  │             <span style=\"color: #00af00; text-decoration-color: #00af00\">550</span> │\n",
       "├──────────────────────────────────────┼─────────────────────────────┼─────────────────┤\n",
       "│ dense_1 (<span style=\"color: #0087ff; text-decoration-color: #0087ff\">Dense</span>)                      │ (<span style=\"color: #00d7ff; text-decoration-color: #00d7ff\">None</span>, <span style=\"color: #00af00; text-decoration-color: #00af00\">10</span>)                  │             <span style=\"color: #00af00; text-decoration-color: #00af00\">510</span> │\n",
       "└──────────────────────────────────────┴─────────────────────────────┴─────────────────┘\n",
       "</pre>\n"
      ]
     },
     "metadata": {}
    },
    {
     "output_type": "display_data",
     "data": {
      "text/plain": [
       "\u001B[1m Total params: \u001B[0m\u001B[38;5;34m1,060\u001B[0m (4.14 KB)\n"
      ],
      "text/html": [
       "<pre style=\"white-space:pre;overflow-x:auto;line-height:normal;font-family:Menlo,'DejaVu Sans Mono',consolas,'Courier New',monospace\"><span style=\"font-weight: bold\"> Total params: </span><span style=\"color: #00af00; text-decoration-color: #00af00\">1,060</span> (4.14 KB)\n",
       "</pre>\n"
      ]
     },
     "metadata": {}
    },
    {
     "output_type": "display_data",
     "data": {
      "text/plain": [
       "\u001B[1m Trainable params: \u001B[0m\u001B[38;5;34m1,060\u001B[0m (4.14 KB)\n"
      ],
      "text/html": [
       "<pre style=\"white-space:pre;overflow-x:auto;line-height:normal;font-family:Menlo,'DejaVu Sans Mono',consolas,'Courier New',monospace\"><span style=\"font-weight: bold\"> Trainable params: </span><span style=\"color: #00af00; text-decoration-color: #00af00\">1,060</span> (4.14 KB)\n",
       "</pre>\n"
      ]
     },
     "metadata": {}
    },
    {
     "output_type": "display_data",
     "data": {
      "text/plain": [
       "\u001B[1m Non-trainable params: \u001B[0m\u001B[38;5;34m0\u001B[0m (0.00 B)\n"
      ],
      "text/html": [
       "<pre style=\"white-space:pre;overflow-x:auto;line-height:normal;font-family:Menlo,'DejaVu Sans Mono',consolas,'Courier New',monospace\"><span style=\"font-weight: bold\"> Non-trainable params: </span><span style=\"color: #00af00; text-decoration-color: #00af00\">0</span> (0.00 B)\n",
       "</pre>\n"
      ]
     },
     "metadata": {}
    },
    {
     "output_type": "stream",
     "name": "stdout",
     "text": [
      "Epoch 1/20\n",
      "\n",
      "Epoch 1: val_loss improved from inf to 0.02659, saving model to AE_m_r_[50]_abundance_Cirrhosis.keras\n",
      "2/2 - 3s - 1s/step - loss: 0.1092 - val_loss: 0.0266\n",
      "Epoch 2/20\n",
      "\n",
      "Epoch 2: val_loss improved from 0.02659 to 0.02549, saving model to AE_m_r_[50]_abundance_Cirrhosis.keras\n",
      "2/2 - 0s - 30ms/step - loss: 0.1044 - val_loss: 0.0255\n",
      "Epoch 3/20\n",
      "\n",
      "Epoch 3: val_loss improved from 0.02549 to 0.02445, saving model to AE_m_r_[50]_abundance_Cirrhosis.keras\n",
      "2/2 - 0s - 61ms/step - loss: 0.1005 - val_loss: 0.0245\n",
      "Epoch 4/20\n",
      "\n",
      "Epoch 4: val_loss improved from 0.02445 to 0.02349, saving model to AE_m_r_[50]_abundance_Cirrhosis.keras\n",
      "2/2 - 0s - 68ms/step - loss: 0.0977 - val_loss: 0.0235\n",
      "Epoch 5/20\n",
      "\n",
      "Epoch 5: val_loss improved from 0.02349 to 0.02263, saving model to AE_m_r_[50]_abundance_Cirrhosis.keras\n",
      "2/2 - 0s - 127ms/step - loss: 0.0933 - val_loss: 0.0226\n",
      "Epoch 6/20\n",
      "\n",
      "Epoch 6: val_loss improved from 0.02263 to 0.02183, saving model to AE_m_r_[50]_abundance_Cirrhosis.keras\n",
      "2/2 - 0s - 39ms/step - loss: 0.0894 - val_loss: 0.0218\n",
      "Epoch 7/20\n",
      "\n",
      "Epoch 7: val_loss improved from 0.02183 to 0.02109, saving model to AE_m_r_[50]_abundance_Cirrhosis.keras\n",
      "2/2 - 0s - 66ms/step - loss: 0.0872 - val_loss: 0.0211\n",
      "Epoch 8/20\n",
      "\n",
      "Epoch 8: val_loss improved from 0.02109 to 0.02041, saving model to AE_m_r_[50]_abundance_Cirrhosis.keras\n",
      "2/2 - 0s - 74ms/step - loss: 0.0832 - val_loss: 0.0204\n",
      "Epoch 9/20\n",
      "\n",
      "Epoch 9: val_loss improved from 0.02041 to 0.01976, saving model to AE_m_r_[50]_abundance_Cirrhosis.keras\n",
      "2/2 - 0s - 39ms/step - loss: 0.0808 - val_loss: 0.0198\n",
      "Epoch 10/20\n",
      "\n",
      "Epoch 10: val_loss improved from 0.01976 to 0.01915, saving model to AE_m_r_[50]_abundance_Cirrhosis.keras\n",
      "2/2 - 0s - 69ms/step - loss: 0.0781 - val_loss: 0.0191\n",
      "Epoch 11/20\n",
      "\n",
      "Epoch 11: val_loss improved from 0.01915 to 0.01858, saving model to AE_m_r_[50]_abundance_Cirrhosis.keras\n",
      "2/2 - 0s - 70ms/step - loss: 0.0756 - val_loss: 0.0186\n",
      "Epoch 12/20\n",
      "\n",
      "Epoch 12: val_loss improved from 0.01858 to 0.01805, saving model to AE_m_r_[50]_abundance_Cirrhosis.keras\n",
      "2/2 - 0s - 73ms/step - loss: 0.0724 - val_loss: 0.0180\n",
      "Epoch 13/20\n",
      "\n",
      "Epoch 13: val_loss improved from 0.01805 to 0.01753, saving model to AE_m_r_[50]_abundance_Cirrhosis.keras\n",
      "2/2 - 0s - 41ms/step - loss: 0.0705 - val_loss: 0.0175\n",
      "Epoch 14/20\n",
      "\n",
      "Epoch 14: val_loss improved from 0.01753 to 0.01703, saving model to AE_m_r_[50]_abundance_Cirrhosis.keras\n",
      "2/2 - 0s - 69ms/step - loss: 0.0675 - val_loss: 0.0170\n",
      "Epoch 15/20\n",
      "\n",
      "Epoch 15: val_loss improved from 0.01703 to 0.01654, saving model to AE_m_r_[50]_abundance_Cirrhosis.keras\n",
      "2/2 - 0s - 71ms/step - loss: 0.0652 - val_loss: 0.0165\n",
      "Epoch 16/20\n",
      "\n",
      "Epoch 16: val_loss improved from 0.01654 to 0.01606, saving model to AE_m_r_[50]_abundance_Cirrhosis.keras\n",
      "2/2 - 0s - 78ms/step - loss: 0.0637 - val_loss: 0.0161\n",
      "Epoch 17/20\n",
      "\n",
      "Epoch 17: val_loss improved from 0.01606 to 0.01561, saving model to AE_m_r_[50]_abundance_Cirrhosis.keras\n",
      "2/2 - 0s - 50ms/step - loss: 0.0606 - val_loss: 0.0156\n",
      "Epoch 18/20\n",
      "\n",
      "Epoch 18: val_loss improved from 0.01561 to 0.01518, saving model to AE_m_r_[50]_abundance_Cirrhosis.keras\n",
      "2/2 - 0s - 27ms/step - loss: 0.0594 - val_loss: 0.0152\n",
      "Epoch 19/20\n",
      "\n",
      "Epoch 19: val_loss improved from 0.01518 to 0.01478, saving model to AE_m_r_[50]_abundance_Cirrhosis.keras\n",
      "2/2 - 0s - 29ms/step - loss: 0.0571 - val_loss: 0.0148\n",
      "Epoch 20/20\n",
      "\n",
      "Epoch 20: val_loss improved from 0.01478 to 0.01441, saving model to AE_m_r_[50]_abundance_Cirrhosis.keras\n",
      "2/2 - 0s - 27ms/step - loss: 0.0553 - val_loss: 0.0144\n",
      "\u001B[1m6/6\u001B[0m \u001B[32m━━━━━━━━━━━━━━━━━━━━\u001B[0m\u001B[37m\u001B[0m \u001B[1m0s\u001B[0m 28ms/step\n",
      "\u001B[1m2/2\u001B[0m \u001B[32m━━━━━━━━━━━━━━━━━━━━\u001B[0m\u001B[37m\u001B[0m \u001B[1m0s\u001B[0m 138ms/step\n",
      "The learned representation of the training set has been saved in 'data/abundance/results/abundance_Cirrhosis_rep.csv'\n",
      "# Tuning hyper-parameters\n",
      "(185, 50) (185,)\n",
      "Fitting 5 folds for each of 4 candidates, totalling 20 fits\n",
      "[CV 1/5; 1/4] START C=0.25, kernel=linear.......................................\n",
      "[CV 1/5; 1/4] END ........C=0.25, kernel=linear;, score=0.806 total time=   0.0s\n",
      "[CV 2/5; 1/4] START C=0.25, kernel=linear.......................................\n",
      "[CV 2/5; 1/4] END ........C=0.25, kernel=linear;, score=0.518 total time=   0.0s\n",
      "[CV 3/5; 1/4] START C=0.25, kernel=linear.......................................\n",
      "[CV 3/5; 1/4] END ........C=0.25, kernel=linear;, score=0.719 total time=   0.0s\n",
      "[CV 4/5; 1/4] START C=0.25, kernel=linear.......................................\n",
      "[CV 4/5; 1/4] END ........C=0.25, kernel=linear;, score=0.813 total time=   0.0s\n",
      "[CV 5/5; 1/4] START C=0.25, kernel=linear.......................................\n",
      "[CV 5/5; 1/4] END ........C=0.25, kernel=linear;, score=0.769 total time=   0.0s\n",
      "[CV 1/5; 2/4] START C=0.25, gamma=2, kernel=rbf.................................\n",
      "[CV 1/5; 2/4] END ..C=0.25, gamma=2, kernel=rbf;, score=0.808 total time=   0.0s\n",
      "[CV 2/5; 2/4] START C=0.25, gamma=2, kernel=rbf.................................\n",
      "[CV 2/5; 2/4] END ..C=0.25, gamma=2, kernel=rbf;, score=0.523 total time=   0.0s\n",
      "[CV 3/5; 2/4] START C=0.25, gamma=2, kernel=rbf.................................\n",
      "[CV 3/5; 2/4] END ..C=0.25, gamma=2, kernel=rbf;, score=0.678 total time=   0.0s\n",
      "[CV 4/5; 2/4] START C=0.25, gamma=2, kernel=rbf.................................\n",
      "[CV 4/5; 2/4] END ..C=0.25, gamma=2, kernel=rbf;, score=0.833 total time=   0.0s\n",
      "[CV 5/5; 2/4] START C=0.25, gamma=2, kernel=rbf.................................\n",
      "[CV 5/5; 2/4] END ..C=0.25, gamma=2, kernel=rbf;, score=0.734 total time=   0.0s\n",
      "[CV 1/5; 3/4] START C=0.25, gamma=0.5, kernel=rbf...............................\n",
      "[CV 1/5; 3/4] END C=0.25, gamma=0.5, kernel=rbf;, score=0.806 total time=   0.0s\n",
      "[CV 2/5; 3/4] START C=0.25, gamma=0.5, kernel=rbf...............................\n",
      "[CV 2/5; 3/4] END C=0.25, gamma=0.5, kernel=rbf;, score=0.515 total time=   0.0s\n",
      "[CV 3/5; 3/4] START C=0.25, gamma=0.5, kernel=rbf...............................\n",
      "[CV 3/5; 3/4] END C=0.25, gamma=0.5, kernel=rbf;, score=0.687 total time=   0.0s\n",
      "[CV 4/5; 3/4] START C=0.25, gamma=0.5, kernel=rbf...............................\n",
      "[CV 4/5; 3/4] END C=0.25, gamma=0.5, kernel=rbf;, score=0.842 total time=   0.0s\n",
      "[CV 5/5; 3/4] START C=0.25, gamma=0.5, kernel=rbf...............................\n",
      "[CV 5/5; 3/4] END C=0.25, gamma=0.5, kernel=rbf;, score=0.766 total time=   0.0s\n",
      "[CV 1/5; 4/4] START C=0.25, gamma=0.125, kernel=rbf.............................\n",
      "[CV 1/5; 4/4] END C=0.25, gamma=0.125, kernel=rbf;, score=0.806 total time=   0.0s\n",
      "[CV 2/5; 4/4] START C=0.25, gamma=0.125, kernel=rbf.............................\n",
      "[CV 2/5; 4/4] END C=0.25, gamma=0.125, kernel=rbf;, score=0.512 total time=   0.0s\n",
      "[CV 3/5; 4/4] START C=0.25, gamma=0.125, kernel=rbf.............................\n",
      "[CV 3/5; 4/4] END C=0.25, gamma=0.125, kernel=rbf;, score=0.693 total time=   0.0s\n",
      "[CV 4/5; 4/4] START C=0.25, gamma=0.125, kernel=rbf.............................\n",
      "[CV 4/5; 4/4] END C=0.25, gamma=0.125, kernel=rbf;, score=0.757 total time=   0.0s\n",
      "[CV 5/5; 4/4] START C=0.25, gamma=0.125, kernel=rbf.............................\n",
      "[CV 5/5; 4/4] END C=0.25, gamma=0.125, kernel=rbf;, score=0.769 total time=   0.0s\n",
      "Best parameters set found on development set:\n",
      "\n",
      "{'C': 0.25, 'kernel': 'linear'}\n",
      "Accuracy metrics\n",
      "AUC, ACC, Recall, Precision, F1_score, time-end, runtime(sec), classfication time(sec), best hyper-parameter\n",
      "[0.7029, 0.4894, 0.9583, 0.5, 0.6571, '2024-04-16 09:28:31.731878', 7.66, 0.23, \"{'C': 0.25, 'kernel': 'linear'}\"]\n",
      "# Tuning hyper-parameters\n",
      "(185, 50) (185,)\n",
      "Fitting 5 folds for each of 4 candidates, totalling 20 fits\n",
      "[CV 1/5; 1/4] START criterion=gini, max_features=sqrt, min_samples_leaf=2, n_estimators=500\n",
      "[CV 1/5; 1/4] END criterion=gini, max_features=sqrt, min_samples_leaf=2, n_estimators=500;, score=0.749 total time=   1.3s\n",
      "[CV 2/5; 1/4] START criterion=gini, max_features=sqrt, min_samples_leaf=2, n_estimators=500\n",
      "[CV 2/5; 1/4] END criterion=gini, max_features=sqrt, min_samples_leaf=2, n_estimators=500;, score=0.833 total time=   1.3s\n",
      "[CV 3/5; 1/4] START criterion=gini, max_features=sqrt, min_samples_leaf=2, n_estimators=500\n",
      "[CV 3/5; 1/4] END criterion=gini, max_features=sqrt, min_samples_leaf=2, n_estimators=500;, score=0.727 total time=   1.4s\n",
      "[CV 4/5; 1/4] START criterion=gini, max_features=sqrt, min_samples_leaf=2, n_estimators=500\n",
      "[CV 4/5; 1/4] END criterion=gini, max_features=sqrt, min_samples_leaf=2, n_estimators=500;, score=0.759 total time=   1.6s\n",
      "[CV 5/5; 1/4] START criterion=gini, max_features=sqrt, min_samples_leaf=2, n_estimators=500\n",
      "[CV 5/5; 1/4] END criterion=gini, max_features=sqrt, min_samples_leaf=2, n_estimators=500;, score=0.789 total time=   1.8s\n",
      "[CV 1/5; 2/4] START criterion=gini, max_features=log2, min_samples_leaf=2, n_estimators=500\n",
      "[CV 1/5; 2/4] END criterion=gini, max_features=log2, min_samples_leaf=2, n_estimators=500;, score=0.751 total time=   1.6s\n",
      "[CV 2/5; 2/4] START criterion=gini, max_features=log2, min_samples_leaf=2, n_estimators=500\n",
      "[CV 2/5; 2/4] END criterion=gini, max_features=log2, min_samples_leaf=2, n_estimators=500;, score=0.836 total time=   1.9s\n",
      "[CV 3/5; 2/4] START criterion=gini, max_features=log2, min_samples_leaf=2, n_estimators=500\n",
      "[CV 3/5; 2/4] END criterion=gini, max_features=log2, min_samples_leaf=2, n_estimators=500;, score=0.732 total time=   1.4s\n",
      "[CV 4/5; 2/4] START criterion=gini, max_features=log2, min_samples_leaf=2, n_estimators=500\n",
      "[CV 4/5; 2/4] END criterion=gini, max_features=log2, min_samples_leaf=2, n_estimators=500;, score=0.759 total time=   1.3s\n",
      "[CV 5/5; 2/4] START criterion=gini, max_features=log2, min_samples_leaf=2, n_estimators=500\n",
      "[CV 5/5; 2/4] END criterion=gini, max_features=log2, min_samples_leaf=2, n_estimators=500;, score=0.789 total time=   1.4s\n",
      "[CV 1/5; 3/4] START criterion=entropy, max_features=sqrt, min_samples_leaf=2, n_estimators=500\n",
      "[CV 1/5; 3/4] END criterion=entropy, max_features=sqrt, min_samples_leaf=2, n_estimators=500;, score=0.746 total time=   1.5s\n",
      "[CV 2/5; 3/4] START criterion=entropy, max_features=sqrt, min_samples_leaf=2, n_estimators=500\n",
      "[CV 2/5; 3/4] END criterion=entropy, max_features=sqrt, min_samples_leaf=2, n_estimators=500;, score=0.836 total time=   1.7s\n",
      "[CV 3/5; 3/4] START criterion=entropy, max_features=sqrt, min_samples_leaf=2, n_estimators=500\n",
      "[CV 3/5; 3/4] END criterion=entropy, max_features=sqrt, min_samples_leaf=2, n_estimators=500;, score=0.730 total time=   1.6s\n",
      "[CV 4/5; 3/4] START criterion=entropy, max_features=sqrt, min_samples_leaf=2, n_estimators=500\n",
      "[CV 4/5; 3/4] END criterion=entropy, max_features=sqrt, min_samples_leaf=2, n_estimators=500;, score=0.762 total time=   1.6s\n",
      "[CV 5/5; 3/4] START criterion=entropy, max_features=sqrt, min_samples_leaf=2, n_estimators=500\n",
      "[CV 5/5; 3/4] END criterion=entropy, max_features=sqrt, min_samples_leaf=2, n_estimators=500;, score=0.792 total time=   2.4s\n",
      "[CV 1/5; 4/4] START criterion=entropy, max_features=log2, min_samples_leaf=2, n_estimators=500\n",
      "[CV 1/5; 4/4] END criterion=entropy, max_features=log2, min_samples_leaf=2, n_estimators=500;, score=0.746 total time=   1.5s\n",
      "[CV 2/5; 4/4] START criterion=entropy, max_features=log2, min_samples_leaf=2, n_estimators=500\n",
      "[CV 2/5; 4/4] END criterion=entropy, max_features=log2, min_samples_leaf=2, n_estimators=500;, score=0.839 total time=   1.6s\n",
      "[CV 3/5; 4/4] START criterion=entropy, max_features=log2, min_samples_leaf=2, n_estimators=500\n",
      "[CV 3/5; 4/4] END criterion=entropy, max_features=log2, min_samples_leaf=2, n_estimators=500;, score=0.735 total time=   1.4s\n",
      "[CV 4/5; 4/4] START criterion=entropy, max_features=log2, min_samples_leaf=2, n_estimators=500\n",
      "[CV 4/5; 4/4] END criterion=entropy, max_features=log2, min_samples_leaf=2, n_estimators=500;, score=0.759 total time=   1.4s\n",
      "[CV 5/5; 4/4] START criterion=entropy, max_features=log2, min_samples_leaf=2, n_estimators=500\n",
      "[CV 5/5; 4/4] END criterion=entropy, max_features=log2, min_samples_leaf=2, n_estimators=500;, score=0.787 total time=   1.9s\n",
      "Best parameters set found on development set:\n",
      "\n",
      "{'criterion': 'gini', 'max_features': 'log2', 'min_samples_leaf': 2, 'n_estimators': 500}\n",
      "Accuracy metrics\n",
      "AUC, ACC, Recall, Precision, F1_score, time-end, runtime(sec), classfication time(sec), best hyper-parameter\n",
      "[0.6703, 0.617, 0.625, 0.625, 0.625, '2024-04-16 09:29:04.830527', 40.76, 33.1, \"{'criterion': 'gini', 'max_features': 'log2', 'min_samples_leaf': 2, 'n_estimators': 500}\"]\n",
      "# Tuning hyper-parameters\n",
      "(185, 50) (185,)\n",
      "Fitting 5 folds for each of 2 candidates, totalling 10 fits\n",
      "[CV 1/5; 1/2] START dropout_rate=0.1, epochs=30, numHiddenLayers=2, numUnits=10.\n"
     ]
    },
    {
     "output_type": "stream",
     "name": "stderr",
     "text": [
      "/usr/local/lib/python3.10/dist-packages/scikeras/wrappers.py:925: UserWarning: ``build_fn`` will be renamed to ``model`` in a future release, at which point use of ``build_fn`` will raise an Error instead.\n",
      "  X, y = self._initialize(X, y)\n",
      "/usr/local/lib/python3.10/dist-packages/keras/src/layers/core/dense.py:86: UserWarning: Do not pass an `input_shape`/`input_dim` argument to a layer. When using Sequential models, prefer using an `Input(shape)` object as the first layer in the model instead.\n",
      "  super().__init__(activity_regularizer=activity_regularizer, **kwargs)\n"
     ]
    },
    {
     "output_type": "stream",
     "name": "stdout",
     "text": [
      "[CV 1/5; 1/2] END dropout_rate=0.1, epochs=30, numHiddenLayers=2, numUnits=10;, score=0.605 total time=  13.0s\n",
      "[CV 2/5; 1/2] START dropout_rate=0.1, epochs=30, numHiddenLayers=2, numUnits=10.\n"
     ]
    },
    {
     "output_type": "stream",
     "name": "stderr",
     "text": [
      "/usr/local/lib/python3.10/dist-packages/scikeras/wrappers.py:925: UserWarning: ``build_fn`` will be renamed to ``model`` in a future release, at which point use of ``build_fn`` will raise an Error instead.\n",
      "  X, y = self._initialize(X, y)\n",
      "/usr/local/lib/python3.10/dist-packages/keras/src/layers/core/dense.py:86: UserWarning: Do not pass an `input_shape`/`input_dim` argument to a layer. When using Sequential models, prefer using an `Input(shape)` object as the first layer in the model instead.\n",
      "  super().__init__(activity_regularizer=activity_regularizer, **kwargs)\n",
      "WARNING:tensorflow:5 out of the last 11 calls to <function TensorFlowTrainer.make_predict_function.<locals>.one_step_on_data_distributed at 0x7aaa0461d000> triggered tf.function retracing. Tracing is expensive and the excessive number of tracings could be due to (1) creating @tf.function repeatedly in a loop, (2) passing tensors with different shapes, (3) passing Python objects instead of tensors. For (1), please define your @tf.function outside of the loop. For (2), @tf.function has reduce_retracing=True option that can avoid unnecessary retracing. For (3), please refer to https://www.tensorflow.org/guide/function#controlling_retracing and https://www.tensorflow.org/api_docs/python/tf/function for  more details.\n",
      "WARNING:tensorflow:6 out of the last 12 calls to <function TensorFlowTrainer.make_predict_function.<locals>.one_step_on_data_distributed at 0x7aaa0461d000> triggered tf.function retracing. Tracing is expensive and the excessive number of tracings could be due to (1) creating @tf.function repeatedly in a loop, (2) passing tensors with different shapes, (3) passing Python objects instead of tensors. For (1), please define your @tf.function outside of the loop. For (2), @tf.function has reduce_retracing=True option that can avoid unnecessary retracing. For (3), please refer to https://www.tensorflow.org/guide/function#controlling_retracing and https://www.tensorflow.org/api_docs/python/tf/function for  more details.\n",
      "/usr/local/lib/python3.10/dist-packages/scikeras/wrappers.py:925: UserWarning: ``build_fn`` will be renamed to ``model`` in a future release, at which point use of ``build_fn`` will raise an Error instead.\n",
      "  X, y = self._initialize(X, y)\n",
      "/usr/local/lib/python3.10/dist-packages/keras/src/layers/core/dense.py:86: UserWarning: Do not pass an `input_shape`/`input_dim` argument to a layer. When using Sequential models, prefer using an `Input(shape)` object as the first layer in the model instead.\n",
      "  super().__init__(activity_regularizer=activity_regularizer, **kwargs)\n"
     ]
    },
    {
     "output_type": "stream",
     "name": "stdout",
     "text": [
      "[CV 2/5; 1/2] END dropout_rate=0.1, epochs=30, numHiddenLayers=2, numUnits=10;, score=0.781 total time=   7.8s\n",
      "[CV 3/5; 1/2] START dropout_rate=0.1, epochs=30, numHiddenLayers=2, numUnits=10.\n",
      "[CV 3/5; 1/2] END dropout_rate=0.1, epochs=30, numHiddenLayers=2, numUnits=10;, score=0.737 total time=   8.0s\n",
      "[CV 4/5; 1/2] START dropout_rate=0.1, epochs=30, numHiddenLayers=2, numUnits=10.\n"
     ]
    },
    {
     "output_type": "stream",
     "name": "stderr",
     "text": [
      "/usr/local/lib/python3.10/dist-packages/scikeras/wrappers.py:925: UserWarning: ``build_fn`` will be renamed to ``model`` in a future release, at which point use of ``build_fn`` will raise an Error instead.\n",
      "  X, y = self._initialize(X, y)\n",
      "/usr/local/lib/python3.10/dist-packages/keras/src/layers/core/dense.py:86: UserWarning: Do not pass an `input_shape`/`input_dim` argument to a layer. When using Sequential models, prefer using an `Input(shape)` object as the first layer in the model instead.\n",
      "  super().__init__(activity_regularizer=activity_regularizer, **kwargs)\n"
     ]
    },
    {
     "output_type": "stream",
     "name": "stdout",
     "text": [
      "[CV 4/5; 1/2] END dropout_rate=0.1, epochs=30, numHiddenLayers=2, numUnits=10;, score=0.690 total time=   7.2s\n",
      "[CV 5/5; 1/2] START dropout_rate=0.1, epochs=30, numHiddenLayers=2, numUnits=10.\n"
     ]
    },
    {
     "output_type": "stream",
     "name": "stderr",
     "text": [
      "/usr/local/lib/python3.10/dist-packages/scikeras/wrappers.py:925: UserWarning: ``build_fn`` will be renamed to ``model`` in a future release, at which point use of ``build_fn`` will raise an Error instead.\n",
      "  X, y = self._initialize(X, y)\n",
      "/usr/local/lib/python3.10/dist-packages/keras/src/layers/core/dense.py:86: UserWarning: Do not pass an `input_shape`/`input_dim` argument to a layer. When using Sequential models, prefer using an `Input(shape)` object as the first layer in the model instead.\n",
      "  super().__init__(activity_regularizer=activity_regularizer, **kwargs)\n"
     ]
    },
    {
     "output_type": "stream",
     "name": "stdout",
     "text": [
      "[CV 5/5; 1/2] END dropout_rate=0.1, epochs=30, numHiddenLayers=2, numUnits=10;, score=0.602 total time=   8.0s\n",
      "[CV 1/5; 2/2] START dropout_rate=0.3, epochs=30, numHiddenLayers=2, numUnits=10.\n"
     ]
    },
    {
     "output_type": "stream",
     "name": "stderr",
     "text": [
      "/usr/local/lib/python3.10/dist-packages/scikeras/wrappers.py:925: UserWarning: ``build_fn`` will be renamed to ``model`` in a future release, at which point use of ``build_fn`` will raise an Error instead.\n",
      "  X, y = self._initialize(X, y)\n",
      "/usr/local/lib/python3.10/dist-packages/keras/src/layers/core/dense.py:86: UserWarning: Do not pass an `input_shape`/`input_dim` argument to a layer. When using Sequential models, prefer using an `Input(shape)` object as the first layer in the model instead.\n",
      "  super().__init__(activity_regularizer=activity_regularizer, **kwargs)\n"
     ]
    },
    {
     "output_type": "stream",
     "name": "stdout",
     "text": [
      "[CV 1/5; 2/2] END dropout_rate=0.3, epochs=30, numHiddenLayers=2, numUnits=10;, score=0.462 total time=   8.5s\n",
      "[CV 2/5; 2/2] START dropout_rate=0.3, epochs=30, numHiddenLayers=2, numUnits=10.\n"
     ]
    },
    {
     "output_type": "stream",
     "name": "stderr",
     "text": [
      "/usr/local/lib/python3.10/dist-packages/scikeras/wrappers.py:925: UserWarning: ``build_fn`` will be renamed to ``model`` in a future release, at which point use of ``build_fn`` will raise an Error instead.\n",
      "  X, y = self._initialize(X, y)\n",
      "/usr/local/lib/python3.10/dist-packages/keras/src/layers/core/dense.py:86: UserWarning: Do not pass an `input_shape`/`input_dim` argument to a layer. When using Sequential models, prefer using an `Input(shape)` object as the first layer in the model instead.\n",
      "  super().__init__(activity_regularizer=activity_regularizer, **kwargs)\n"
     ]
    },
    {
     "output_type": "stream",
     "name": "stdout",
     "text": [
      "[CV 2/5; 2/2] END dropout_rate=0.3, epochs=30, numHiddenLayers=2, numUnits=10;, score=0.784 total time=   7.2s\n",
      "[CV 3/5; 2/2] START dropout_rate=0.3, epochs=30, numHiddenLayers=2, numUnits=10.\n"
     ]
    },
    {
     "output_type": "stream",
     "name": "stderr",
     "text": [
      "/usr/local/lib/python3.10/dist-packages/scikeras/wrappers.py:925: UserWarning: ``build_fn`` will be renamed to ``model`` in a future release, at which point use of ``build_fn`` will raise an Error instead.\n",
      "  X, y = self._initialize(X, y)\n",
      "/usr/local/lib/python3.10/dist-packages/keras/src/layers/core/dense.py:86: UserWarning: Do not pass an `input_shape`/`input_dim` argument to a layer. When using Sequential models, prefer using an `Input(shape)` object as the first layer in the model instead.\n",
      "  super().__init__(activity_regularizer=activity_regularizer, **kwargs)\n"
     ]
    },
    {
     "output_type": "stream",
     "name": "stdout",
     "text": [
      "[CV 3/5; 2/2] END dropout_rate=0.3, epochs=30, numHiddenLayers=2, numUnits=10;, score=0.699 total time=  12.2s\n",
      "[CV 4/5; 2/2] START dropout_rate=0.3, epochs=30, numHiddenLayers=2, numUnits=10.\n"
     ]
    },
    {
     "output_type": "stream",
     "name": "stderr",
     "text": [
      "/usr/local/lib/python3.10/dist-packages/scikeras/wrappers.py:925: UserWarning: ``build_fn`` will be renamed to ``model`` in a future release, at which point use of ``build_fn`` will raise an Error instead.\n",
      "  X, y = self._initialize(X, y)\n",
      "/usr/local/lib/python3.10/dist-packages/keras/src/layers/core/dense.py:86: UserWarning: Do not pass an `input_shape`/`input_dim` argument to a layer. When using Sequential models, prefer using an `Input(shape)` object as the first layer in the model instead.\n",
      "  super().__init__(activity_regularizer=activity_regularizer, **kwargs)\n"
     ]
    },
    {
     "output_type": "stream",
     "name": "stdout",
     "text": [
      "[CV 4/5; 2/2] END dropout_rate=0.3, epochs=30, numHiddenLayers=2, numUnits=10;, score=0.734 total time=   8.1s\n",
      "[CV 5/5; 2/2] START dropout_rate=0.3, epochs=30, numHiddenLayers=2, numUnits=10.\n"
     ]
    },
    {
     "output_type": "stream",
     "name": "stderr",
     "text": [
      "/usr/local/lib/python3.10/dist-packages/scikeras/wrappers.py:925: UserWarning: ``build_fn`` will be renamed to ``model`` in a future release, at which point use of ``build_fn`` will raise an Error instead.\n",
      "  X, y = self._initialize(X, y)\n",
      "/usr/local/lib/python3.10/dist-packages/keras/src/layers/core/dense.py:86: UserWarning: Do not pass an `input_shape`/`input_dim` argument to a layer. When using Sequential models, prefer using an `Input(shape)` object as the first layer in the model instead.\n",
      "  super().__init__(activity_regularizer=activity_regularizer, **kwargs)\n"
     ]
    },
    {
     "output_type": "stream",
     "name": "stdout",
     "text": [
      "[CV 5/5; 2/2] END dropout_rate=0.3, epochs=30, numHiddenLayers=2, numUnits=10;, score=0.711 total time=   8.0s\n"
     ]
    },
    {
     "output_type": "stream",
     "name": "stderr",
     "text": [
      "/usr/local/lib/python3.10/dist-packages/scikeras/wrappers.py:925: UserWarning: ``build_fn`` will be renamed to ``model`` in a future release, at which point use of ``build_fn`` will raise an Error instead.\n",
      "  X, y = self._initialize(X, y)\n",
      "/usr/local/lib/python3.10/dist-packages/keras/src/layers/core/dense.py:86: UserWarning: Do not pass an `input_shape`/`input_dim` argument to a layer. When using Sequential models, prefer using an `Input(shape)` object as the first layer in the model instead.\n",
      "  super().__init__(activity_regularizer=activity_regularizer, **kwargs)\n"
     ]
    },
    {
     "output_type": "stream",
     "name": "stdout",
     "text": [
      "Best parameters set found on development set:\n",
      "\n",
      "{'dropout_rate': 0.1, 'epochs': 30, 'numHiddenLayers': 2, 'numUnits': 10}\n",
      "Accuracy metrics\n",
      "AUC, ACC, Recall, Precision, F1_score, time-end, runtime(sec), classfication time(sec), best hyper-parameter\n",
      "[0.5779, 0.5532, 0.9167, 0.5366, 0.6769, '2024-04-16 09:30:42.324221', 138.25, 97.49, \"{'dropout_rate': 0.1, 'epochs': 30, 'numHiddenLayers': 2, 'numUnits': 10}\"]\n"
     ]
    }
   ]
  },
  {
   "cell_type": "markdown",
   "source": [
    "## Model comparison"
   ],
   "metadata": {
    "id": "8EAWAy_LwHlV"
   }
  },
  {
   "cell_type": "markdown",
   "source": [
    "**To-Do:**\n",
    "\n",
    "Train model in full epoches and compare results. (By Apr 28)\n",
    "- we can compare the results of the different models in terms of accuracy, AUC, etc. And,\n",
    "- the time taken to train each model\n",
    "- the best hyperparameters found for each model"
   ],
   "metadata": {
    "id": "n_30uovDnQxs"
   }
  },
  {
   "cell_type": "markdown",
   "source": [
    "# Discussion\n",
    "\n",
    "In this section,you should discuss your work and make future plan. The discussion should address the following questions:\n",
    "  * Make assessment that the paper is reproducible or not.\n",
    "  * Explain why it is not reproducible if your results are kind negative.\n",
    "  * Describe “What was easy” and “What was difficult” during the reproduction.\n",
    "  * Make suggestions to the author or other reproducers on how to improve the reproducibility.\n",
    "  * What will you do in next phase.\n",
    "\n",
    "---\n",
    "\n",
    "**To-Do:**\n",
    "\n",
    "Add discussion. (By Apr 28)\n",
    "\n",
    "- discuss the reproducibility of the paper and the ease of reproducing the results.\n",
    "- discuss what was easy and what was difficult during the reproduction.\n",
    "- make suggestions to the author or other reproducers on how to improve the reproducibility.\n",
    "- discuss the results of the model comparison and the implications of the results.\n",
    "- discuss the limitations of the study and the potential future work.\n",
    "\n"
   ],
   "metadata": {
    "id": "qH75TNU71eRH"
   }
  },
  {
   "cell_type": "markdown",
   "source": [
    "# References\n",
    "\n",
    "1. Cho, I., & Blaser, M. J. (2012). The human microbiome: at the interface of health and disease. Nature Reviews Genetics, 13(4), 260-270.\n",
    "2. Huttenhower, C. et al. Structure, function and diversity of the healthy human microbiome. nature 486, 207 (2012).\n",
    "3. McQuade, J. L., Daniel, C. R., Helmink, B. A. & Wargo, J. A. Modulating the microbiome to improve therapeutic response in cancer. The Lancet Oncology 20, e77–e91 (2019).\n",
    "4. Eloe-Fadrosh, E. A. & Rasko, D. A. The human microbiome: from symbiosis to pathogenesis. Annual review of medicine 64, 145–163 (2013).\n",
    "5. Scholz, M. et al. Strain-level microbial epidemiology and population genomics from shotgun metagenomics. Nature methods 13, 435 (2016).\n",
    "6. Truong, D. T. et al. MetaPhlAn2 for enhanced metagenomic taxonomic profiling. Nature methods 12, 902 (2015).\n",
    "7. Oh, M., & Zhang, L. (2020). DeepMicro: deep representation learning for disease prediction based on microbiome data. Scientific reports, 10(1), 6026.\n",
    "8. Pasolli, E., Truong, D. T., Malik, F., Waldron, L. & Segata, N. Machine learning meta-analysis of large metagenomic datasets: tools and biological insights. PLoS computational biology 12, e1004977 (2016).\n",
    "9. Cawley, G. C. & Talbot, N. L. On over-fitting in model selection and subsequent selection bias in performance evaluation. Journal of Machine Learning Research 11, 2079–2107 (2010).\n",
    "10. Varma, S. & Simon, R. Bias in error estimation when using cross-validation for model selection. BMC bioinformatics 7, 91 (2006).\n"
   ],
   "metadata": {
    "id": "SHMI2chl9omn"
   }
  }
 ]
}
