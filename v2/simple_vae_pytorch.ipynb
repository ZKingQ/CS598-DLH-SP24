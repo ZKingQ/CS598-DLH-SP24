{
 "cells": [
  {
   "cell_type": "code",
   "execution_count": 40,
   "id": "initial_id",
   "metadata": {
    "ExecuteTime": {
     "end_time": "2024-04-27T05:03:17.301772Z",
     "start_time": "2024-04-27T05:03:17.287674Z"
    },
    "collapsed": true
   },
   "outputs": [],
   "source": [
    "import os\n",
    "import torch\n",
    "import torch.nn as nn\n",
    "import torch.nn.functional as F\n",
    "import torchvision\n",
    "# import cv2\n",
    "import numpy as np\n",
    "\n",
    "device = torch.device(\"cuda\" if torch.cuda.is_available() else \"cpu\")\n",
    "if torch.backends.mps.is_available():\n",
    "    device = torch.device(\"mps\")"
   ]
  },
  {
   "cell_type": "markdown",
   "id": "33452d43d28ea3c1",
   "metadata": {},
   "source": [
    "# Load Data"
   ]
  },
  {
   "cell_type": "code",
   "execution_count": 41,
   "id": "8fe644b7",
   "metadata": {},
   "outputs": [],
   "source": [
    "seed = 42"
   ]
  },
  {
   "cell_type": "code",
   "execution_count": 42,
   "id": "b69b8829",
   "metadata": {},
   "outputs": [],
   "source": [
    "from sklearn.model_selection import train_test_split\n",
    "import pandas as pd"
   ]
  },
  {
   "cell_type": "code",
   "execution_count": 43,
   "id": "197e75d0c64126b7",
   "metadata": {},
   "outputs": [
    {
     "name": "stdout",
     "output_type": "stream",
     "text": [
      "Train data shape:  (185, 542)\n",
      "Test data shape:  (47, 542)\n"
     ]
    }
   ],
   "source": [
    "label_dict = {\n",
    "    # Controls\n",
    "    'n': 0,\n",
    "    # Chirrhosis\n",
    "    'cirrhosis': 1,\n",
    "    # Colorectal Cancer\n",
    "    'cancer': 1, 'small_adenoma': 0,\n",
    "    # IBD\n",
    "    'ibd_ulcerative_colitis': 1, 'ibd_crohn_disease': 1,\n",
    "    # T2D and WT2D\n",
    "    't2d': 1,\n",
    "    # Obesity\n",
    "    'leaness': 0, 'obesity': 1,\n",
    "}\n",
    "def loadData(data_dir, filename, dtype=None):\n",
    "    feature_string = ''\n",
    "    if filename.split('_')[0] == 'abundance':\n",
    "        feature_string = \"k__\"\n",
    "    if filename.split('_')[0] == 'marker':\n",
    "        feature_string = \"gi|\"\n",
    "    # read file\n",
    "    filename = data_dir + filename\n",
    "    if not os.path.isfile(filename):\n",
    "        print(\"FileNotFoundError: File {} does not exist\".format(filename))\n",
    "        exit()\n",
    "    raw = pd.read_csv(filename, sep='\\t', index_col=0, header=None)\n",
    "\n",
    "    # select rows having feature index identifier string\n",
    "    X = raw.loc[raw.index.str.contains(feature_string, regex=False)].T\n",
    "\n",
    "    # get class labels\n",
    "    Y = raw.loc['disease']\n",
    "    Y = Y.replace(label_dict)\n",
    "\n",
    "    # train and test split\n",
    "    X_train, X_test, y_train, y_test = train_test_split(X.values.astype(dtype), Y.values.astype('int'), test_size=0.2, random_state=seed, stratify=Y.values)\n",
    "    print(\"Train data shape: \", X_train.shape)\n",
    "    print(\"Test data shape: \", X_test.shape)\n",
    "    return X_train, X_test, y_train, y_test\n",
    "\n",
    "data_dir = '../data/abundance/'\n",
    "data_string = 'abundance_Cirrhosis.txt'\n",
    "X_train, X_test, y_train, y_test = loadData(data_dir, data_string, dtype='float32')"
   ]
  },
  {
   "cell_type": "code",
   "execution_count": 44,
   "id": "a2e4dc03",
   "metadata": {},
   "outputs": [],
   "source": [
    "trainloader = torch.utils.data.DataLoader(torch.utils.data.TensorDataset(torch.tensor(X_train), torch.tensor(y_train)), batch_size=32, shuffle=True)\n",
    "testloader = torch.utils.data.DataLoader(torch.utils.data.TensorDataset(torch.tensor(X_test), torch.tensor(y_test)), batch_size=32, shuffle=False)"
   ]
  },
  {
   "cell_type": "markdown",
   "id": "6d6342b0",
   "metadata": {},
   "source": [
    "# Define the VAE model"
   ]
  },
  {
   "cell_type": "code",
   "execution_count": 45,
   "id": "bf695584",
   "metadata": {},
   "outputs": [
    {
     "data": {
      "text/plain": [
       "VAE(\n",
       "  (encoder1): Linear(in_features=542, out_features=128, bias=True)\n",
       "  (mu): Linear(in_features=128, out_features=8, bias=True)\n",
       "  (log_sigma2): Linear(in_features=128, out_features=8, bias=True)\n",
       "  (decoder1): Linear(in_features=8, out_features=128, bias=True)\n",
       "  (decoder2): Linear(in_features=128, out_features=542, bias=True)\n",
       ")"
      ]
     },
     "execution_count": 45,
     "metadata": {},
     "output_type": "execute_result"
    }
   ],
   "source": [
    "class VAE(nn.Module):\n",
    "    def __init__(self, input_dim=28*28, latent_dim=8):\n",
    "        super(VAE, self).__init__()\n",
    "        self.input_dim = input_dim\n",
    "\n",
    "        # DNN as encoder\n",
    "        self.encoder1 = nn.Linear(input_dim, 128)\n",
    "        self.mu = nn.Linear(128, 8)\n",
    "        self.log_sigma2 = nn.Linear(128, 8)\n",
    "\n",
    "        # DNN as decoder\n",
    "        self.decoder1 = nn.Linear(8, 128)\n",
    "        self.decoder2 = nn.Linear(128, input_dim)\n",
    "\n",
    "    def encoder(self, x):\n",
    "        h = torch.tanh(self.encoder1(x))\n",
    "        return self.mu(h), torch.sqrt(torch.exp(self.log_sigma2(h)))\n",
    "\n",
    "    def sampling(self, mu, std): # Reparameterization trick\n",
    "        eps = torch.randn_like(std)\n",
    "        return mu + eps * std\n",
    "\n",
    "    def decoder(self, z):\n",
    "        h = torch.tanh(self.decoder1(z))\n",
    "        return torch.sigmoid(self.decoder2(h))\n",
    "\n",
    "    def forward(self, x):\n",
    "        mu, std = self.encoder(x.view(-1, self.input_dim))\n",
    "        z = self.sampling(mu, std)\n",
    "        return self.decoder(z), mu, std\n",
    "\n",
    "    @staticmethod\n",
    "    def loss_func(x_hat, x, mu, std):\n",
    "        # define the reconstruction loss\n",
    "        ERR = F.binary_cross_entropy(x_hat, x, reduction='sum')\n",
    "        # define the KL divergence loss\n",
    "        KLD = -0.5 * torch.sum(1 + torch.log(std**2) - mu**2 - std**2)\n",
    "        return ERR + KLD, ERR, KLD\n",
    "\n",
    "model = VAE(input_dim=X_train.shape[1], latent_dim=8)\n",
    "model.to(device) # move model to GPU"
   ]
  },
  {
   "cell_type": "markdown",
   "id": "e4f8256c",
   "metadata": {},
   "source": [
    "# Model training and evaluation"
   ]
  },
  {
   "cell_type": "code",
   "execution_count": 46,
   "id": "66781385",
   "metadata": {},
   "outputs": [
    {
     "name": "stdout",
     "output_type": "stream",
     "text": [
      "-- epoch 0 --, train MSE: 11262.017252604166, train KL: 36.26022752126058, test MSE: 7843.613525390625\n",
      "-- epoch 10 --, train MSE: -7535.48779296875, train KL: 945.6102905273438, test MSE: -6517.487060546875\n",
      "-- epoch 20 --, train MSE: -42021.263671875, train KL: 872.8953145345052, test MSE: -45841.912109375\n",
      "-- epoch 30 --, train MSE: -121088.40104166667, train KL: 386.58494059244794, test MSE: -102533.69921875\n",
      "-- epoch 40 --, train MSE: -127408.85807291667, train KL: 348.8780517578125, test MSE: -87165.74609375\n"
     ]
    }
   ],
   "source": [
    "optimizer = torch.optim.AdamW(model.parameters(), lr = 0.001)\n",
    "\n",
    "rec_loss, kl_loss = [], []\n",
    "for epoch in range(50):\n",
    "\n",
    "    \"\"\" model training \"\"\"\n",
    "    model.train()\n",
    "    cur_rec_loss, cur_kl_loss = [], []\n",
    "    for batch_idx, (data, _) in enumerate(trainloader):\n",
    "        data = data.to(device)\n",
    "        rec, mu, std = model(data)\n",
    "        loss, err, kl = model.loss_func(rec, data.reshape(-1, model.input_dim), mu, std)\n",
    "\n",
    "        optimizer.zero_grad()\n",
    "        loss.backward()\n",
    "        optimizer.step()\n",
    "\n",
    "        cur_rec_loss.append(err.item())\n",
    "        cur_kl_loss.append(kl.item())\n",
    "\n",
    "    rec_loss.append(np.mean(cur_rec_loss))\n",
    "    kl_loss.append(np.mean(cur_kl_loss))\n",
    "\n",
    "    \"\"\" model evaluation \"\"\"\n",
    "    with torch.no_grad():\n",
    "        test_loss = []\n",
    "        for batch_idx, (data, _) in enumerate(testloader):\n",
    "            data = data.to(device)\n",
    "            rec, mu, std = model(data)\n",
    "            _, mse, _ = model.loss_func(rec, data.reshape(data.shape[0], -1), mu, std)\n",
    "            test_loss.append(mse.item())\n",
    "\n",
    "    if epoch % 10 == 0:\n",
    "        print (f\"-- epoch {epoch} --, train MSE: {np.mean(cur_rec_loss)}, train KL: {np.mean(cur_kl_loss)}, test MSE: {np.mean(test_loss)}\")"
   ]
  },
  {
   "cell_type": "markdown",
   "id": "89fdab20",
   "metadata": {},
   "source": [
    "# Draw Loss and Accuracy Curves"
   ]
  },
  {
   "cell_type": "code",
   "execution_count": 47,
   "id": "08dce77d",
   "metadata": {},
   "outputs": [
    {
     "data": {
      "text/plain": [
       "Text(0.5, 1.0, 'KL divergence loss')"
      ]
     },
     "execution_count": 47,
     "metadata": {},
     "output_type": "execute_result"
    },
    {
     "data": {
      "image/png": "[encoded data removed]",
      "text/plain": [
       "<Figure size 1000x400 with 2 Axes>"
      ]
     },
     "metadata": {},
     "output_type": "display_data"
    }
   ],
   "source": [
    "import matplotlib.pyplot as plt\n",
    "\n",
    "plt.figure(figsize=(10, 4))\n",
    "plt.subplot(121)\n",
    "plt.plot(rec_loss)\n",
    "plt.title(\"rec MSE loss\")\n",
    "\n",
    "plt.subplot(122)\n",
    "plt.plot(kl_loss)\n",
    "plt.title(\"KL divergence loss\")"
   ]
  },
  {
   "cell_type": "markdown",
   "id": "83062a8e",
   "metadata": {},
   "source": [
    "# Transform the data by using the trained model"
   ]
  },
  {
   "cell_type": "code",
   "execution_count": 48,
   "id": "73eb0a7d",
   "metadata": {},
   "outputs": [],
   "source": [
    "X_train = torch.tensor(X_train).to(device)\n",
    "X_test = torch.tensor(X_test).to(device)\n",
    "\n",
    "X_train_encoded = model.encoder(X_train)[0].cpu().detach().numpy()\n",
    "X_test_encoded = model.encoder(X_test)[0].cpu().detach().numpy()"
   ]
  },
  {
   "cell_type": "markdown",
   "id": "280207a9",
   "metadata": {},
   "source": [
    "# Classification by using the transformed data"
   ]
  },
  {
   "cell_type": "code",
   "execution_count": 49,
   "id": "8c7c70bc",
   "metadata": {},
   "outputs": [],
   "source": [
    "from sklearn.metrics import roc_auc_score, accuracy_score, recall_score, precision_score, f1_score\n",
    "def get_metrics(clf, is_svm=False):\n",
    "    y_true, y_pred = y_test, clf.predict(X_test_encoded)\n",
    "    y_prob = 0\n",
    "    if is_svm:\n",
    "        y_prob = clf.decision_function(X_test_encoded)\n",
    "    else:\n",
    "        y_prob = clf.predict_proba(X_test_encoded)\n",
    "    # Performance Metrics: AUC, ACC, Recall, Precision, F1_score\n",
    "    metrics = {\n",
    "    'ACC': accuracy_score(y_true, y_pred),\n",
    "    'Recall': recall_score(y_true, y_pred),\n",
    "    'Precision': precision_score(y_true, y_pred),\n",
    "    'F1_score': f1_score(y_true, y_pred),\n",
    "    }\n",
    "    if not is_svm:\n",
    "        metrics['AUC'] = roc_auc_score(y_true, y_prob[:, 1])\n",
    "    else:\n",
    "        metrics['AUC'] = roc_auc_score(y_true, y_prob)\n",
    "    return metrics"
   ]
  },
  {
   "cell_type": "code",
   "execution_count": 50,
   "id": "8c966999",
   "metadata": {},
   "outputs": [
    {
     "name": "stdout",
     "output_type": "stream",
     "text": [
      "{'ACC': 0.7021276595744681, 'Recall': 0.625, 'Precision': 0.75, 'F1_score': 0.6818181818181818, 'AUC': 0.8405797101449275}\n"
     ]
    }
   ],
   "source": [
    "# SVM\n",
    "from sklearn.svm import SVC\n",
    "clf = SVC(kernel='linear')\n",
    "clf.fit(X_train_encoded, y_train)\n",
    "print(get_metrics(clf, is_svm=True))"
   ]
  },
  {
   "cell_type": "code",
   "execution_count": 51,
   "id": "5a3d4a29",
   "metadata": {},
   "outputs": [
    {
     "name": "stdout",
     "output_type": "stream",
     "text": [
      "{'ACC': 0.7872340425531915, 'Recall': 0.6666666666666666, 'Precision': 0.8888888888888888, 'F1_score': 0.761904761904762, 'AUC': 0.8442028985507247}\n"
     ]
    }
   ],
   "source": [
    "# Random Forest\n",
    "from sklearn.ensemble import RandomForestClassifier\n",
    "clf = RandomForestClassifier(n_estimators=100)\n",
    "clf.fit(X_train_encoded, y_train)\n",
    "print(get_metrics(clf))"
   ]
  },
  {
   "cell_type": "code",
   "execution_count": 52,
   "id": "4e032127",
   "metadata": {},
   "outputs": [
    {
     "name": "stdout",
     "output_type": "stream",
     "text": [
      "{'ACC': 0.7021276595744681, 'Recall': 0.625, 'Precision': 0.75, 'F1_score': 0.6818181818181818, 'AUC': 0.8079710144927537}\n"
     ]
    },
    {
     "name": "stderr",
     "output_type": "stream",
     "text": [
      "/opt/homebrew/Caskroom/miniforge/base/envs/torch-mps/lib/python3.11/site-packages/sklearn/neural_network/_multilayer_perceptron.py:691: ConvergenceWarning: Stochastic Optimizer: Maximum iterations (1000) reached and the optimization hasn't converged yet.\n",
      "  warnings.warn(\n"
     ]
    }
   ],
   "source": [
    "# Multi-layer Perceptron\n",
    "from sklearn.neural_network import MLPClassifier\n",
    "clf = MLPClassifier(hidden_layer_sizes=(100, 100), max_iter=1000)\n",
    "clf.fit(X_train_encoded, y_train)\n",
    "print(get_metrics(clf))"
   ]
  }
 ],
 "metadata": {
  "kernelspec": {
   "display_name": "Python 3",
   "language": "python",
   "name": "python3"
  },
  "language_info": {
   "codemirror_mode": {
    "name": "ipython",
    "version": 3
   },
   "file_extension": ".py",
   "mimetype": "text/x-python",
   "name": "python",
   "nbconvert_exporter": "python",
   "pygments_lexer": "ipython3",
   "version": "3.11.6"
  }
 },
 "nbformat": 4,
 "nbformat_minor": 5
}
