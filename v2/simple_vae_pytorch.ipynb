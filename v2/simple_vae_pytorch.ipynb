{
 "cells": [
  {
   "cell_type": "code",
   "execution_count": 1,
   "id": "initial_id",
   "metadata": {
    "ExecuteTime": {
     "end_time": "2024-04-27T05:03:17.301772Z",
     "start_time": "2024-04-27T05:03:17.287674Z"
    },
    "collapsed": true
   },
   "outputs": [],
   "source": [
    "import os\n",
    "import torch\n",
    "import torch.nn as nn\n",
    "import torch.nn.functional as F\n",
    "import torchvision\n",
    "# import cv2\n",
    "import numpy as np\n",
    "\n",
    "device = torch.device(\"cuda\" if torch.cuda.is_available() else \"cpu\")\n",
    "if torch.backends.mps.is_available():\n",
    "    device = torch.device(\"mps\")"
   ]
  },
  {
   "cell_type": "markdown",
   "id": "33452d43d28ea3c1",
   "metadata": {},
   "source": [
    "# Load Data"
   ]
  },
  {
   "cell_type": "code",
   "execution_count": 2,
   "id": "8fe644b7",
   "metadata": {},
   "outputs": [],
   "source": [
    "seed = 42"
   ]
  },
  {
   "cell_type": "code",
   "execution_count": 3,
   "id": "b69b8829",
   "metadata": {},
   "outputs": [],
   "source": [
    "from sklearn.model_selection import train_test_split\n",
    "import pandas as pd"
   ]
  },
  {
   "cell_type": "code",
   "execution_count": 4,
   "id": "197e75d0c64126b7",
   "metadata": {},
   "outputs": [
    {
     "name": "stdout",
     "output_type": "stream",
     "text": [
      "Train data shape:  (185, 542)\n",
      "Test data shape:  (47, 542)\n"
     ]
    }
   ],
   "source": [
    "label_dict = {\n",
    "    # Controls\n",
    "    'n': 0,\n",
    "    # Chirrhosis\n",
    "    'cirrhosis': 1,\n",
    "    # Colorectal Cancer\n",
    "    'cancer': 1, 'small_adenoma': 0,\n",
    "    # IBD\n",
    "    'ibd_ulcerative_colitis': 1, 'ibd_crohn_disease': 1,\n",
    "    # T2D and WT2D\n",
    "    't2d': 1,\n",
    "    # Obesity\n",
    "    'leaness': 0, 'obesity': 1,\n",
    "}\n",
    "def loadData(data_dir, filename, dtype=None):\n",
    "    feature_string = ''\n",
    "    if filename.split('_')[0] == 'abundance':\n",
    "        feature_string = \"k__\"\n",
    "    if filename.split('_')[0] == 'marker':\n",
    "        feature_string = \"gi|\"\n",
    "    # read file\n",
    "    filename = data_dir + filename\n",
    "    if not os.path.isfile(filename):\n",
    "        print(\"FileNotFoundError: File {} does not exist\".format(filename))\n",
    "        exit()\n",
    "    raw = pd.read_csv(filename, sep='\\t', index_col=0, header=None)\n",
    "\n",
    "    # select rows having feature index identifier string\n",
    "    X = raw.loc[raw.index.str.contains(feature_string, regex=False)].T\n",
    "\n",
    "    # get class labels\n",
    "    Y = raw.loc['disease']\n",
    "    Y = Y.replace(label_dict)\n",
    "\n",
    "    # train and test split\n",
    "    X_train, X_test, y_train, y_test = train_test_split(X.values.astype(dtype), Y.values.astype('int'), test_size=0.2, random_state=seed, stratify=Y.values)\n",
    "    print(\"Train data shape: \", X_train.shape)\n",
    "    print(\"Test data shape: \", X_test.shape)\n",
    "    return X_train, X_test, y_train, y_test\n",
    "\n",
    "data_dir = './data/abundance/'\n",
    "data_string = 'abundance_Cirrhosis.txt'\n",
    "X_train, X_test, y_train, y_test = loadData(data_dir, data_string, dtype='float32')"
   ]
  },
  {
   "cell_type": "code",
   "execution_count": 5,
   "id": "a2e4dc03",
   "metadata": {},
   "outputs": [],
   "source": [
    "trainloader = torch.utils.data.DataLoader(torch.utils.data.TensorDataset(torch.tensor(X_train), torch.tensor(y_train)), batch_size=32, shuffle=True)\n",
    "testloader = torch.utils.data.DataLoader(torch.utils.data.TensorDataset(torch.tensor(X_test), torch.tensor(y_test)), batch_size=32, shuffle=False)"
   ]
  },
  {
   "cell_type": "markdown",
   "id": "6d6342b0",
   "metadata": {},
   "source": [
    "# Define the VAE model"
   ]
  },
  {
   "cell_type": "code",
   "execution_count": 6,
   "id": "bf695584",
   "metadata": {},
   "outputs": [
    {
     "data": {
      "text/plain": [
       "VAE(\n",
       "  (encoder1): Linear(in_features=542, out_features=128, bias=True)\n",
       "  (mu): Linear(in_features=128, out_features=8, bias=True)\n",
       "  (log_sigma2): Linear(in_features=128, out_features=8, bias=True)\n",
       "  (decoder1): Linear(in_features=8, out_features=128, bias=True)\n",
       "  (decoder2): Linear(in_features=128, out_features=542, bias=True)\n",
       ")"
      ]
     },
     "execution_count": 6,
     "metadata": {},
     "output_type": "execute_result"
    }
   ],
   "source": [
    "class VAE(nn.Module):\n",
    "    def __init__(self, input_dim=28*28, latent_dim=8):\n",
    "        super(VAE, self).__init__()\n",
    "        self.input_dim = input_dim\n",
    "\n",
    "        # DNN as encoder\n",
    "        self.encoder1 = nn.Linear(input_dim, 128)\n",
    "        self.mu = nn.Linear(128, 8)\n",
    "        self.log_sigma2 = nn.Linear(128, 8)\n",
    "\n",
    "        # DNN as decoder\n",
    "        self.decoder1 = nn.Linear(8, 128)\n",
    "        self.decoder2 = nn.Linear(128, input_dim)\n",
    "\n",
    "    def encoder(self, x):\n",
    "        h = torch.tanh(self.encoder1(x))\n",
    "        return self.mu(h), torch.sqrt(torch.exp(self.log_sigma2(h)))\n",
    "\n",
    "    def sampling(self, mu, std): # Reparameterization trick\n",
    "        eps = torch.randn_like(std)\n",
    "        return mu + eps * std\n",
    "\n",
    "    def decoder(self, z):\n",
    "        h = torch.tanh(self.decoder1(z))\n",
    "        return torch.sigmoid(self.decoder2(h))\n",
    "\n",
    "    def forward(self, x):\n",
    "        mu, std = self.encoder(x.view(-1, self.input_dim))\n",
    "        z = self.sampling(mu, std)\n",
    "        return self.decoder(z), mu, std\n",
    "\n",
    "    @staticmethod\n",
    "    def loss_func(x_hat, x, mu, std):\n",
    "        # define the reconstruction loss\n",
    "        ERR = F.binary_cross_entropy(x_hat, x, reduction='sum')\n",
    "        # define the KL divergence loss\n",
    "        KLD = -0.5 * torch.sum(1 + torch.log(std**2) - mu**2 - std**2)\n",
    "        return ERR + KLD, ERR, KLD\n",
    "\n",
    "model = VAE(input_dim=X_train.shape[1], latent_dim=8)\n",
    "model.to(device) # move model to GPU"
   ]
  },
  {
   "cell_type": "markdown",
   "id": "e4f8256c",
   "metadata": {},
   "source": [
    "# Model training and evaluation"
   ]
  },
  {
   "cell_type": "code",
   "execution_count": 7,
   "id": "66781385",
   "metadata": {},
   "outputs": [
    {
     "name": "stdout",
     "output_type": "stream",
     "text": [
      "-- epoch 0 --, train MSE: 10231.144368489584, train KL: 70.68620745340984, test MSE: 5392.361328125\n"
     ]
    }
   ],
   "source": [
    "optimizer = torch.optim.AdamW(model.parameters(), lr = 0.002)\n",
    "\n",
    "rec_loss, kl_loss = [], []\n",
    "for epoch in range(1):\n",
    "\n",
    "    \"\"\" model training \"\"\"\n",
    "    model.train()\n",
    "    cur_rec_loss, cur_kl_loss = [], []\n",
    "    for batch_idx, (data, _) in enumerate(trainloader):\n",
    "        data = data.to(device)\n",
    "        rec, mu, std = model(data)\n",
    "        loss, err, kl = model.loss_func(rec, data.reshape(-1, model.input_dim), mu, std)\n",
    "\n",
    "        optimizer.zero_grad()\n",
    "        loss.backward()\n",
    "        optimizer.step()\n",
    "\n",
    "        cur_rec_loss.append(err.item())\n",
    "        cur_kl_loss.append(kl.item())\n",
    "\n",
    "    rec_loss.append(np.mean(cur_rec_loss))\n",
    "    kl_loss.append(np.mean(cur_kl_loss))\n",
    "\n",
    "    \"\"\" model evaluation \"\"\"\n",
    "    with torch.no_grad():\n",
    "        test_loss = []\n",
    "        for batch_idx, (data, _) in enumerate(testloader):\n",
    "            data = data.to(device)\n",
    "            rec, mu, std = model(data)\n",
    "            _, mse, _ = model.loss_func(rec, data.reshape(data.shape[0], -1), mu, std)\n",
    "            test_loss.append(mse.item())\n",
    "\n",
    "    if epoch % 10 == 0:\n",
    "        print (f\"-- epoch {epoch} --, train MSE: {np.mean(cur_rec_loss)}, train KL: {np.mean(cur_kl_loss)}, test MSE: {np.mean(test_loss)}\")"
   ]
  },
  {
   "cell_type": "markdown",
   "id": "89fdab20",
   "metadata": {},
   "source": [
    "# Draw Loss and Accuracy Curves"
   ]
  },
  {
   "cell_type": "code",
   "execution_count": 8,
   "id": "08dce77d",
   "metadata": {},
   "outputs": [
    {
     "data": {
      "text/plain": [
       "Text(0.5, 1.0, 'KL divergence loss')"
      ]
     },
     "execution_count": 8,
     "metadata": {},
     "output_type": "execute_result"
    },
    {
     "data": {
      "image/png": "[encoded data removed]",
      "text/plain": [
       "<Figure size 1000x400 with 2 Axes>"
      ]
     },
     "metadata": {},
     "output_type": "display_data"
    }
   ],
   "source": [
    "import matplotlib.pyplot as plt\n",
    "\n",
    "plt.figure(figsize=(10, 4))\n",
    "plt.subplot(121)\n",
    "plt.plot(rec_loss)\n",
    "plt.title(\"rec MSE loss\")\n",
    "\n",
    "plt.subplot(122)\n",
    "plt.plot(kl_loss)\n",
    "plt.title(\"KL divergence loss\")"
   ]
  },
  {
   "cell_type": "markdown",
   "id": "83062a8e",
   "metadata": {},
   "source": [
    "# Transform the data by using the trained model"
   ]
  },
  {
   "cell_type": "code",
   "execution_count": 9,
   "id": "73eb0a7d",
   "metadata": {},
   "outputs": [],
   "source": [
    "X_train = torch.tensor(X_train).to(device)\n",
    "X_test = torch.tensor(X_test).to(device)\n",
    "\n",
    "X_train = model.encoder(X_train)[0].cpu().detach().numpy()\n",
    "X_test = model.encoder(X_test)[0].cpu().detach().numpy()"
   ]
  },
  {
   "cell_type": "markdown",
   "id": "280207a9",
   "metadata": {},
   "source": [
    "# Classification by using the transformed data"
   ]
  },
  {
   "cell_type": "code",
   "execution_count": 10,
   "id": "8c7c70bc",
   "metadata": {},
   "outputs": [],
   "source": [
    "from sklearn.metrics import roc_auc_score, accuracy_score, recall_score, precision_score, f1_score\n",
    "def get_metrics(clf):\n",
    "    y_true, y_pred = y_test, clf.predict(X_test)\n",
    "    y_prob = clf.predict_proba(X_test)\n",
    "    # Performance Metrics: AUC, ACC, Recall, Precision, F1_score\n",
    "    metrics = {\n",
    "    'AUC': roc_auc_score(y_true, y_prob[:, 1]),\n",
    "    'ACC': accuracy_score(y_true, y_pred),\n",
    "    'Recall': recall_score(y_true, y_pred),\n",
    "    'Precision': precision_score(y_true, y_pred),\n",
    "    'F1_score': f1_score(y_true, y_pred),\n",
    "    }\n",
    "    return metrics"
   ]
  },
  {
   "cell_type": "code",
   "execution_count": 11,
   "id": "8c966999",
   "metadata": {},
   "outputs": [
    {
     "data": {
      "text/html": [
       "<style>#sk-container-id-1 {color: black;}#sk-container-id-1 pre{padding: 0;}#sk-container-id-1 div.sk-toggleable {background-color: white;}#sk-container-id-1 label.sk-toggleable__label {cursor: pointer;display: block;width: 100%;margin-bottom: 0;padding: 0.3em;box-sizing: border-box;text-align: center;}#sk-container-id-1 label.sk-toggleable__label-arrow:before {content: \"▸\";float: left;margin-right: 0.25em;color: #696969;}#sk-container-id-1 label.sk-toggleable__label-arrow:hover:before {color: black;}#sk-container-id-1 div.sk-estimator:hover label.sk-toggleable__label-arrow:before {color: black;}#sk-container-id-1 div.sk-toggleable__content {max-height: 0;max-width: 0;overflow: hidden;text-align: left;background-color: #f0f8ff;}#sk-container-id-1 div.sk-toggleable__content pre {margin: 0.2em;color: black;border-radius: 0.25em;background-color: #f0f8ff;}#sk-container-id-1 input.sk-toggleable__control:checked~div.sk-toggleable__content {max-height: 200px;max-width: 100%;overflow: auto;}#sk-container-id-1 input.sk-toggleable__control:checked~label.sk-toggleable__label-arrow:before {content: \"▾\";}#sk-container-id-1 div.sk-estimator input.sk-toggleable__control:checked~label.sk-toggleable__label {background-color: #d4ebff;}#sk-container-id-1 div.sk-label input.sk-toggleable__control:checked~label.sk-toggleable__label {background-color: #d4ebff;}#sk-container-id-1 input.sk-hidden--visually {border: 0;clip: rect(1px 1px 1px 1px);clip: rect(1px, 1px, 1px, 1px);height: 1px;margin: -1px;overflow: hidden;padding: 0;position: absolute;width: 1px;}#sk-container-id-1 div.sk-estimator {font-family: monospace;background-color: #f0f8ff;border: 1px dotted black;border-radius: 0.25em;box-sizing: border-box;margin-bottom: 0.5em;}#sk-container-id-1 div.sk-estimator:hover {background-color: #d4ebff;}#sk-container-id-1 div.sk-parallel-item::after {content: \"\";width: 100%;border-bottom: 1px solid gray;flex-grow: 1;}#sk-container-id-1 div.sk-label:hover label.sk-toggleable__label {background-color: #d4ebff;}#sk-container-id-1 div.sk-serial::before {content: \"\";position: absolute;border-left: 1px solid gray;box-sizing: border-box;top: 0;bottom: 0;left: 50%;z-index: 0;}#sk-container-id-1 div.sk-serial {display: flex;flex-direction: column;align-items: center;background-color: white;padding-right: 0.2em;padding-left: 0.2em;position: relative;}#sk-container-id-1 div.sk-item {position: relative;z-index: 1;}#sk-container-id-1 div.sk-parallel {display: flex;align-items: stretch;justify-content: center;background-color: white;position: relative;}#sk-container-id-1 div.sk-item::before, #sk-container-id-1 div.sk-parallel-item::before {content: \"\";position: absolute;border-left: 1px solid gray;box-sizing: border-box;top: 0;bottom: 0;left: 50%;z-index: -1;}#sk-container-id-1 div.sk-parallel-item {display: flex;flex-direction: column;z-index: 1;position: relative;background-color: white;}#sk-container-id-1 div.sk-parallel-item:first-child::after {align-self: flex-end;width: 50%;}#sk-container-id-1 div.sk-parallel-item:last-child::after {align-self: flex-start;width: 50%;}#sk-container-id-1 div.sk-parallel-item:only-child::after {width: 0;}#sk-container-id-1 div.sk-dashed-wrapped {border: 1px dashed gray;margin: 0 0.4em 0.5em 0.4em;box-sizing: border-box;padding-bottom: 0.4em;background-color: white;}#sk-container-id-1 div.sk-label label {font-family: monospace;font-weight: bold;display: inline-block;line-height: 1.2em;}#sk-container-id-1 div.sk-label-container {text-align: center;}#sk-container-id-1 div.sk-container {/* jupyter's `normalize.less` sets `[hidden] { display: none; }` but bootstrap.min.css set `[hidden] { display: none !important; }` so we also need the `!important` here to be able to override the default hidden behavior on the sphinx rendered scikit-learn.org. See: https://github.com/scikit-learn/scikit-learn/issues/21755 */display: inline-block !important;position: relative;}#sk-container-id-1 div.sk-text-repr-fallback {display: none;}</style><div id=\"sk-container-id-1\" class=\"sk-top-container\"><div class=\"sk-text-repr-fallback\"><pre>SVC(kernel=&#x27;linear&#x27;)</pre><b>In a Jupyter environment, please rerun this cell to show the HTML representation or trust the notebook. <br />On GitHub, the HTML representation is unable to render, please try loading this page with nbviewer.org.</b></div><div class=\"sk-container\" hidden><div class=\"sk-item\"><div class=\"sk-estimator sk-toggleable\"><input class=\"sk-toggleable__control sk-hidden--visually\" id=\"sk-estimator-id-1\" type=\"checkbox\" checked><label for=\"sk-estimator-id-1\" class=\"sk-toggleable__label sk-toggleable__label-arrow\">SVC</label><div class=\"sk-toggleable__content\"><pre>SVC(kernel=&#x27;linear&#x27;)</pre></div></div></div></div></div>"
      ],
      "text/plain": [
       "SVC(kernel='linear')"
      ]
     },
     "execution_count": 11,
     "metadata": {},
     "output_type": "execute_result"
    }
   ],
   "source": [
    "# SVM\n",
    "from sklearn.svm import SVC\n",
    "clf = SVC(kernel='linear')\n",
    "clf.fit(X_train, y_train)\n",
    "print(get_metrics(clf))"
   ]
  },
  {
   "cell_type": "code",
   "execution_count": 19,
   "id": "5a3d4a29",
   "metadata": {},
   "outputs": [
    {
     "name": "stdout",
     "output_type": "stream",
     "text": [
      "{'AUC': 0.7862318840579711, 'ACC': 0.723404255319149, 'Recall': 0.7083333333333334, 'Precision': 0.7391304347826086, 'F1_score': 0.723404255319149}\n"
     ]
    }
   ],
   "source": [
    "# Random Forest\n",
    "from sklearn.ensemble import RandomForestClassifier\n",
    "clf = RandomForestClassifier(n_estimators=100)\n",
    "clf.fit(X_train, y_train)\n",
    "print(get_metrics(clf))"
   ]
  },
  {
   "cell_type": "code",
   "execution_count": 20,
   "id": "4e032127",
   "metadata": {},
   "outputs": [
    {
     "name": "stdout",
     "output_type": "stream",
     "text": [
      "{'AUC': 0.7155797101449276, 'ACC': 0.6808510638297872, 'Recall': 0.5833333333333334, 'Precision': 0.7368421052631579, 'F1_score': 0.6511627906976745}\n"
     ]
    },
    {
     "name": "stderr",
     "output_type": "stream",
     "text": [
      "/opt/homebrew/Caskroom/miniforge/base/envs/torch-mps/lib/python3.11/site-packages/sklearn/neural_network/_multilayer_perceptron.py:691: ConvergenceWarning: Stochastic Optimizer: Maximum iterations (1000) reached and the optimization hasn't converged yet.\n",
      "  warnings.warn(\n"
     ]
    }
   ],
   "source": [
    "# Multi-layer Perceptron\n",
    "from sklearn.neural_network import MLPClassifier\n",
    "clf = MLPClassifier(hidden_layer_sizes=(100, 100), max_iter=1000)\n",
    "clf.fit(X_train, y_train)\n",
    "print(get_metrics(clf))"
   ]
  }
 ],
 "metadata": {
  "kernelspec": {
   "display_name": "Python 3",
   "language": "python",
   "name": "python3"
  },
  "language_info": {
   "codemirror_mode": {
    "name": "ipython",
    "version": 3
   },
   "file_extension": ".py",
   "mimetype": "text/x-python",
   "name": "python",
   "nbconvert_exporter": "python",
   "pygments_lexer": "ipython3",
   "version": "3.11.6"
  }
 },
 "nbformat": 4,
 "nbformat_minor": 5
}
