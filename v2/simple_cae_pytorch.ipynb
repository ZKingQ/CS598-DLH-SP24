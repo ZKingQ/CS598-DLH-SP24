{
 "cells": [
  {
   "cell_type": "code",
   "execution_count": 103,
   "id": "initial_id",
   "metadata": {
    "ExecuteTime": {
     "end_time": "2024-04-27T05:03:17.301772Z",
     "start_time": "2024-04-27T05:03:17.287674Z"
    },
    "collapsed": true
   },
   "outputs": [],
   "source": [
    "import os\n",
    "import torch\n",
    "import torch.nn as nn\n",
    "import torch.nn.functional as F\n",
    "import torchvision\n",
    "# import cv2\n",
    "import numpy as np\n",
    "\n",
    "device = torch.device(\"cuda\" if torch.cuda.is_available() else \"cpu\")\n",
    "if torch.backends.mps.is_available():\n",
    "    device = torch.device(\"mps\")"
   ]
  },
  {
   "cell_type": "markdown",
   "id": "33452d43d28ea3c1",
   "metadata": {},
   "source": [
    "# Load Data"
   ]
  },
  {
   "cell_type": "code",
   "execution_count": 104,
   "id": "8fe644b7",
   "metadata": {},
   "outputs": [],
   "source": [
    "seed = 42"
   ]
  },
  {
   "cell_type": "code",
   "execution_count": 105,
   "id": "b69b8829",
   "metadata": {},
   "outputs": [],
   "source": [
    "from sklearn.model_selection import train_test_split\n",
    "import pandas as pd"
   ]
  },
  {
   "cell_type": "code",
   "execution_count": 106,
   "id": "197e75d0c64126b7",
   "metadata": {},
   "outputs": [
    {
     "name": "stdout",
     "output_type": "stream",
     "text": [
      "Train data shape:  (185, 542)\n",
      "Test data shape:  (47, 542)\n"
     ]
    }
   ],
   "source": [
    "label_dict = {\n",
    "    # Controls\n",
    "    'n': 0,\n",
    "    # Chirrhosis\n",
    "    'cirrhosis': 1,\n",
    "    # Colorectal Cancer\n",
    "    'cancer': 1, 'small_adenoma': 0,\n",
    "    # IBD\n",
    "    'ibd_ulcerative_colitis': 1, 'ibd_crohn_disease': 1,\n",
    "    # T2D and WT2D\n",
    "    't2d': 1,\n",
    "    # Obesity\n",
    "    'leaness': 0, 'obesity': 1,\n",
    "}\n",
    "def loadData(data_dir, filename, dtype=None):\n",
    "    feature_string = ''\n",
    "    if filename.split('_')[0] == 'abundance':\n",
    "        feature_string = \"k__\"\n",
    "    if filename.split('_')[0] == 'marker':\n",
    "        feature_string = \"gi|\"\n",
    "    # read file\n",
    "    filename = data_dir + filename\n",
    "    if not os.path.isfile(filename):\n",
    "        print(\"FileNotFoundError: File {} does not exist\".format(filename))\n",
    "        exit()\n",
    "    raw = pd.read_csv(filename, sep='\\t', index_col=0, header=None)\n",
    "\n",
    "    # select rows having feature index identifier string\n",
    "    X = raw.loc[raw.index.str.contains(feature_string, regex=False)].T\n",
    "\n",
    "    # get class labels\n",
    "    Y = raw.loc['disease']\n",
    "    Y = Y.replace(label_dict)\n",
    "\n",
    "    # train and test split\n",
    "    X_train, X_test, y_train, y_test = train_test_split(X.values.astype(dtype), Y.values.astype('int'), test_size=0.2, random_state=seed, stratify=Y.values)\n",
    "    print(\"Train data shape: \", X_train.shape)\n",
    "    print(\"Test data shape: \", X_test.shape)\n",
    "    return X_train, X_test, y_train, y_test\n",
    "\n",
    "data_dir = '../data/abundance/'\n",
    "data_string = 'abundance_Cirrhosis.txt'\n",
    "X_train, X_test, y_train, y_test = loadData(data_dir, data_string, dtype='float32')"
   ]
  },
  {
   "cell_type": "code",
   "execution_count": 107,
   "id": "a2e4dc03",
   "metadata": {},
   "outputs": [],
   "source": [
    "import math\n",
    "onesideDim = int(math.sqrt(X_train.shape[1])) + 1\n",
    "enlargedDim = onesideDim ** 2\n",
    "X_train = np.column_stack((X_train, np.zeros((X_train.shape[0], enlargedDim - X_train.shape[1]))))\n",
    "X_test = np.column_stack((X_test, np.zeros((X_test.shape[0], enlargedDim - X_test.shape[1]))))\n",
    "\n",
    "# reshape\n",
    "X_train = np.reshape(X_train, (len(X_train), onesideDim, onesideDim, 1))\n",
    "X_test = np.reshape(X_test, (len(X_test), onesideDim, onesideDim, 1))\n",
    "# to float32\n",
    "X_train = X_train.astype('float32')\n",
    "X_test = X_test.astype('float32')\n",
    "\n",
    "trainloader = torch.utils.data.DataLoader(torch.utils.data.TensorDataset(torch.tensor(X_train), torch.tensor(y_train)), batch_size=32, shuffle=True)\n",
    "testloader = torch.utils.data.DataLoader(torch.utils.data.TensorDataset(torch.tensor(X_test), torch.tensor(y_test)), batch_size=32, shuffle=False)"
   ]
  },
  {
   "cell_type": "code",
   "execution_count": 108,
   "id": "b74c836d",
   "metadata": {},
   "outputs": [
    {
     "name": "stdout",
     "output_type": "stream",
     "text": [
      "Train data shape:  (185, 24, 24, 1)\n",
      "Test data shape:  (47, 24, 24, 1)\n"
     ]
    }
   ],
   "source": [
    "print(\"Train data shape: \", X_train.shape)\n",
    "print(\"Test data shape: \", X_test.shape)"
   ]
  },
  {
   "cell_type": "markdown",
   "id": "6d6342b0",
   "metadata": {},
   "source": [
    "# Define the CAE model"
   ]
  },
  {
   "cell_type": "code",
   "execution_count": 109,
   "id": "5dd463d6",
   "metadata": {},
   "outputs": [],
   "source": [
    "class CAE(nn.Module):\n",
    "    def __init__(self):\n",
    "        super(CAE, self).__init__()\n",
    "\n",
    "        # CNN as encoder\n",
    "        self.encoder = nn.Sequential(\n",
    "            nn.Conv2d(1, 16, 3, stride=2, padding=1),\n",
    "            nn.ReLU(),\n",
    "            nn.Conv2d(16, 32, 3, stride=2, padding=1),\n",
    "            nn.ReLU(),\n",
    "            nn.Conv2d(32, 64, 6)\n",
    "        )\n",
    "\n",
    "        # CNN as decoder\n",
    "        self.decoder = nn.Sequential(\n",
    "            nn.ConvTranspose2d(64, 32, 6),\n",
    "            nn.ReLU(),\n",
    "            nn.ConvTranspose2d(32, 16, 3, stride=2, padding=1, output_padding=1),\n",
    "            nn.ReLU(),\n",
    "            nn.ConvTranspose2d(16, 1, 3, stride=2, padding=1, output_padding=1),\n",
    "            nn.Sigmoid()\n",
    "        )\n",
    "\n",
    "    def forward(self, x):\n",
    "        z = self.encoder(x)\n",
    "        return self.decoder(z)\n",
    "\n",
    "    @staticmethod\n",
    "    def loss_func(x_hat, x):\n",
    "        return F.mse_loss(x_hat, x)"
   ]
  },
  {
   "cell_type": "code",
   "execution_count": 110,
   "id": "af66d7c4",
   "metadata": {},
   "outputs": [],
   "source": [
    "model = CAE().to(device)"
   ]
  },
  {
   "cell_type": "markdown",
   "id": "e4f8256c",
   "metadata": {},
   "source": [
    "# Model training and evaluation"
   ]
  },
  {
   "cell_type": "code",
   "execution_count": 111,
   "id": "66781385",
   "metadata": {},
   "outputs": [
    {
     "name": "stdout",
     "output_type": "stream",
     "text": [
      "-- epoch 0 --, train MSE: 2.487314502398173, test MSE: 2.1010005474090576\n",
      "-- epoch 10 --, train MSE: 2.2360695600509644, test MSE: 1.8984196186065674\n",
      "-- epoch 20 --, train MSE: 2.23394642273585, test MSE: 1.897481620311737\n",
      "-- epoch 30 --, train MSE: 2.228239377339681, test MSE: 1.8955141305923462\n",
      "-- epoch 40 --, train MSE: 2.2460422913233438, test MSE: 1.8952752351760864\n"
     ]
    }
   ],
   "source": [
    "optimizer = torch.optim.AdamW(model.parameters(), lr = 0.002)\n",
    "\n",
    "losses = []\n",
    "for epoch in range(50):\n",
    "\n",
    "    \"\"\" model training \"\"\"\n",
    "    model.train()\n",
    "    cur_rec_loss = []\n",
    "    for batch_idx, (data, _) in enumerate(trainloader):\n",
    "        data = data.to(device)\n",
    "        data = data.transpose(1, 3)\n",
    "        rec = model(data)\n",
    "        loss = model.loss_func(rec, data)\n",
    "        optimizer.zero_grad()\n",
    "        loss.backward()\n",
    "        optimizer.step()\n",
    "        cur_rec_loss.append(loss.item())\n",
    "    losses.append(np.mean(cur_rec_loss))\n",
    "\n",
    "    \"\"\" model evaluation \"\"\"\n",
    "    with torch.no_grad():\n",
    "        test_loss = []\n",
    "        for batch_idx, (data, _) in enumerate(testloader):\n",
    "            data = data.to(device)\n",
    "            data = data.transpose(1, 3)\n",
    "            rec = model(data)\n",
    "            loss = model.loss_func(rec, data)\n",
    "            test_loss.append(loss.item())\n",
    "\n",
    "    if epoch % 10 == 0:\n",
    "        print (f\"-- epoch {epoch} --, train MSE: {np.mean(cur_rec_loss)}, test MSE: {np.mean(test_loss)}\")"
   ]
  },
  {
   "cell_type": "markdown",
   "id": "89fdab20",
   "metadata": {},
   "source": [
    "# Draw Loss and Accuracy Curves"
   ]
  },
  {
   "cell_type": "code",
   "execution_count": 112,
   "id": "08dce77d",
   "metadata": {},
   "outputs": [
    {
     "data": {
      "text/plain": [
       "Text(0.5, 1.0, 'rec MSE loss')"
      ]
     },
     "execution_count": 112,
     "metadata": {},
     "output_type": "execute_result"
    },
    {
     "data": {
      "image/png": "[encoded data removed]",
      "text/plain": [
       "<Figure size 1000x400 with 1 Axes>"
      ]
     },
     "metadata": {},
     "output_type": "display_data"
    }
   ],
   "source": [
    "import matplotlib.pyplot as plt\n",
    "\n",
    "plt.figure(figsize=(10, 4))\n",
    "plt.subplot(121)\n",
    "plt.plot(losses)\n",
    "plt.title(\"rec MSE loss\")"
   ]
  },
  {
   "cell_type": "markdown",
   "id": "83062a8e",
   "metadata": {},
   "source": [
    "# Transform the data by using the trained model"
   ]
  },
  {
   "cell_type": "code",
   "execution_count": 113,
   "id": "73eb0a7d",
   "metadata": {},
   "outputs": [],
   "source": [
    "X_train = torch.tensor(X_train).to(device)\n",
    "X_test = torch.tensor(X_test).to(device)\n",
    "\n",
    "X_train = X_train.transpose(1, 3)\n",
    "X_test = X_test.transpose(1, 3)\n",
    "X_train_encoded = model.encoder(X_train).cpu().detach().numpy()\n",
    "X_test_encoded = model.encoder(X_test).cpu().detach().numpy()"
   ]
  },
  {
   "cell_type": "code",
   "execution_count": 114,
   "id": "edf48f8f",
   "metadata": {},
   "outputs": [
    {
     "name": "stdout",
     "output_type": "stream",
     "text": [
      "Encoded train data shape:  (185, 64, 1, 1)\n",
      "Encoded test data shape:  (47, 64, 1, 1)\n"
     ]
    }
   ],
   "source": [
    "print(\"Encoded train data shape: \", X_train_encoded.shape)\n",
    "print(\"Encoded test data shape: \", X_test_encoded.shape)"
   ]
  },
  {
   "cell_type": "code",
   "execution_count": 115,
   "id": "70a48c67",
   "metadata": {},
   "outputs": [],
   "source": [
    "X_train_encoded = np.reshape(X_train_encoded, (X_train_encoded.shape[0], -1))\n",
    "X_test_encoded = np.reshape(X_test_encoded, (X_test_encoded.shape[0], -1))"
   ]
  },
  {
   "cell_type": "markdown",
   "id": "280207a9",
   "metadata": {},
   "source": [
    "# Classification by using the transformed data"
   ]
  },
  {
   "cell_type": "code",
   "execution_count": 116,
   "id": "8c7c70bc",
   "metadata": {},
   "outputs": [],
   "source": [
    "from sklearn.metrics import roc_auc_score, accuracy_score, recall_score, precision_score, f1_score\n",
    "def get_metrics(clf, is_svm=False):\n",
    "    y_true, y_pred = y_test, clf.predict(X_test_encoded)\n",
    "    y_prob = 0\n",
    "    if is_svm:\n",
    "        y_prob = clf.decision_function(X_test_encoded)\n",
    "    else:\n",
    "        y_prob = clf.predict_proba(X_test_encoded)\n",
    "    # Performance Metrics: AUC, ACC, Recall, Precision, F1_score\n",
    "    metrics = {\n",
    "    'ACC': accuracy_score(y_true, y_pred),\n",
    "    'Recall': recall_score(y_true, y_pred),\n",
    "    'Precision': precision_score(y_true, y_pred),\n",
    "    'F1_score': f1_score(y_true, y_pred),\n",
    "    }\n",
    "    if not is_svm:\n",
    "        metrics['AUC'] = roc_auc_score(y_true, y_prob[:, 1])\n",
    "    else:\n",
    "        metrics['AUC'] = roc_auc_score(y_true, y_prob)\n",
    "    return metrics"
   ]
  },
  {
   "cell_type": "code",
   "execution_count": 117,
   "id": "8c966999",
   "metadata": {},
   "outputs": [
    {
     "name": "stdout",
     "output_type": "stream",
     "text": [
      "{'ACC': 0.723404255319149, 'Recall': 0.6666666666666666, 'Precision': 0.7619047619047619, 'F1_score': 0.7111111111111111, 'AUC': 0.786231884057971}\n"
     ]
    }
   ],
   "source": [
    "# SVM\n",
    "from sklearn.svm import SVC\n",
    "clf = SVC(kernel='linear')\n",
    "clf.fit(X_train_encoded, y_train)\n",
    "print(get_metrics(clf, is_svm=True))"
   ]
  },
  {
   "cell_type": "code",
   "execution_count": 118,
   "id": "5a3d4a29",
   "metadata": {},
   "outputs": [
    {
     "name": "stdout",
     "output_type": "stream",
     "text": [
      "{'ACC': 0.723404255319149, 'Recall': 0.7083333333333334, 'Precision': 0.7391304347826086, 'F1_score': 0.723404255319149, 'AUC': 0.8396739130434783}\n"
     ]
    }
   ],
   "source": [
    "# Random Forest\n",
    "from sklearn.ensemble import RandomForestClassifier\n",
    "clf = RandomForestClassifier(n_estimators=100)\n",
    "clf.fit(X_train_encoded, y_train)\n",
    "print(get_metrics(clf))"
   ]
  },
  {
   "cell_type": "code",
   "execution_count": 119,
   "id": "4e032127",
   "metadata": {},
   "outputs": [
    {
     "name": "stdout",
     "output_type": "stream",
     "text": [
      "{'ACC': 0.7446808510638298, 'Recall': 0.6666666666666666, 'Precision': 0.8, 'F1_score': 0.7272727272727272, 'AUC': 0.8025362318840579}\n"
     ]
    }
   ],
   "source": [
    "# Multi-layer Perceptron\n",
    "from sklearn.neural_network import MLPClassifier\n",
    "clf = MLPClassifier(hidden_layer_sizes=(100, 100), max_iter=1000)\n",
    "clf.fit(X_train_encoded, y_train)\n",
    "print(get_metrics(clf))"
   ]
  },
  {
   "cell_type": "code",
   "execution_count": null,
   "id": "7a3dff0f",
   "metadata": {},
   "outputs": [],
   "source": []
  }
 ],
 "metadata": {
  "kernelspec": {
   "display_name": "Python 3",
   "language": "python",
   "name": "python3"
  },
  "language_info": {
   "codemirror_mode": {
    "name": "ipython",
    "version": 3
   },
   "file_extension": ".py",
   "mimetype": "text/x-python",
   "name": "python",
   "nbconvert_exporter": "python",
   "pygments_lexer": "ipython3",
   "version": "3.11.6"
  }
 },
 "nbformat": 4,
 "nbformat_minor": 5
}
