{
 "cells": [
  {
   "cell_type": "code",
   "execution_count": 71,
   "id": "initial_id",
   "metadata": {
    "ExecuteTime": {
     "end_time": "2024-04-27T05:03:17.301772Z",
     "start_time": "2024-04-27T05:03:17.287674Z"
    },
    "collapsed": true
   },
   "outputs": [],
   "source": [
    "import os\n",
    "import torch\n",
    "import torch.nn as nn\n",
    "import torch.nn.functional as F\n",
    "import torchvision\n",
    "# import cv2\n",
    "import numpy as np\n",
    "\n",
    "device = torch.device(\"cuda\" if torch.cuda.is_available() else \"cpu\")\n",
    "if torch.backends.mps.is_available():\n",
    "    device = torch.device(\"mps\")"
   ]
  },
  {
   "cell_type": "markdown",
   "id": "33452d43d28ea3c1",
   "metadata": {},
   "source": [
    "# Load Data"
   ]
  },
  {
   "cell_type": "code",
   "execution_count": 72,
   "id": "8fe644b7",
   "metadata": {},
   "outputs": [],
   "source": [
    "seed = 42"
   ]
  },
  {
   "cell_type": "code",
   "execution_count": 73,
   "id": "b69b8829",
   "metadata": {},
   "outputs": [],
   "source": [
    "from sklearn.model_selection import train_test_split\n",
    "import pandas as pd"
   ]
  },
  {
   "cell_type": "code",
   "execution_count": 74,
   "id": "197e75d0c64126b7",
   "metadata": {},
   "outputs": [
    {
     "name": "stdout",
     "output_type": "stream",
     "text": [
      "Train data shape:  (185, 542)\n",
      "Test data shape:  (47, 542)\n"
     ]
    }
   ],
   "source": [
    "label_dict = {\n",
    "    # Controls\n",
    "    'n': 0,\n",
    "    # Chirrhosis\n",
    "    'cirrhosis': 1,\n",
    "    # Colorectal Cancer\n",
    "    'cancer': 1, 'small_adenoma': 0,\n",
    "    # IBD\n",
    "    'ibd_ulcerative_colitis': 1, 'ibd_crohn_disease': 1,\n",
    "    # T2D and WT2D\n",
    "    't2d': 1,\n",
    "    # Obesity\n",
    "    'leaness': 0, 'obesity': 1,\n",
    "}\n",
    "def loadData(data_dir, filename, dtype=None):\n",
    "    feature_string = ''\n",
    "    if filename.split('_')[0] == 'abundance':\n",
    "        feature_string = \"k__\"\n",
    "    if filename.split('_')[0] == 'marker':\n",
    "        feature_string = \"gi|\"\n",
    "    # read file\n",
    "    filename = data_dir + filename\n",
    "    if not os.path.isfile(filename):\n",
    "        print(\"FileNotFoundError: File {} does not exist\".format(filename))\n",
    "        exit()\n",
    "    raw = pd.read_csv(filename, sep='\\t', index_col=0, header=None)\n",
    "\n",
    "    # select rows having feature index identifier string\n",
    "    X = raw.loc[raw.index.str.contains(feature_string, regex=False)].T\n",
    "\n",
    "    # get class labels\n",
    "    Y = raw.loc['disease']\n",
    "    Y = Y.replace(label_dict)\n",
    "\n",
    "    # train and test split\n",
    "    X_train, X_test, y_train, y_test = train_test_split(X.values.astype(dtype), Y.values.astype('int'), test_size=0.2, random_state=seed, stratify=Y.values)\n",
    "    print(\"Train data shape: \", X_train.shape)\n",
    "    print(\"Test data shape: \", X_test.shape)\n",
    "    return X_train, X_test, y_train, y_test\n",
    "\n",
    "data_dir = '../data/abundance/'\n",
    "data_string = 'abundance_Cirrhosis.txt'\n",
    "X_train, X_test, y_train, y_test = loadData(data_dir, data_string, dtype='float32')"
   ]
  },
  {
   "cell_type": "code",
   "execution_count": 75,
   "id": "a2e4dc03",
   "metadata": {},
   "outputs": [],
   "source": [
    "trainloader = torch.utils.data.DataLoader(torch.utils.data.TensorDataset(torch.tensor(X_train), torch.tensor(y_train)), batch_size=32, shuffle=True)\n",
    "testloader = torch.utils.data.DataLoader(torch.utils.data.TensorDataset(torch.tensor(X_test), torch.tensor(y_test)), batch_size=32, shuffle=False)"
   ]
  },
  {
   "cell_type": "markdown",
   "id": "6d6342b0",
   "metadata": {},
   "source": [
    "# Define the AE model"
   ]
  },
  {
   "cell_type": "code",
   "execution_count": 76,
   "id": "f8ef333d",
   "metadata": {},
   "outputs": [],
   "source": [
    "class AutoEncoder(nn.Module):\n",
    "    def __init__(self, input_dim=28*28):\n",
    "        super(AutoEncoder, self).__init__()\n",
    "        self.input_dim = input_dim\n",
    "\n",
    "        # DNN as encoder\n",
    "        self.encoder1 = nn.Linear(input_dim, 128)\n",
    "        self.encoder2 = nn.Linear(128, 64)\n",
    "        self.encoder3 = nn.Linear(64, 32)\n",
    "        self.encoder4 = nn.Linear(32, 8)\n",
    "\n",
    "        # DNN as decoder\n",
    "        self.decoder1 = nn.Linear(8, 32)\n",
    "        self.decoder2 = nn.Linear(32, 64)\n",
    "        self.decoder3 = nn.Linear(64, 128)\n",
    "        self.decoder4 = nn.Linear(128, input_dim)\n",
    "\n",
    "    def encoder(self, x):\n",
    "        h = torch.tanh(self.encoder1(x))\n",
    "        h = torch.tanh(self.encoder2(h))\n",
    "        h = torch.tanh(self.encoder3(h))\n",
    "        return torch.tanh(self.encoder4(h))\n",
    "\n",
    "    def decoder(self, z):\n",
    "        h = torch.tanh(self.decoder1(z))\n",
    "        h = torch.tanh(self.decoder2(h))\n",
    "        h = torch.tanh(self.decoder3(h))\n",
    "        return torch.sigmoid(self.decoder4(h))\n",
    "\n",
    "    def forward(self, x):\n",
    "        z = self.encoder(x.view(-1, self.input_dim))\n",
    "        return self.decoder(z)\n",
    "\n",
    "    @staticmethod\n",
    "    def loss_func(x_hat, x):\n",
    "        return F.mse_loss(x_hat, x, reduction='sum')"
   ]
  },
  {
   "cell_type": "code",
   "execution_count": 77,
   "id": "af66d7c4",
   "metadata": {},
   "outputs": [],
   "source": [
    "model = AutoEncoder(input_dim=X_train.shape[1]).to(device)"
   ]
  },
  {
   "cell_type": "markdown",
   "id": "e4f8256c",
   "metadata": {},
   "source": [
    "# Model training and evaluation"
   ]
  },
  {
   "cell_type": "code",
   "execution_count": 78,
   "id": "66781385",
   "metadata": {},
   "outputs": [
    {
     "name": "stdout",
     "output_type": "stream",
     "text": [
      "-- epoch 0 --, train MSE: 44260.364583333336, test MSE: 29194.3564453125\n",
      "-- epoch 10 --, train MSE: 39593.805338541664, test MSE: 26308.81689453125\n",
      "-- epoch 20 --, train MSE: 39588.291015625, test MSE: 26304.212890625\n",
      "-- epoch 30 --, train MSE: 39587.38671875, test MSE: 26304.10986328125\n",
      "-- epoch 40 --, train MSE: 39586.707356770836, test MSE: 26303.125\n",
      "-- epoch 50 --, train MSE: 39585.33984375, test MSE: 26302.9365234375\n",
      "-- epoch 60 --, train MSE: 39586.427083333336, test MSE: 26302.5400390625\n",
      "-- epoch 70 --, train MSE: 39585.864908854164, test MSE: 26301.70654296875\n",
      "-- epoch 80 --, train MSE: 39585.802083333336, test MSE: 26304.8603515625\n",
      "-- epoch 90 --, train MSE: 39585.104166666664, test MSE: 26301.88916015625\n",
      "-- epoch 100 --, train MSE: 39585.829427083336, test MSE: 26302.8427734375\n",
      "-- epoch 110 --, train MSE: 39584.932942708336, test MSE: 26300.4541015625\n",
      "-- epoch 120 --, train MSE: 39585.716796875, test MSE: 26301.87353515625\n",
      "-- epoch 130 --, train MSE: 39585.424479166664, test MSE: 26300.5283203125\n",
      "-- epoch 140 --, train MSE: 39584.330729166664, test MSE: 26303.5595703125\n",
      "-- epoch 150 --, train MSE: 39584.765299479164, test MSE: 26301.001953125\n",
      "-- epoch 160 --, train MSE: 39584.850260416664, test MSE: 26302.65625\n",
      "-- epoch 170 --, train MSE: 39548.327473958336, test MSE: 26275.52392578125\n",
      "-- epoch 180 --, train MSE: 39455.418619791664, test MSE: 26232.001953125\n",
      "-- epoch 190 --, train MSE: 39341.485026041664, test MSE: 26177.90380859375\n"
     ]
    }
   ],
   "source": [
    "optimizer = torch.optim.AdamW(model.parameters(), lr = 0.002)\n",
    "\n",
    "losses = []\n",
    "for epoch in range(200):\n",
    "\n",
    "    \"\"\" model training \"\"\"\n",
    "    model.train()\n",
    "    cur_rec_loss = []\n",
    "    for batch_idx, (data, _) in enumerate(trainloader):\n",
    "        data = data.to(device)\n",
    "        rec = model(data)\n",
    "        loss = model.loss_func(rec, data.reshape(data.shape[0], -1))\n",
    "\n",
    "        optimizer.zero_grad()\n",
    "        loss.backward()\n",
    "        optimizer.step()\n",
    "\n",
    "        cur_rec_loss.append(loss.item())\n",
    "    losses.append(np.mean(cur_rec_loss))\n",
    "\n",
    "    \"\"\" model evaluation \"\"\"\n",
    "    with torch.no_grad():\n",
    "        test_loss = []\n",
    "        for batch_idx, (data, _) in enumerate(testloader):\n",
    "            data = data.to(device)\n",
    "            rec = model(data)\n",
    "            loss = model.loss_func(rec, data)\n",
    "            test_loss.append(loss.item())\n",
    "\n",
    "    if epoch % 10 == 0:\n",
    "        print (f\"-- epoch {epoch} --, train MSE: {np.mean(cur_rec_loss)}, test MSE: {np.mean(test_loss)}\")"
   ]
  },
  {
   "cell_type": "markdown",
   "id": "89fdab20",
   "metadata": {},
   "source": [
    "# Draw Loss and Accuracy Curves"
   ]
  },
  {
   "cell_type": "code",
   "execution_count": 79,
   "id": "08dce77d",
   "metadata": {},
   "outputs": [
    {
     "data": {
      "text/plain": [
       "Text(0.5, 1.0, 'rec MSE loss')"
      ]
     },
     "execution_count": 79,
     "metadata": {},
     "output_type": "execute_result"
    },
    {
     "data": {
      "image/png": "[encoded data removed]",
      "text/plain": [
       "<Figure size 1000x400 with 1 Axes>"
      ]
     },
     "metadata": {},
     "output_type": "display_data"
    }
   ],
   "source": [
    "import matplotlib.pyplot as plt\n",
    "\n",
    "plt.figure(figsize=(10, 4))\n",
    "plt.subplot(121)\n",
    "plt.plot(losses)\n",
    "plt.title(\"rec MSE loss\")"
   ]
  },
  {
   "cell_type": "markdown",
   "id": "83062a8e",
   "metadata": {},
   "source": [
    "# Transform the data by using the trained model"
   ]
  },
  {
   "cell_type": "code",
   "execution_count": 80,
   "id": "73eb0a7d",
   "metadata": {},
   "outputs": [],
   "source": [
    "X_train = torch.tensor(X_train).to(device)\n",
    "X_test = torch.tensor(X_test).to(device)\n",
    "\n",
    "X_train_encoded = model.encoder(X_train).cpu().detach().numpy()\n",
    "X_test_encoded = model.encoder(X_test).cpu().detach().numpy()"
   ]
  },
  {
   "cell_type": "markdown",
   "id": "280207a9",
   "metadata": {},
   "source": [
    "# Classification by using the transformed data"
   ]
  },
  {
   "cell_type": "code",
   "execution_count": 81,
   "id": "8c7c70bc",
   "metadata": {},
   "outputs": [],
   "source": [
    "from sklearn.metrics import roc_auc_score, accuracy_score, recall_score, precision_score, f1_score\n",
    "def get_metrics(clf, is_svm=False):\n",
    "    y_true, y_pred = y_test, clf.predict(X_test_encoded)\n",
    "    y_prob = 0\n",
    "    if is_svm:\n",
    "        y_prob = clf.decision_function(X_test_encoded)\n",
    "    else:\n",
    "        y_prob = clf.predict_proba(X_test_encoded)\n",
    "    # Performance Metrics: AUC, ACC, Recall, Precision, F1_score\n",
    "    metrics = {\n",
    "    'ACC': accuracy_score(y_true, y_pred),\n",
    "    'Recall': recall_score(y_true, y_pred),\n",
    "    'Precision': precision_score(y_true, y_pred),\n",
    "    'F1_score': f1_score(y_true, y_pred),\n",
    "    }\n",
    "    if not is_svm:\n",
    "        metrics['AUC'] = roc_auc_score(y_true, y_prob[:, 1])\n",
    "    else:\n",
    "        metrics['AUC'] = roc_auc_score(y_true, y_prob)\n",
    "    return metrics"
   ]
  },
  {
   "cell_type": "code",
   "execution_count": 82,
   "id": "8c966999",
   "metadata": {},
   "outputs": [
    {
     "name": "stdout",
     "output_type": "stream",
     "text": [
      "{'ACC': 0.7659574468085106, 'Recall': 0.5416666666666666, 'Precision': 1.0, 'F1_score': 0.7027027027027027, 'AUC': 0.8097826086956521}\n"
     ]
    }
   ],
   "source": [
    "# SVM\n",
    "from sklearn.svm import SVC\n",
    "clf = SVC(kernel='linear')\n",
    "clf.fit(X_train_encoded, y_train)\n",
    "print(get_metrics(clf, is_svm=True))"
   ]
  },
  {
   "cell_type": "code",
   "execution_count": 83,
   "id": "5a3d4a29",
   "metadata": {},
   "outputs": [
    {
     "name": "stdout",
     "output_type": "stream",
     "text": [
      "{'ACC': 0.7872340425531915, 'Recall': 0.75, 'Precision': 0.8181818181818182, 'F1_score': 0.7826086956521738, 'AUC': 0.8342391304347826}\n"
     ]
    }
   ],
   "source": [
    "# Random Forest\n",
    "from sklearn.ensemble import RandomForestClassifier\n",
    "clf = RandomForestClassifier(n_estimators=100)\n",
    "clf.fit(X_train_encoded, y_train)\n",
    "print(get_metrics(clf))"
   ]
  },
  {
   "cell_type": "code",
   "execution_count": 84,
   "id": "4e032127",
   "metadata": {},
   "outputs": [
    {
     "name": "stdout",
     "output_type": "stream",
     "text": [
      "{'ACC': 0.7872340425531915, 'Recall': 0.5833333333333334, 'Precision': 1.0, 'F1_score': 0.7368421052631579, 'AUC': 0.822463768115942}\n"
     ]
    }
   ],
   "source": [
    "# Multi-layer Perceptron\n",
    "from sklearn.neural_network import MLPClassifier\n",
    "clf = MLPClassifier(hidden_layer_sizes=(100, 100), max_iter=1000)\n",
    "clf.fit(X_train_encoded, y_train)\n",
    "print(get_metrics(clf))"
   ]
  }
 ],
 "metadata": {
  "kernelspec": {
   "display_name": "Python 3",
   "language": "python",
   "name": "python3"
  },
  "language_info": {
   "codemirror_mode": {
    "name": "ipython",
    "version": 3
   },
   "file_extension": ".py",
   "mimetype": "text/x-python",
   "name": "python",
   "nbconvert_exporter": "python",
   "pygments_lexer": "ipython3",
   "version": "3.11.6"
  }
 },
 "nbformat": 4,
 "nbformat_minor": 5
}
