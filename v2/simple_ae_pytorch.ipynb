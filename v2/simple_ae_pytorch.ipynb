{
 "cells": [
  {
   "cell_type": "code",
   "execution_count": 1,
   "id": "initial_id",
   "metadata": {
    "ExecuteTime": {
     "end_time": "2024-04-27T05:03:17.301772Z",
     "start_time": "2024-04-27T05:03:17.287674Z"
    },
    "collapsed": true
   },
   "outputs": [],
   "source": [
    "import os\n",
    "import torch\n",
    "import torch.nn as nn\n",
    "import torch.nn.functional as F\n",
    "import torchvision\n",
    "# import cv2\n",
    "import numpy as np\n",
    "\n",
    "device = torch.device(\"cuda\" if torch.cuda.is_available() else \"cpu\")\n",
    "if torch.backends.mps.is_available():\n",
    "    device = torch.device(\"mps\")"
   ]
  },
  {
   "cell_type": "markdown",
   "id": "33452d43d28ea3c1",
   "metadata": {},
   "source": [
    "# Load Data"
   ]
  },
  {
   "cell_type": "code",
   "execution_count": 2,
   "id": "8fe644b7",
   "metadata": {},
   "outputs": [],
   "source": [
    "seed = 42"
   ]
  },
  {
   "cell_type": "code",
   "execution_count": 3,
   "id": "b69b8829",
   "metadata": {},
   "outputs": [],
   "source": [
    "from sklearn.model_selection import train_test_split\n",
    "import pandas as pd"
   ]
  },
  {
   "cell_type": "code",
   "execution_count": 4,
   "id": "197e75d0c64126b7",
   "metadata": {},
   "outputs": [
    {
     "name": "stderr",
     "output_type": "stream",
     "text": [
      "/var/folders/w2/bzjy3qrs24365t_51844lvjh0000gn/T/ipykernel_29503/2533103927.py:26: DtypeWarning: Columns (1,2,3,4,5,6,7,8,9,10,11,12,13,14,15,16,17,18,19,20,21,22,23,24,25,26,27,28,29,30,31,32,33,34,35,36,37,38,39,40,41,42,43,44,45,46,47,48,49,50,51,52,53,54,55,56,57,58,59,60,61,62,63,64,65,66,67,68,69,70,71,72,73,74,75,76,77,78,79,80,81,82,83,84,85,86,87,88,89,90,91,92,93,94,95,96,97,98,99,100,101,102,103,104,105,106,107,108,109,110,111,112,113,114,115,116,117,118,119,120,121,122,123,124,125,126,127,128,129,130,131,132,133,134,135,136,137,138,139,140,141,142,143,144,145,146,147,148,149,150,151,152,153,154,155,156,157,158,159,160,161,162,163,164,165,166,167,168,169,170,171,172,173,174,175,176,177,178,179,180,181,182,183,184,185,186,187,188,189,190,191,192,193,194,195,196,197,198,199,200,201,202,203,204,205,206,207,208,209,210,211,212,213,214,215,216,217,218,219,220,221,222,223,224,225,226,227,228,229,230,231,232) have mixed types. Specify dtype option on import or set low_memory=False.\n",
      "  raw = pd.read_csv(filename, sep='\\t', index_col=0, header=None)\n"
     ]
    },
    {
     "name": "stdout",
     "output_type": "stream",
     "text": [
      "Train data shape:  (185, 120553)\n",
      "Test data shape:  (47, 120553)\n"
     ]
    }
   ],
   "source": [
    "label_dict = {\n",
    "    # Controls\n",
    "    'n': 0,\n",
    "    # Chirrhosis\n",
    "    'cirrhosis': 1,\n",
    "    # Colorectal Cancer\n",
    "    'cancer': 1, 'small_adenoma': 0,\n",
    "    # IBD\n",
    "    'ibd_ulcerative_colitis': 1, 'ibd_crohn_disease': 1,\n",
    "    # T2D and WT2D\n",
    "    't2d': 1,\n",
    "    # Obesity\n",
    "    'leaness': 0, 'obesity': 1,\n",
    "}\n",
    "def loadData(data_dir, filename, dtype=None):\n",
    "    feature_string = ''\n",
    "    if filename.split('_')[0] == 'abundance':\n",
    "        feature_string = \"k__\"\n",
    "    if filename.split('_')[0] == 'marker':\n",
    "        feature_string = \"gi|\"\n",
    "    # read file\n",
    "    filename = data_dir + filename\n",
    "    if not os.path.isfile(filename):\n",
    "        print(\"FileNotFoundError: File {} does not exist\".format(filename))\n",
    "        exit()\n",
    "    raw = pd.read_csv(filename, sep='\\t', index_col=0, header=None)\n",
    "\n",
    "    # select rows having feature index identifier string\n",
    "    X = raw.loc[raw.index.str.contains(feature_string, regex=False)].T\n",
    "\n",
    "    # get class labels\n",
    "    Y = raw.loc['disease']\n",
    "    Y = Y.replace(label_dict)\n",
    "\n",
    "    # train and test split\n",
    "    X_train, X_test, y_train, y_test = train_test_split(X.values.astype(dtype), Y.values.astype('int'), test_size=0.2, random_state=seed, stratify=Y.values)\n",
    "    print(\"Train data shape: \", X_train.shape)\n",
    "    print(\"Test data shape: \", X_test.shape)\n",
    "    return X_train, X_test, y_train, y_test\n",
    "\n",
    "data_dir = '../data/marker/'\n",
    "data_string = 'marker_Cirrhosis.txt'\n",
    "X_train, X_test, y_train, y_test = loadData(data_dir, data_string, dtype='float32')"
   ]
  },
  {
   "cell_type": "code",
   "execution_count": 5,
   "id": "a2e4dc03",
   "metadata": {},
   "outputs": [],
   "source": [
    "trainloader = torch.utils.data.DataLoader(torch.utils.data.TensorDataset(torch.tensor(X_train), torch.tensor(y_train)), batch_size=32, shuffle=True)\n",
    "testloader = torch.utils.data.DataLoader(torch.utils.data.TensorDataset(torch.tensor(X_test), torch.tensor(y_test)), batch_size=32, shuffle=False)"
   ]
  },
  {
   "cell_type": "markdown",
   "id": "6d6342b0",
   "metadata": {},
   "source": [
    "# Define the AE model"
   ]
  },
  {
   "cell_type": "code",
   "execution_count": 6,
   "id": "f8ef333d",
   "metadata": {},
   "outputs": [],
   "source": [
    "class AutoEncoder(nn.Module):\n",
    "    def __init__(self, input_dim=28*28):\n",
    "        super(AutoEncoder, self).__init__()\n",
    "        self.input_dim = input_dim\n",
    "\n",
    "        # DNN as encoder\n",
    "        self.encoder1 = nn.Linear(input_dim, 128)\n",
    "        self.encoder2 = nn.Linear(128, 64)\n",
    "        self.encoder3 = nn.Linear(64, 32)\n",
    "        self.encoder4 = nn.Linear(32, 8)\n",
    "\n",
    "        # DNN as decoder\n",
    "        self.decoder1 = nn.Linear(8, 32)\n",
    "        self.decoder2 = nn.Linear(32, 64)\n",
    "        self.decoder3 = nn.Linear(64, 128)\n",
    "        self.decoder4 = nn.Linear(128, input_dim)\n",
    "\n",
    "    def encoder(self, x):\n",
    "        h = torch.tanh(self.encoder1(x))\n",
    "        h = torch.tanh(self.encoder2(h))\n",
    "        h = torch.tanh(self.encoder3(h))\n",
    "        return torch.tanh(self.encoder4(h))\n",
    "\n",
    "    def decoder(self, z):\n",
    "        h = torch.tanh(self.decoder1(z))\n",
    "        h = torch.tanh(self.decoder2(h))\n",
    "        h = torch.tanh(self.decoder3(h))\n",
    "        return torch.sigmoid(self.decoder4(h))\n",
    "\n",
    "    def forward(self, x):\n",
    "        z = self.encoder(x.view(-1, self.input_dim))\n",
    "        return self.decoder(z)\n",
    "\n",
    "    @staticmethod\n",
    "    def loss_func(x_hat, x):\n",
    "        return F.mse_loss(x_hat, x, reduction='sum')"
   ]
  },
  {
   "cell_type": "code",
   "execution_count": 7,
   "id": "af66d7c4",
   "metadata": {},
   "outputs": [],
   "source": [
    "model = AutoEncoder(input_dim=X_train.shape[1]).to(device)"
   ]
  },
  {
   "cell_type": "markdown",
   "id": "e4f8256c",
   "metadata": {},
   "source": [
    "# Model training and evaluation"
   ]
  },
  {
   "cell_type": "code",
   "execution_count": 8,
   "id": "66781385",
   "metadata": {},
   "outputs": [
    {
     "name": "stdout",
     "output_type": "stream",
     "text": [
      "-- epoch 0 --, train MSE: 877666.5, test MSE: 560997.0625\n",
      "-- epoch 10 --, train MSE: 266054.6822916667, test MSE: 202025.5859375\n",
      "-- epoch 20 --, train MSE: 264156.3333333333, test MSE: 200806.515625\n",
      "-- epoch 30 --, train MSE: 263891.1640625, test MSE: 200845.57421875\n",
      "-- epoch 40 --, train MSE: 263596.1848958333, test MSE: 200500.5078125\n",
      "-- epoch 50 --, train MSE: 263489.6119791667, test MSE: 200435.8515625\n",
      "-- epoch 60 --, train MSE: 263486.0546875, test MSE: 200532.23828125\n",
      "-- epoch 70 --, train MSE: 263509.2447916667, test MSE: 200444.25\n",
      "-- epoch 80 --, train MSE: 263461.9192708333, test MSE: 200577.140625\n",
      "-- epoch 90 --, train MSE: 263445.34375, test MSE: 200364.15625\n",
      "-- epoch 100 --, train MSE: 263387.3619791667, test MSE: 200551.30078125\n",
      "-- epoch 110 --, train MSE: 263451.7109375, test MSE: 200449.953125\n",
      "-- epoch 120 --, train MSE: 263414.1666666667, test MSE: 200421.12890625\n",
      "-- epoch 130 --, train MSE: 263417.9453125, test MSE: 200550.84765625\n",
      "-- epoch 140 --, train MSE: 263409.6796875, test MSE: 200570.60546875\n",
      "-- epoch 150 --, train MSE: 263365.671875, test MSE: 200469.3203125\n",
      "-- epoch 160 --, train MSE: 263389.6666666667, test MSE: 200573.5234375\n",
      "-- epoch 170 --, train MSE: 263365.1458333333, test MSE: 200511.609375\n",
      "-- epoch 180 --, train MSE: 263461.3151041667, test MSE: 200549.171875\n",
      "-- epoch 190 --, train MSE: 260291.3828125, test MSE: 198198.4453125\n"
     ]
    }
   ],
   "source": [
    "optimizer = torch.optim.AdamW(model.parameters(), lr = 0.002)\n",
    "\n",
    "losses = []\n",
    "for epoch in range(200):\n",
    "\n",
    "    \"\"\" model training \"\"\"\n",
    "    model.train()\n",
    "    cur_rec_loss = []\n",
    "    for batch_idx, (data, _) in enumerate(trainloader):\n",
    "        data = data.to(device)\n",
    "        rec = model(data)\n",
    "        loss = model.loss_func(rec, data.reshape(data.shape[0], -1))\n",
    "\n",
    "        optimizer.zero_grad()\n",
    "        loss.backward()\n",
    "        optimizer.step()\n",
    "\n",
    "        cur_rec_loss.append(loss.item())\n",
    "    losses.append(np.mean(cur_rec_loss))\n",
    "\n",
    "    \"\"\" model evaluation \"\"\"\n",
    "    with torch.no_grad():\n",
    "        test_loss = []\n",
    "        for batch_idx, (data, _) in enumerate(testloader):\n",
    "            data = data.to(device)\n",
    "            rec = model(data)\n",
    "            loss = model.loss_func(rec, data)\n",
    "            test_loss.append(loss.item())\n",
    "\n",
    "    if epoch % 10 == 0:\n",
    "        print (f\"-- epoch {epoch} --, train MSE: {np.mean(cur_rec_loss)}, test MSE: {np.mean(test_loss)}\")"
   ]
  },
  {
   "cell_type": "markdown",
   "id": "89fdab20",
   "metadata": {},
   "source": [
    "# Draw Loss and Accuracy Curves"
   ]
  },
  {
   "cell_type": "code",
   "execution_count": 9,
   "id": "08dce77d",
   "metadata": {},
   "outputs": [
    {
     "data": {
      "text/plain": [
       "Text(0.5, 1.0, 'rec MSE loss')"
      ]
     },
     "execution_count": 9,
     "metadata": {},
     "output_type": "execute_result"
    },
    {
     "data": {
      "image/png": "[encoded data removed]",
      "text/plain": [
       "<Figure size 1000x400 with 1 Axes>"
      ]
     },
     "metadata": {},
     "output_type": "display_data"
    }
   ],
   "source": [
    "import matplotlib.pyplot as plt\n",
    "\n",
    "plt.figure(figsize=(10, 4))\n",
    "plt.subplot(121)\n",
    "plt.plot(losses)\n",
    "plt.title(\"rec MSE loss\")"
   ]
  },
  {
   "cell_type": "markdown",
   "id": "83062a8e",
   "metadata": {},
   "source": [
    "# Transform the data by using the trained model"
   ]
  },
  {
   "cell_type": "code",
   "execution_count": 10,
   "id": "73eb0a7d",
   "metadata": {},
   "outputs": [],
   "source": [
    "X_train = torch.tensor(X_train).to(device)\n",
    "X_test = torch.tensor(X_test).to(device)\n",
    "\n",
    "X_train_encoded = model.encoder(X_train).cpu().detach().numpy()\n",
    "X_test_encoded = model.encoder(X_test).cpu().detach().numpy()"
   ]
  },
  {
   "cell_type": "markdown",
   "id": "280207a9",
   "metadata": {},
   "source": [
    "# Classification by using the transformed data"
   ]
  },
  {
   "cell_type": "code",
   "execution_count": 11,
   "id": "8c7c70bc",
   "metadata": {},
   "outputs": [],
   "source": [
    "from sklearn.metrics import roc_auc_score, accuracy_score, recall_score, precision_score, f1_score\n",
    "def get_metrics(clf, is_svm=False):\n",
    "    y_true, y_pred = y_test, clf.predict(X_test_encoded)\n",
    "    y_prob = 0\n",
    "    if is_svm:\n",
    "        y_prob = clf.decision_function(X_test_encoded)\n",
    "    else:\n",
    "        y_prob = clf.predict_proba(X_test_encoded)\n",
    "    # Performance Metrics: AUC, ACC, Recall, Precision, F1_score\n",
    "    metrics = {\n",
    "    'ACC': accuracy_score(y_true, y_pred),\n",
    "    'Recall': recall_score(y_true, y_pred),\n",
    "    'Precision': precision_score(y_true, y_pred),\n",
    "    'F1_score': f1_score(y_true, y_pred),\n",
    "    }\n",
    "    if not is_svm:\n",
    "        metrics['AUC'] = roc_auc_score(y_true, y_prob[:, 1])\n",
    "    else:\n",
    "        metrics['AUC'] = roc_auc_score(y_true, y_prob)\n",
    "    return metrics"
   ]
  },
  {
   "cell_type": "code",
   "execution_count": 12,
   "id": "8c966999",
   "metadata": {},
   "outputs": [
    {
     "name": "stdout",
     "output_type": "stream",
     "text": [
      "{'ACC': 0.8723404255319149, 'Recall': 0.875, 'Precision': 0.875, 'F1_score': 0.875, 'AUC': 0.917572463768116}\n"
     ]
    }
   ],
   "source": [
    "# SVM\n",
    "from sklearn.svm import SVC\n",
    "clf = SVC(kernel='linear')\n",
    "clf.fit(X_train_encoded, y_train)\n",
    "print(get_metrics(clf, is_svm=True))"
   ]
  },
  {
   "cell_type": "code",
   "execution_count": 13,
   "id": "5a3d4a29",
   "metadata": {},
   "outputs": [
    {
     "name": "stdout",
     "output_type": "stream",
     "text": [
      "{'ACC': 0.8936170212765957, 'Recall': 0.875, 'Precision': 0.9130434782608695, 'F1_score': 0.8936170212765957, 'AUC': 0.931159420289855}\n"
     ]
    }
   ],
   "source": [
    "# Random Forest\n",
    "from sklearn.ensemble import RandomForestClassifier\n",
    "clf = RandomForestClassifier(n_estimators=100)\n",
    "clf.fit(X_train_encoded, y_train)\n",
    "print(get_metrics(clf))"
   ]
  },
  {
   "cell_type": "code",
   "execution_count": 14,
   "id": "4e032127",
   "metadata": {},
   "outputs": [
    {
     "name": "stdout",
     "output_type": "stream",
     "text": [
      "{'ACC': 0.8723404255319149, 'Recall': 0.875, 'Precision': 0.875, 'F1_score': 0.875, 'AUC': 0.917572463768116}\n"
     ]
    }
   ],
   "source": [
    "# Multi-layer Perceptron\n",
    "from sklearn.neural_network import MLPClassifier\n",
    "clf = MLPClassifier(hidden_layer_sizes=(100, 100), max_iter=1000)\n",
    "clf.fit(X_train_encoded, y_train)\n",
    "print(get_metrics(clf))"
   ]
  }
 ],
 "metadata": {
  "kernelspec": {
   "display_name": "Python 3",
   "language": "python",
   "name": "python3"
  },
  "language_info": {
   "codemirror_mode": {
    "name": "ipython",
    "version": 3
   },
   "file_extension": ".py",
   "mimetype": "text/x-python",
   "name": "python",
   "nbconvert_exporter": "python",
   "pygments_lexer": "ipython3",
   "version": "3.11.6"
  }
 },
 "nbformat": 4,
 "nbformat_minor": 5
}
