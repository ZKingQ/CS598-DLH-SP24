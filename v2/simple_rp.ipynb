{
 "cells": [
  {
   "cell_type": "code",
   "execution_count": 1,
   "id": "initial_id",
   "metadata": {
    "ExecuteTime": {
     "end_time": "2024-04-27T05:03:17.301772Z",
     "start_time": "2024-04-27T05:03:17.287674Z"
    },
    "collapsed": true
   },
   "outputs": [],
   "source": [
    "import os\n",
    "import torch\n",
    "import torch.nn as nn\n",
    "import torch.nn.functional as F\n",
    "import torchvision\n",
    "# import cv2\n",
    "import numpy as np\n",
    "\n",
    "device = torch.device(\"cuda\" if torch.cuda.is_available() else \"cpu\")\n",
    "if torch.backends.mps.is_available():\n",
    "    device = torch.device(\"mps\")"
   ]
  },
  {
   "cell_type": "markdown",
   "id": "33452d43d28ea3c1",
   "metadata": {},
   "source": [
    "# Load Data"
   ]
  },
  {
   "cell_type": "code",
   "execution_count": 2,
   "id": "8fe644b7",
   "metadata": {},
   "outputs": [],
   "source": [
    "seed = 42"
   ]
  },
  {
   "cell_type": "code",
   "execution_count": 3,
   "id": "b69b8829",
   "metadata": {},
   "outputs": [],
   "source": [
    "from sklearn.model_selection import train_test_split\n",
    "import pandas as pd"
   ]
  },
  {
   "cell_type": "code",
   "execution_count": 4,
   "id": "197e75d0c64126b7",
   "metadata": {},
   "outputs": [
    {
     "name": "stdout",
     "output_type": "stream",
     "text": [
      "Train data shape:  (185, 542)\n",
      "Test data shape:  (47, 542)\n"
     ]
    }
   ],
   "source": [
    "label_dict = {\n",
    "    # Controls\n",
    "    'n': 0,\n",
    "    # Chirrhosis\n",
    "    'cirrhosis': 1,\n",
    "    # Colorectal Cancer\n",
    "    'cancer': 1, 'small_adenoma': 0,\n",
    "    # IBD\n",
    "    'ibd_ulcerative_colitis': 1, 'ibd_crohn_disease': 1,\n",
    "    # T2D and WT2D\n",
    "    't2d': 1,\n",
    "    # Obesity\n",
    "    'leaness': 0, 'obesity': 1,\n",
    "}\n",
    "def loadData(data_dir, filename, dtype=None):\n",
    "    feature_string = ''\n",
    "    if filename.split('_')[0] == 'abundance':\n",
    "        feature_string = \"k__\"\n",
    "    if filename.split('_')[0] == 'marker':\n",
    "        feature_string = \"gi|\"\n",
    "    # read file\n",
    "    filename = data_dir + filename\n",
    "    if not os.path.isfile(filename):\n",
    "        print(\"FileNotFoundError: File {} does not exist\".format(filename))\n",
    "        exit()\n",
    "    raw = pd.read_csv(filename, sep='\\t', index_col=0, header=None)\n",
    "\n",
    "    # select rows having feature index identifier string\n",
    "    X = raw.loc[raw.index.str.contains(feature_string, regex=False)].T\n",
    "\n",
    "    # get class labels\n",
    "    Y = raw.loc['disease']\n",
    "    Y = Y.replace(label_dict)\n",
    "\n",
    "    # train and test split\n",
    "    X_train, X_test, y_train, y_test = train_test_split(X.values.astype(dtype), Y.values.astype('int'), test_size=0.2, random_state=seed, stratify=Y.values)\n",
    "    print(\"Train data shape: \", X_train.shape)\n",
    "    print(\"Test data shape: \", X_test.shape)\n",
    "    return X_train, X_test, y_train, y_test\n",
    "\n",
    "data_dir = '../data/abundance/'\n",
    "data_string = 'abundance_Cirrhosis.txt'\n",
    "X_train, X_test, y_train, y_test = loadData(data_dir, data_string, dtype='float32')"
   ]
  },
  {
   "cell_type": "markdown",
   "id": "900649a2",
   "metadata": {},
   "source": [
    "# Define Gausian Random Projection"
   ]
  },
  {
   "cell_type": "code",
   "execution_count": 5,
   "id": "d4ab6112",
   "metadata": {},
   "outputs": [],
   "source": [
    "from sklearn.random_projection import GaussianRandomProjection\n",
    "rf = GaussianRandomProjection(eps=0.5)\n",
    "rf.fit(X_train)\n",
    "X_train_grp = rf.transform(X_train)\n",
    "X_test_grp = rf.transform(X_test)"
   ]
  },
  {
   "cell_type": "markdown",
   "id": "280207a9",
   "metadata": {},
   "source": [
    "# Classification by using the transformed data"
   ]
  },
  {
   "cell_type": "code",
   "execution_count": 6,
   "id": "8c7c70bc",
   "metadata": {},
   "outputs": [],
   "source": [
    "from sklearn.metrics import roc_auc_score, accuracy_score, recall_score, precision_score, f1_score\n",
    "def get_metrics(clf, is_svm=False):\n",
    "    y_true, y_pred = y_test, clf.predict(X_test_grp)\n",
    "    y_prob = 0\n",
    "    if is_svm:\n",
    "        y_prob = clf.decision_function(X_test_grp)\n",
    "    else:\n",
    "        y_prob = clf.predict_proba(X_test_grp)\n",
    "    # Performance Metrics: AUC, ACC, Recall, Precision, F1_score\n",
    "    metrics = {\n",
    "    'ACC': accuracy_score(y_true, y_pred),\n",
    "    'Recall': recall_score(y_true, y_pred),\n",
    "    'Precision': precision_score(y_true, y_pred),\n",
    "    'F1_score': f1_score(y_true, y_pred),\n",
    "    }\n",
    "    if not is_svm:\n",
    "        metrics['AUC'] = roc_auc_score(y_true, y_prob[:, 1])\n",
    "    else:\n",
    "        metrics['AUC'] = roc_auc_score(y_true, y_prob)\n",
    "    return metrics"
   ]
  },
  {
   "cell_type": "code",
   "execution_count": 7,
   "id": "8c966999",
   "metadata": {},
   "outputs": [
    {
     "name": "stdout",
     "output_type": "stream",
     "text": [
      "{'ACC': 0.7021276595744681, 'Recall': 0.625, 'Precision': 0.75, 'F1_score': 0.6818181818181818, 'AUC': 0.6702898550724637}\n"
     ]
    }
   ],
   "source": [
    "# SVM\n",
    "from sklearn.svm import SVC\n",
    "clf = SVC(kernel='linear')\n",
    "clf.fit(X_train_grp, y_train)\n",
    "print(get_metrics(clf, is_svm=True))"
   ]
  },
  {
   "cell_type": "code",
   "execution_count": 8,
   "id": "5a3d4a29",
   "metadata": {},
   "outputs": [
    {
     "name": "stdout",
     "output_type": "stream",
     "text": [
      "{'ACC': 0.6808510638297872, 'Recall': 0.6666666666666666, 'Precision': 0.6956521739130435, 'F1_score': 0.6808510638297872, 'AUC': 0.7690217391304347}\n"
     ]
    }
   ],
   "source": [
    "# Random Forest\n",
    "from sklearn.ensemble import RandomForestClassifier\n",
    "clf = RandomForestClassifier(n_estimators=100)\n",
    "clf.fit(X_train_grp, y_train)\n",
    "print(get_metrics(clf))"
   ]
  },
  {
   "cell_type": "code",
   "execution_count": 9,
   "id": "4e032127",
   "metadata": {},
   "outputs": [
    {
     "name": "stdout",
     "output_type": "stream",
     "text": [
      "{'ACC': 0.6808510638297872, 'Recall': 0.5416666666666666, 'Precision': 0.7647058823529411, 'F1_score': 0.6341463414634146, 'AUC': 0.7608695652173914}\n"
     ]
    }
   ],
   "source": [
    "# Multi-layer Perceptron\n",
    "from sklearn.neural_network import MLPClassifier\n",
    "clf = MLPClassifier(hidden_layer_sizes=(100, 100), max_iter=1000)\n",
    "clf.fit(X_train_grp, y_train)\n",
    "print(get_metrics(clf))"
   ]
  },
  {
   "cell_type": "code",
   "execution_count": null,
   "id": "7a3dff0f",
   "metadata": {},
   "outputs": [],
   "source": []
  }
 ],
 "metadata": {
  "kernelspec": {
   "display_name": "Python 3",
   "language": "python",
   "name": "python3"
  },
  "language_info": {
   "codemirror_mode": {
    "name": "ipython",
    "version": 3
   },
   "file_extension": ".py",
   "mimetype": "text/x-python",
   "name": "python",
   "nbconvert_exporter": "python",
   "pygments_lexer": "ipython3",
   "version": "3.11.6"
  }
 },
 "nbformat": 4,
 "nbformat_minor": 5
}
